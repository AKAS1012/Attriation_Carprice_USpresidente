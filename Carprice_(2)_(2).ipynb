{
  "nbformat": 4,
  "nbformat_minor": 0,
  "metadata": {
    "kernelspec": {
      "display_name": "Python",
      "language": "python",
      "name": "conda-env-python-py"
    },
    "language_info": {
      "codemirror_mode": {
        "name": "ipython",
        "version": 3
      },
      "file_extension": ".py",
      "mimetype": "text/x-python",
      "name": "python",
      "nbconvert_exporter": "python",
      "pygments_lexer": "ipython3",
      "version": "3.6.11"
    },
    "colab": {
      "name": "Carprice (2) (2).ipynb",
      "provenance": [],
      "include_colab_link": true
    }
  },
  "cells": [
    {
      "cell_type": "markdown",
      "metadata": {
        "id": "view-in-github",
        "colab_type": "text"
      },
      "source": [
        "<a href=\"https://colab.research.google.com/github/AKAS1012/Attriation_Carprice_USpresidente/blob/master/Carprice_(2)_(2).ipynb\" target=\"_parent\"><img src=\"https://colab.research.google.com/assets/colab-badge.svg\" alt=\"Open In Colab\"/></a>"
      ]
    },
    {
      "cell_type": "markdown",
      "metadata": {
        "id": "gRJSi9AVZGRr",
        "colab_type": "text"
      },
      "source": [
        "\n",
        "\n",
        "# Linear Regression"
      ]
    },
    {
      "cell_type": "code",
      "metadata": {
        "id": "3Hg8jgQ4ZGRx",
        "colab_type": "code",
        "colab": {}
      },
      "source": [
        "import pandas as pd\n",
        "import numpy as np\n",
        "import matplotlib.pyplot as plt\n",
        "import seaborn as sns"
      ],
      "execution_count": null,
      "outputs": []
    },
    {
      "cell_type": "code",
      "metadata": {
        "id": "KTQxTH4uZGSD",
        "colab_type": "code",
        "colab": {}
      },
      "source": [
        "Pri = pd.read_csv(r\"car_price.csv - car_price.csv.csv\")"
      ],
      "execution_count": null,
      "outputs": []
    },
    {
      "cell_type": "code",
      "metadata": {
        "id": "lWQKyI_IZGSR",
        "colab_type": "code",
        "colab": {}
      },
      "source": [
        "Pri = Pri.replace({\"?\"},None)"
      ],
      "execution_count": null,
      "outputs": []
    },
    {
      "cell_type": "code",
      "metadata": {
        "id": "Hwi9XWkFZGSf",
        "colab_type": "code",
        "colab": {},
        "outputId": "ae6be622-877a-4c32-e26b-959edbaf6779"
      },
      "source": [
        "Pri.head(20)"
      ],
      "execution_count": null,
      "outputs": [
        {
          "output_type": "execute_result",
          "data": {
            "text/html": [
              "<div>\n",
              "<style scoped>\n",
              "    .dataframe tbody tr th:only-of-type {\n",
              "        vertical-align: middle;\n",
              "    }\n",
              "\n",
              "    .dataframe tbody tr th {\n",
              "        vertical-align: top;\n",
              "    }\n",
              "\n",
              "    .dataframe thead th {\n",
              "        text-align: right;\n",
              "    }\n",
              "</style>\n",
              "<table border=\"1\" class=\"dataframe\">\n",
              "  <thead>\n",
              "    <tr style=\"text-align: right;\">\n",
              "      <th></th>\n",
              "      <th>symboling</th>\n",
              "      <th>normalized_losses</th>\n",
              "      <th>make</th>\n",
              "      <th>fuel_type</th>\n",
              "      <th>aspiration</th>\n",
              "      <th>num_of_doors</th>\n",
              "      <th>body_style</th>\n",
              "      <th>drive_wheels</th>\n",
              "      <th>engine_location</th>\n",
              "      <th>wheel_base</th>\n",
              "      <th>...</th>\n",
              "      <th>engine_size</th>\n",
              "      <th>fuel_system</th>\n",
              "      <th>bore</th>\n",
              "      <th>stroke</th>\n",
              "      <th>compression_ratio</th>\n",
              "      <th>horsepower</th>\n",
              "      <th>peak_rpm</th>\n",
              "      <th>city_mpg</th>\n",
              "      <th>highway_mpg</th>\n",
              "      <th>price</th>\n",
              "    </tr>\n",
              "  </thead>\n",
              "  <tbody>\n",
              "    <tr>\n",
              "      <th>0</th>\n",
              "      <td>3</td>\n",
              "      <td>?</td>\n",
              "      <td>gas</td>\n",
              "      <td>std</td>\n",
              "      <td>two</td>\n",
              "      <td>convertible</td>\n",
              "      <td>rwd</td>\n",
              "      <td>front</td>\n",
              "      <td>88.6</td>\n",
              "      <td>alfa-romero</td>\n",
              "      <td>...</td>\n",
              "      <td>130</td>\n",
              "      <td>mpfi</td>\n",
              "      <td>3.47</td>\n",
              "      <td>2.68</td>\n",
              "      <td>9.0</td>\n",
              "      <td>111</td>\n",
              "      <td>5000</td>\n",
              "      <td>21</td>\n",
              "      <td>27</td>\n",
              "      <td>13495</td>\n",
              "    </tr>\n",
              "    <tr>\n",
              "      <th>1</th>\n",
              "      <td>3</td>\n",
              "      <td>?</td>\n",
              "      <td>gas</td>\n",
              "      <td>std</td>\n",
              "      <td>two</td>\n",
              "      <td>convertible</td>\n",
              "      <td>rwd</td>\n",
              "      <td>front</td>\n",
              "      <td>88.6</td>\n",
              "      <td>alfa-romero</td>\n",
              "      <td>...</td>\n",
              "      <td>130</td>\n",
              "      <td>mpfi</td>\n",
              "      <td>3.47</td>\n",
              "      <td>2.68</td>\n",
              "      <td>9.0</td>\n",
              "      <td>111</td>\n",
              "      <td>5000</td>\n",
              "      <td>21</td>\n",
              "      <td>27</td>\n",
              "      <td>16500</td>\n",
              "    </tr>\n",
              "    <tr>\n",
              "      <th>2</th>\n",
              "      <td>1</td>\n",
              "      <td>?</td>\n",
              "      <td>gas</td>\n",
              "      <td>std</td>\n",
              "      <td>two</td>\n",
              "      <td>hatchback</td>\n",
              "      <td>rwd</td>\n",
              "      <td>front</td>\n",
              "      <td>94.5</td>\n",
              "      <td>alfa-romero</td>\n",
              "      <td>...</td>\n",
              "      <td>152</td>\n",
              "      <td>mpfi</td>\n",
              "      <td>2.68</td>\n",
              "      <td>3.47</td>\n",
              "      <td>9.0</td>\n",
              "      <td>154</td>\n",
              "      <td>5000</td>\n",
              "      <td>19</td>\n",
              "      <td>26</td>\n",
              "      <td>16500</td>\n",
              "    </tr>\n",
              "    <tr>\n",
              "      <th>3</th>\n",
              "      <td>2</td>\n",
              "      <td>164</td>\n",
              "      <td>gas</td>\n",
              "      <td>std</td>\n",
              "      <td>four</td>\n",
              "      <td>sedan</td>\n",
              "      <td>fwd</td>\n",
              "      <td>front</td>\n",
              "      <td>99.8</td>\n",
              "      <td>audi</td>\n",
              "      <td>...</td>\n",
              "      <td>109</td>\n",
              "      <td>mpfi</td>\n",
              "      <td>3.19</td>\n",
              "      <td>3.4</td>\n",
              "      <td>10.0</td>\n",
              "      <td>102</td>\n",
              "      <td>5500</td>\n",
              "      <td>24</td>\n",
              "      <td>30</td>\n",
              "      <td>13950</td>\n",
              "    </tr>\n",
              "    <tr>\n",
              "      <th>4</th>\n",
              "      <td>2</td>\n",
              "      <td>164</td>\n",
              "      <td>gas</td>\n",
              "      <td>std</td>\n",
              "      <td>four</td>\n",
              "      <td>sedan</td>\n",
              "      <td>4wd</td>\n",
              "      <td>front</td>\n",
              "      <td>99.4</td>\n",
              "      <td>audi</td>\n",
              "      <td>...</td>\n",
              "      <td>136</td>\n",
              "      <td>mpfi</td>\n",
              "      <td>3.19</td>\n",
              "      <td>3.4</td>\n",
              "      <td>8.0</td>\n",
              "      <td>115</td>\n",
              "      <td>5500</td>\n",
              "      <td>18</td>\n",
              "      <td>22</td>\n",
              "      <td>17450</td>\n",
              "    </tr>\n",
              "    <tr>\n",
              "      <th>5</th>\n",
              "      <td>2</td>\n",
              "      <td>?</td>\n",
              "      <td>gas</td>\n",
              "      <td>std</td>\n",
              "      <td>two</td>\n",
              "      <td>sedan</td>\n",
              "      <td>fwd</td>\n",
              "      <td>front</td>\n",
              "      <td>99.8</td>\n",
              "      <td>audi</td>\n",
              "      <td>...</td>\n",
              "      <td>136</td>\n",
              "      <td>mpfi</td>\n",
              "      <td>3.19</td>\n",
              "      <td>3.4</td>\n",
              "      <td>8.5</td>\n",
              "      <td>110</td>\n",
              "      <td>5500</td>\n",
              "      <td>19</td>\n",
              "      <td>25</td>\n",
              "      <td>15250</td>\n",
              "    </tr>\n",
              "    <tr>\n",
              "      <th>6</th>\n",
              "      <td>1</td>\n",
              "      <td>158</td>\n",
              "      <td>gas</td>\n",
              "      <td>std</td>\n",
              "      <td>four</td>\n",
              "      <td>sedan</td>\n",
              "      <td>fwd</td>\n",
              "      <td>front</td>\n",
              "      <td>105.8</td>\n",
              "      <td>audi</td>\n",
              "      <td>...</td>\n",
              "      <td>136</td>\n",
              "      <td>mpfi</td>\n",
              "      <td>3.19</td>\n",
              "      <td>3.4</td>\n",
              "      <td>8.5</td>\n",
              "      <td>110</td>\n",
              "      <td>5500</td>\n",
              "      <td>19</td>\n",
              "      <td>25</td>\n",
              "      <td>17710</td>\n",
              "    </tr>\n",
              "    <tr>\n",
              "      <th>7</th>\n",
              "      <td>1</td>\n",
              "      <td>?</td>\n",
              "      <td>gas</td>\n",
              "      <td>std</td>\n",
              "      <td>four</td>\n",
              "      <td>wagon</td>\n",
              "      <td>fwd</td>\n",
              "      <td>front</td>\n",
              "      <td>105.8</td>\n",
              "      <td>audi</td>\n",
              "      <td>...</td>\n",
              "      <td>136</td>\n",
              "      <td>mpfi</td>\n",
              "      <td>3.19</td>\n",
              "      <td>3.4</td>\n",
              "      <td>8.5</td>\n",
              "      <td>110</td>\n",
              "      <td>5500</td>\n",
              "      <td>19</td>\n",
              "      <td>25</td>\n",
              "      <td>18920</td>\n",
              "    </tr>\n",
              "    <tr>\n",
              "      <th>8</th>\n",
              "      <td>1</td>\n",
              "      <td>158</td>\n",
              "      <td>gas</td>\n",
              "      <td>turbo</td>\n",
              "      <td>four</td>\n",
              "      <td>sedan</td>\n",
              "      <td>fwd</td>\n",
              "      <td>front</td>\n",
              "      <td>105.8</td>\n",
              "      <td>audi</td>\n",
              "      <td>...</td>\n",
              "      <td>131</td>\n",
              "      <td>mpfi</td>\n",
              "      <td>3.13</td>\n",
              "      <td>3.4</td>\n",
              "      <td>8.3</td>\n",
              "      <td>140</td>\n",
              "      <td>5500</td>\n",
              "      <td>17</td>\n",
              "      <td>20</td>\n",
              "      <td>23875</td>\n",
              "    </tr>\n",
              "    <tr>\n",
              "      <th>9</th>\n",
              "      <td>0</td>\n",
              "      <td>?</td>\n",
              "      <td>gas</td>\n",
              "      <td>turbo</td>\n",
              "      <td>two</td>\n",
              "      <td>hatchback</td>\n",
              "      <td>4wd</td>\n",
              "      <td>front</td>\n",
              "      <td>99.5</td>\n",
              "      <td>audi</td>\n",
              "      <td>...</td>\n",
              "      <td>131</td>\n",
              "      <td>mpfi</td>\n",
              "      <td>3.13</td>\n",
              "      <td>3.4</td>\n",
              "      <td>7.0</td>\n",
              "      <td>160</td>\n",
              "      <td>5500</td>\n",
              "      <td>16</td>\n",
              "      <td>22</td>\n",
              "      <td>?</td>\n",
              "    </tr>\n",
              "    <tr>\n",
              "      <th>10</th>\n",
              "      <td>2</td>\n",
              "      <td>192</td>\n",
              "      <td>gas</td>\n",
              "      <td>std</td>\n",
              "      <td>two</td>\n",
              "      <td>sedan</td>\n",
              "      <td>rwd</td>\n",
              "      <td>front</td>\n",
              "      <td>101.2</td>\n",
              "      <td>bmw</td>\n",
              "      <td>...</td>\n",
              "      <td>108</td>\n",
              "      <td>mpfi</td>\n",
              "      <td>3.5</td>\n",
              "      <td>2.8</td>\n",
              "      <td>8.8</td>\n",
              "      <td>101</td>\n",
              "      <td>5800</td>\n",
              "      <td>23</td>\n",
              "      <td>29</td>\n",
              "      <td>16430</td>\n",
              "    </tr>\n",
              "    <tr>\n",
              "      <th>11</th>\n",
              "      <td>0</td>\n",
              "      <td>192</td>\n",
              "      <td>gas</td>\n",
              "      <td>std</td>\n",
              "      <td>four</td>\n",
              "      <td>sedan</td>\n",
              "      <td>rwd</td>\n",
              "      <td>front</td>\n",
              "      <td>101.2</td>\n",
              "      <td>bmw</td>\n",
              "      <td>...</td>\n",
              "      <td>108</td>\n",
              "      <td>mpfi</td>\n",
              "      <td>3.5</td>\n",
              "      <td>2.8</td>\n",
              "      <td>8.8</td>\n",
              "      <td>101</td>\n",
              "      <td>5800</td>\n",
              "      <td>23</td>\n",
              "      <td>29</td>\n",
              "      <td>16925</td>\n",
              "    </tr>\n",
              "    <tr>\n",
              "      <th>12</th>\n",
              "      <td>0</td>\n",
              "      <td>188</td>\n",
              "      <td>gas</td>\n",
              "      <td>std</td>\n",
              "      <td>two</td>\n",
              "      <td>sedan</td>\n",
              "      <td>rwd</td>\n",
              "      <td>front</td>\n",
              "      <td>101.2</td>\n",
              "      <td>bmw</td>\n",
              "      <td>...</td>\n",
              "      <td>164</td>\n",
              "      <td>mpfi</td>\n",
              "      <td>3.31</td>\n",
              "      <td>3.19</td>\n",
              "      <td>9.0</td>\n",
              "      <td>121</td>\n",
              "      <td>4250</td>\n",
              "      <td>21</td>\n",
              "      <td>28</td>\n",
              "      <td>20970</td>\n",
              "    </tr>\n",
              "    <tr>\n",
              "      <th>13</th>\n",
              "      <td>0</td>\n",
              "      <td>188</td>\n",
              "      <td>gas</td>\n",
              "      <td>std</td>\n",
              "      <td>four</td>\n",
              "      <td>sedan</td>\n",
              "      <td>rwd</td>\n",
              "      <td>front</td>\n",
              "      <td>101.2</td>\n",
              "      <td>bmw</td>\n",
              "      <td>...</td>\n",
              "      <td>164</td>\n",
              "      <td>mpfi</td>\n",
              "      <td>3.31</td>\n",
              "      <td>3.19</td>\n",
              "      <td>9.0</td>\n",
              "      <td>121</td>\n",
              "      <td>4250</td>\n",
              "      <td>21</td>\n",
              "      <td>28</td>\n",
              "      <td>21105</td>\n",
              "    </tr>\n",
              "    <tr>\n",
              "      <th>14</th>\n",
              "      <td>1</td>\n",
              "      <td>?</td>\n",
              "      <td>gas</td>\n",
              "      <td>std</td>\n",
              "      <td>four</td>\n",
              "      <td>sedan</td>\n",
              "      <td>rwd</td>\n",
              "      <td>front</td>\n",
              "      <td>103.5</td>\n",
              "      <td>bmw</td>\n",
              "      <td>...</td>\n",
              "      <td>164</td>\n",
              "      <td>mpfi</td>\n",
              "      <td>3.31</td>\n",
              "      <td>3.19</td>\n",
              "      <td>9.0</td>\n",
              "      <td>121</td>\n",
              "      <td>4250</td>\n",
              "      <td>20</td>\n",
              "      <td>25</td>\n",
              "      <td>24565</td>\n",
              "    </tr>\n",
              "    <tr>\n",
              "      <th>15</th>\n",
              "      <td>0</td>\n",
              "      <td>?</td>\n",
              "      <td>gas</td>\n",
              "      <td>std</td>\n",
              "      <td>four</td>\n",
              "      <td>sedan</td>\n",
              "      <td>rwd</td>\n",
              "      <td>front</td>\n",
              "      <td>103.5</td>\n",
              "      <td>bmw</td>\n",
              "      <td>...</td>\n",
              "      <td>209</td>\n",
              "      <td>mpfi</td>\n",
              "      <td>3.62</td>\n",
              "      <td>3.39</td>\n",
              "      <td>8.0</td>\n",
              "      <td>182</td>\n",
              "      <td>5400</td>\n",
              "      <td>16</td>\n",
              "      <td>22</td>\n",
              "      <td>30760</td>\n",
              "    </tr>\n",
              "    <tr>\n",
              "      <th>16</th>\n",
              "      <td>0</td>\n",
              "      <td>?</td>\n",
              "      <td>gas</td>\n",
              "      <td>std</td>\n",
              "      <td>two</td>\n",
              "      <td>sedan</td>\n",
              "      <td>rwd</td>\n",
              "      <td>front</td>\n",
              "      <td>103.5</td>\n",
              "      <td>bmw</td>\n",
              "      <td>...</td>\n",
              "      <td>209</td>\n",
              "      <td>mpfi</td>\n",
              "      <td>3.62</td>\n",
              "      <td>3.39</td>\n",
              "      <td>8.0</td>\n",
              "      <td>182</td>\n",
              "      <td>5400</td>\n",
              "      <td>16</td>\n",
              "      <td>22</td>\n",
              "      <td>41315</td>\n",
              "    </tr>\n",
              "    <tr>\n",
              "      <th>17</th>\n",
              "      <td>0</td>\n",
              "      <td>?</td>\n",
              "      <td>gas</td>\n",
              "      <td>std</td>\n",
              "      <td>four</td>\n",
              "      <td>sedan</td>\n",
              "      <td>rwd</td>\n",
              "      <td>front</td>\n",
              "      <td>110.0</td>\n",
              "      <td>bmw</td>\n",
              "      <td>...</td>\n",
              "      <td>209</td>\n",
              "      <td>mpfi</td>\n",
              "      <td>3.62</td>\n",
              "      <td>3.39</td>\n",
              "      <td>8.0</td>\n",
              "      <td>182</td>\n",
              "      <td>5400</td>\n",
              "      <td>15</td>\n",
              "      <td>20</td>\n",
              "      <td>36880</td>\n",
              "    </tr>\n",
              "    <tr>\n",
              "      <th>18</th>\n",
              "      <td>2</td>\n",
              "      <td>121</td>\n",
              "      <td>gas</td>\n",
              "      <td>std</td>\n",
              "      <td>two</td>\n",
              "      <td>hatchback</td>\n",
              "      <td>fwd</td>\n",
              "      <td>front</td>\n",
              "      <td>88.4</td>\n",
              "      <td>chevrolet</td>\n",
              "      <td>...</td>\n",
              "      <td>61</td>\n",
              "      <td>2bbl</td>\n",
              "      <td>2.91</td>\n",
              "      <td>3.03</td>\n",
              "      <td>9.5</td>\n",
              "      <td>48</td>\n",
              "      <td>5100</td>\n",
              "      <td>47</td>\n",
              "      <td>53</td>\n",
              "      <td>5151</td>\n",
              "    </tr>\n",
              "    <tr>\n",
              "      <th>19</th>\n",
              "      <td>1</td>\n",
              "      <td>98</td>\n",
              "      <td>gas</td>\n",
              "      <td>std</td>\n",
              "      <td>two</td>\n",
              "      <td>hatchback</td>\n",
              "      <td>fwd</td>\n",
              "      <td>front</td>\n",
              "      <td>94.5</td>\n",
              "      <td>chevrolet</td>\n",
              "      <td>...</td>\n",
              "      <td>90</td>\n",
              "      <td>2bbl</td>\n",
              "      <td>3.03</td>\n",
              "      <td>3.11</td>\n",
              "      <td>9.6</td>\n",
              "      <td>70</td>\n",
              "      <td>5400</td>\n",
              "      <td>38</td>\n",
              "      <td>43</td>\n",
              "      <td>6295</td>\n",
              "    </tr>\n",
              "  </tbody>\n",
              "</table>\n",
              "<p>20 rows × 26 columns</p>\n",
              "</div>"
            ],
            "text/plain": [
              "    symboling normalized_losses make fuel_type aspiration num_of_doors  \\\n",
              "0           3                 ?  gas       std        two  convertible   \n",
              "1           3                 ?  gas       std        two  convertible   \n",
              "2           1                 ?  gas       std        two    hatchback   \n",
              "3           2               164  gas       std       four        sedan   \n",
              "4           2               164  gas       std       four        sedan   \n",
              "5           2                 ?  gas       std        two        sedan   \n",
              "6           1               158  gas       std       four        sedan   \n",
              "7           1                 ?  gas       std       four        wagon   \n",
              "8           1               158  gas     turbo       four        sedan   \n",
              "9           0                 ?  gas     turbo        two    hatchback   \n",
              "10          2               192  gas       std        two        sedan   \n",
              "11          0               192  gas       std       four        sedan   \n",
              "12          0               188  gas       std        two        sedan   \n",
              "13          0               188  gas       std       four        sedan   \n",
              "14          1                 ?  gas       std       four        sedan   \n",
              "15          0                 ?  gas       std       four        sedan   \n",
              "16          0                 ?  gas       std        two        sedan   \n",
              "17          0                 ?  gas       std       four        sedan   \n",
              "18          2               121  gas       std        two    hatchback   \n",
              "19          1                98  gas       std        two    hatchback   \n",
              "\n",
              "   body_style drive_wheels  engine_location   wheel_base  ...  engine_size  \\\n",
              "0         rwd        front             88.6  alfa-romero  ...          130   \n",
              "1         rwd        front             88.6  alfa-romero  ...          130   \n",
              "2         rwd        front             94.5  alfa-romero  ...          152   \n",
              "3         fwd        front             99.8         audi  ...          109   \n",
              "4         4wd        front             99.4         audi  ...          136   \n",
              "5         fwd        front             99.8         audi  ...          136   \n",
              "6         fwd        front            105.8         audi  ...          136   \n",
              "7         fwd        front            105.8         audi  ...          136   \n",
              "8         fwd        front            105.8         audi  ...          131   \n",
              "9         4wd        front             99.5         audi  ...          131   \n",
              "10        rwd        front            101.2          bmw  ...          108   \n",
              "11        rwd        front            101.2          bmw  ...          108   \n",
              "12        rwd        front            101.2          bmw  ...          164   \n",
              "13        rwd        front            101.2          bmw  ...          164   \n",
              "14        rwd        front            103.5          bmw  ...          164   \n",
              "15        rwd        front            103.5          bmw  ...          209   \n",
              "16        rwd        front            103.5          bmw  ...          209   \n",
              "17        rwd        front            110.0          bmw  ...          209   \n",
              "18        fwd        front             88.4    chevrolet  ...           61   \n",
              "19        fwd        front             94.5    chevrolet  ...           90   \n",
              "\n",
              "    fuel_system  bore  stroke compression_ratio horsepower  peak_rpm city_mpg  \\\n",
              "0          mpfi  3.47    2.68               9.0        111      5000       21   \n",
              "1          mpfi  3.47    2.68               9.0        111      5000       21   \n",
              "2          mpfi  2.68    3.47               9.0        154      5000       19   \n",
              "3          mpfi  3.19     3.4              10.0        102      5500       24   \n",
              "4          mpfi  3.19     3.4               8.0        115      5500       18   \n",
              "5          mpfi  3.19     3.4               8.5        110      5500       19   \n",
              "6          mpfi  3.19     3.4               8.5        110      5500       19   \n",
              "7          mpfi  3.19     3.4               8.5        110      5500       19   \n",
              "8          mpfi  3.13     3.4               8.3        140      5500       17   \n",
              "9          mpfi  3.13     3.4               7.0        160      5500       16   \n",
              "10         mpfi   3.5     2.8               8.8        101      5800       23   \n",
              "11         mpfi   3.5     2.8               8.8        101      5800       23   \n",
              "12         mpfi  3.31    3.19               9.0        121      4250       21   \n",
              "13         mpfi  3.31    3.19               9.0        121      4250       21   \n",
              "14         mpfi  3.31    3.19               9.0        121      4250       20   \n",
              "15         mpfi  3.62    3.39               8.0        182      5400       16   \n",
              "16         mpfi  3.62    3.39               8.0        182      5400       16   \n",
              "17         mpfi  3.62    3.39               8.0        182      5400       15   \n",
              "18         2bbl  2.91    3.03               9.5         48      5100       47   \n",
              "19         2bbl  3.03    3.11               9.6         70      5400       38   \n",
              "\n",
              "   highway_mpg  price  \n",
              "0           27  13495  \n",
              "1           27  16500  \n",
              "2           26  16500  \n",
              "3           30  13950  \n",
              "4           22  17450  \n",
              "5           25  15250  \n",
              "6           25  17710  \n",
              "7           25  18920  \n",
              "8           20  23875  \n",
              "9           22      ?  \n",
              "10          29  16430  \n",
              "11          29  16925  \n",
              "12          28  20970  \n",
              "13          28  21105  \n",
              "14          25  24565  \n",
              "15          22  30760  \n",
              "16          22  41315  \n",
              "17          20  36880  \n",
              "18          53   5151  \n",
              "19          43   6295  \n",
              "\n",
              "[20 rows x 26 columns]"
            ]
          },
          "metadata": {
            "tags": []
          },
          "execution_count": 155
        }
      ]
    },
    {
      "cell_type": "code",
      "metadata": {
        "id": "gg6xK0-kZGSy",
        "colab_type": "code",
        "colab": {}
      },
      "source": [
        "Pri.aspiration.fillna(\"two\", inplace=True)\n",
        "Pri.make.fillna(\"gas\", inplace=True)\n",
        "Pri.fuel_type.fillna(\"turbo\", inplace=True)\n",
        "Pri.num_of_doors.fillna(\"sedan\", inplace=True)\n",
        "Pri.body_style.fillna(\"rwd\", inplace=True)\n",
        "Pri.engine_type.fillna(\"ohc\", inplace=True)\n",
        "Pri.wheel_base.fillna(\"audi\", inplace=True)\n",
        "Pri.num_of_cylinders.fillna(\"four\", inplace=True)\n",
        "Pri.fuel_system.fillna(\"mpfi\", inplace=True)"
      ],
      "execution_count": null,
      "outputs": []
    },
    {
      "cell_type": "code",
      "metadata": {
        "id": "zp3JDLczZGTA",
        "colab_type": "code",
        "colab": {},
        "outputId": "60866ac1-2f50-4a62-c961-d7e6b9291aad"
      },
      "source": [
        "Pri.isnull().sum()"
      ],
      "execution_count": null,
      "outputs": [
        {
          "output_type": "execute_result",
          "data": {
            "text/plain": [
              "symboling            0\n",
              "normalized_losses    0\n",
              "make                 0\n",
              "fuel_type            0\n",
              "aspiration           0\n",
              "num_of_doors         0\n",
              "body_style           0\n",
              "drive_wheels         0\n",
              "engine_location      0\n",
              "wheel_base           0\n",
              "length               0\n",
              "width                0\n",
              "height               0\n",
              "curb_weight          0\n",
              "engine_type          0\n",
              "num_of_cylinders     0\n",
              "engine_size          0\n",
              "fuel_system          0\n",
              "bore                 0\n",
              "stroke               0\n",
              "compression_ratio    0\n",
              "horsepower           0\n",
              "peak_rpm             0\n",
              "city_mpg             0\n",
              "highway_mpg          0\n",
              "price                0\n",
              "dtype: int64"
            ]
          },
          "metadata": {
            "tags": []
          },
          "execution_count": 157
        }
      ]
    },
    {
      "cell_type": "code",
      "metadata": {
        "id": "re0x5xwpZGTS",
        "colab_type": "code",
        "colab": {}
      },
      "source": [
        "Pri.fillna(Pri.median(), inplace=True)"
      ],
      "execution_count": null,
      "outputs": []
    },
    {
      "cell_type": "code",
      "metadata": {
        "id": "uBu0kqplZGTj",
        "colab_type": "code",
        "colab": {},
        "outputId": "b48cae0d-c4a2-42be-ce24-4fa03ec7aef1"
      },
      "source": [
        "Pri.shape"
      ],
      "execution_count": null,
      "outputs": [
        {
          "output_type": "execute_result",
          "data": {
            "text/plain": [
              "(205, 26)"
            ]
          },
          "metadata": {
            "tags": []
          },
          "execution_count": 159
        }
      ]
    },
    {
      "cell_type": "code",
      "metadata": {
        "id": "BsqLuG9pZGTw",
        "colab_type": "code",
        "colab": {}
      },
      "source": [
        "import sklearn\n",
        "from sklearn.preprocessing import LabelEncoder"
      ],
      "execution_count": null,
      "outputs": []
    },
    {
      "cell_type": "code",
      "metadata": {
        "id": "CjA9dVWIZGT9",
        "colab_type": "code",
        "colab": {}
      },
      "source": [
        "le = LabelEncoder()"
      ],
      "execution_count": null,
      "outputs": []
    },
    {
      "cell_type": "code",
      "metadata": {
        "id": "tUL0puwsZGUJ",
        "colab_type": "code",
        "colab": {}
      },
      "source": [
        "Pri[Pri.select_dtypes(include=['object']).columns] = Pri[Pri.select_dtypes(include=['object']).columns].apply(le.fit_transform)"
      ],
      "execution_count": null,
      "outputs": []
    },
    {
      "cell_type": "code",
      "metadata": {
        "id": "MTAJGseZZGUX",
        "colab_type": "code",
        "colab": {}
      },
      "source": [
        "Pri_x = Pri.drop([\"price\"], axis=1)\n",
        "\n",
        "Pri_y = Pri.price"
      ],
      "execution_count": null,
      "outputs": []
    },
    {
      "cell_type": "code",
      "metadata": {
        "id": "SdT3WRkEZGUl",
        "colab_type": "code",
        "colab": {}
      },
      "source": [
        "from sklearn.model_selection import train_test_split"
      ],
      "execution_count": null,
      "outputs": []
    },
    {
      "cell_type": "code",
      "metadata": {
        "id": "L6c6tmtvZGUy",
        "colab_type": "code",
        "colab": {}
      },
      "source": [
        "Pri_x = Pri.iloc[:, 1:10]\n",
        "Pri_y = Pri.iloc[:, -2]"
      ],
      "execution_count": null,
      "outputs": []
    },
    {
      "cell_type": "code",
      "metadata": {
        "id": "2_9BpdKKZGU_",
        "colab_type": "code",
        "colab": {}
      },
      "source": [
        "\n",
        "Pri_x_train, Pri_x_test, Pri_y_train, Pri_y_test = train_test_split(Pri_x, Pri_y, test_size=.2, random_state = 101)"
      ],
      "execution_count": null,
      "outputs": []
    },
    {
      "cell_type": "code",
      "metadata": {
        "id": "elxpY4OMZGVL",
        "colab_type": "code",
        "colab": {}
      },
      "source": [
        "from sklearn import linear_model\n",
        "reg = linear_model.LinearRegression(1)"
      ],
      "execution_count": null,
      "outputs": []
    },
    {
      "cell_type": "code",
      "metadata": {
        "id": "2sMh4QzuZGVW",
        "colab_type": "code",
        "colab": {},
        "outputId": "36d647b6-0ed7-40a2-86a7-3c244da7aebf"
      },
      "source": [
        "reg.fit(Pri_x_train, Pri_y_train)"
      ],
      "execution_count": null,
      "outputs": [
        {
          "output_type": "execute_result",
          "data": {
            "text/plain": [
              "LinearRegression(copy_X=True, fit_intercept=1, n_jobs=None, normalize=False)"
            ]
          },
          "metadata": {
            "tags": []
          },
          "execution_count": 168
        }
      ]
    },
    {
      "cell_type": "code",
      "metadata": {
        "id": "4oNmBrcbZGVj",
        "colab_type": "code",
        "colab": {},
        "outputId": "1ceeff89-521f-4b16-c0c1-eacc29ec4b3b"
      },
      "source": [
        "reg.coef_"
      ],
      "execution_count": null,
      "outputs": [
        {
          "output_type": "execute_result",
          "data": {
            "text/plain": [
              "array([ -0.03736224, -12.34283526,  -5.33637559,  -0.83698853,\n",
              "         0.71365129,  -2.04250127,  -8.91541186,  -0.76110637,\n",
              "         0.06637994])"
            ]
          },
          "metadata": {
            "tags": []
          },
          "execution_count": 169
        }
      ]
    },
    {
      "cell_type": "code",
      "metadata": {
        "id": "RnV_xRiKZGVv",
        "colab_type": "code",
        "colab": {},
        "outputId": "7235361b-5dab-431a-d159-57a57d8ae323"
      },
      "source": [
        "Pri_x_train.columns"
      ],
      "execution_count": null,
      "outputs": [
        {
          "output_type": "execute_result",
          "data": {
            "text/plain": [
              "Index(['normalized_losses', 'make', 'fuel_type', 'aspiration', 'num_of_doors',\n",
              "       'body_style', 'drive_wheels', 'engine_location', 'wheel_base'],\n",
              "      dtype='object')"
            ]
          },
          "metadata": {
            "tags": []
          },
          "execution_count": 170
        }
      ]
    },
    {
      "cell_type": "code",
      "metadata": {
        "id": "zi2R25DlZGV9",
        "colab_type": "code",
        "colab": {}
      },
      "source": [
        "pred_train = reg.predict(Pri_x_train)"
      ],
      "execution_count": null,
      "outputs": []
    },
    {
      "cell_type": "code",
      "metadata": {
        "id": "elGZrziEZGWL",
        "colab_type": "code",
        "colab": {}
      },
      "source": [
        "pred_actual_df = pd.DataFrame()\n",
        "pred_actual_df['Predicted'] = pd.Series(pred_train)\n",
        "pred_actual_df['Actual'] = pd.Series(Pri_y_train)"
      ],
      "execution_count": null,
      "outputs": []
    },
    {
      "cell_type": "code",
      "metadata": {
        "id": "YqwocIDmZGWW",
        "colab_type": "code",
        "colab": {},
        "outputId": "0fed8044-9daf-44a6-d443-7140b4f6a942"
      },
      "source": [
        "Rsquare = reg.score(Pri_x_train, Pri_y_train)\n",
        "print(Rsquare)"
      ],
      "execution_count": null,
      "outputs": [
        {
          "output_type": "stream",
          "text": [
            "0.6371546922343643\n"
          ],
          "name": "stdout"
        }
      ]
    },
    {
      "cell_type": "code",
      "metadata": {
        "id": "V6C8_LRWZGWi",
        "colab_type": "code",
        "colab": {},
        "outputId": "1630f18c-2f4e-4318-a96b-d5f19f2de824"
      },
      "source": [
        "K = 26\n",
        "N = 205\n",
        "Adjrsquare = 1-(1-Rsquare)*(N-1)/N-K-1\n",
        "Adjrsquare"
      ],
      "execution_count": null,
      "outputs": [
        {
          "output_type": "execute_result",
          "data": {
            "text/plain": [
              "-26.361075330654582"
            ]
          },
          "metadata": {
            "tags": []
          },
          "execution_count": 174
        }
      ]
    },
    {
      "cell_type": "code",
      "metadata": {
        "id": "5I3gIsTgZGWt",
        "colab_type": "code",
        "colab": {},
        "outputId": "101c8968-4393-4c44-9d56-62e2a7ab5a77"
      },
      "source": [
        "Pri_y_train"
      ],
      "execution_count": null,
      "outputs": [
        {
          "output_type": "execute_result",
          "data": {
            "text/plain": [
              "154    32\n",
              "74     16\n",
              "179    24\n",
              "118    41\n",
              "16     22\n",
              "       ..\n",
              "63     42\n",
              "70     25\n",
              "81     32\n",
              "11     29\n",
              "95     37\n",
              "Name: highway_mpg, Length: 164, dtype: int64"
            ]
          },
          "metadata": {
            "tags": []
          },
          "execution_count": 175
        }
      ]
    },
    {
      "cell_type": "code",
      "metadata": {
        "id": "4JUk7DGMZGW7",
        "colab_type": "code",
        "colab": {},
        "outputId": "41f63ee0-e377-4308-e6da-32f4b6536df9"
      },
      "source": [
        "error = Pri_y_train - pred_train\n",
        "error"
      ],
      "execution_count": null,
      "outputs": [
        {
          "output_type": "execute_result",
          "data": {
            "text/plain": [
              "154   -5.173886\n",
              "74    -0.630123\n",
              "179   -1.606162\n",
              "118    5.859089\n",
              "16    -2.062170\n",
              "         ...   \n",
              "63    -2.096963\n",
              "70     1.689661\n",
              "81    -0.514548\n",
              "11     1.603052\n",
              "95     2.750183\n",
              "Name: highway_mpg, Length: 164, dtype: float64"
            ]
          },
          "metadata": {
            "tags": []
          },
          "execution_count": 176
        }
      ]
    },
    {
      "cell_type": "code",
      "metadata": {
        "id": "1CHthDmWZGXH",
        "colab_type": "code",
        "colab": {},
        "outputId": "e911ff33-263f-45af-a5d1-9afb19b3b56b"
      },
      "source": [
        "reg.intercept_"
      ],
      "execution_count": null,
      "outputs": [
        {
          "output_type": "execute_result",
          "data": {
            "text/plain": [
              "120.5702547796955"
            ]
          },
          "metadata": {
            "tags": []
          },
          "execution_count": 177
        }
      ]
    },
    {
      "cell_type": "code",
      "metadata": {
        "id": "8OUCDz1qZGXT",
        "colab_type": "code",
        "colab": {},
        "outputId": "2db7face-f1d7-45d2-d82f-6988b82ac43d"
      },
      "source": [
        "reg.coef_"
      ],
      "execution_count": null,
      "outputs": [
        {
          "output_type": "execute_result",
          "data": {
            "text/plain": [
              "array([ -0.03736224, -12.34283526,  -5.33637559,  -0.83698853,\n",
              "         0.71365129,  -2.04250127,  -8.91541186,  -0.76110637,\n",
              "         0.06637994])"
            ]
          },
          "metadata": {
            "tags": []
          },
          "execution_count": 178
        }
      ]
    },
    {
      "cell_type": "code",
      "metadata": {
        "id": "ry7BVGJgZGXg",
        "colab_type": "code",
        "colab": {}
      },
      "source": [
        "Coef_values = pd.DataFrame({\"Features_Name\":Pri_x_train.columns, \"Coeff\":reg.coef_})"
      ],
      "execution_count": null,
      "outputs": []
    },
    {
      "cell_type": "code",
      "metadata": {
        "id": "aZTf_IpTZGXq",
        "colab_type": "code",
        "colab": {},
        "outputId": "eb04a390-1b78-4d49-d332-36fdf1c11533"
      },
      "source": [
        "Coef_values.sort_values(\"Coeff\", ascending=False)"
      ],
      "execution_count": null,
      "outputs": [
        {
          "output_type": "execute_result",
          "data": {
            "text/html": [
              "<div>\n",
              "<style scoped>\n",
              "    .dataframe tbody tr th:only-of-type {\n",
              "        vertical-align: middle;\n",
              "    }\n",
              "\n",
              "    .dataframe tbody tr th {\n",
              "        vertical-align: top;\n",
              "    }\n",
              "\n",
              "    .dataframe thead th {\n",
              "        text-align: right;\n",
              "    }\n",
              "</style>\n",
              "<table border=\"1\" class=\"dataframe\">\n",
              "  <thead>\n",
              "    <tr style=\"text-align: right;\">\n",
              "      <th></th>\n",
              "      <th>Features_Name</th>\n",
              "      <th>Coeff</th>\n",
              "    </tr>\n",
              "  </thead>\n",
              "  <tbody>\n",
              "    <tr>\n",
              "      <th>4</th>\n",
              "      <td>num_of_doors</td>\n",
              "      <td>0.713651</td>\n",
              "    </tr>\n",
              "    <tr>\n",
              "      <th>8</th>\n",
              "      <td>wheel_base</td>\n",
              "      <td>0.066380</td>\n",
              "    </tr>\n",
              "    <tr>\n",
              "      <th>0</th>\n",
              "      <td>normalized_losses</td>\n",
              "      <td>-0.037362</td>\n",
              "    </tr>\n",
              "    <tr>\n",
              "      <th>7</th>\n",
              "      <td>engine_location</td>\n",
              "      <td>-0.761106</td>\n",
              "    </tr>\n",
              "    <tr>\n",
              "      <th>3</th>\n",
              "      <td>aspiration</td>\n",
              "      <td>-0.836989</td>\n",
              "    </tr>\n",
              "    <tr>\n",
              "      <th>5</th>\n",
              "      <td>body_style</td>\n",
              "      <td>-2.042501</td>\n",
              "    </tr>\n",
              "    <tr>\n",
              "      <th>2</th>\n",
              "      <td>fuel_type</td>\n",
              "      <td>-5.336376</td>\n",
              "    </tr>\n",
              "    <tr>\n",
              "      <th>6</th>\n",
              "      <td>drive_wheels</td>\n",
              "      <td>-8.915412</td>\n",
              "    </tr>\n",
              "    <tr>\n",
              "      <th>1</th>\n",
              "      <td>make</td>\n",
              "      <td>-12.342835</td>\n",
              "    </tr>\n",
              "  </tbody>\n",
              "</table>\n",
              "</div>"
            ],
            "text/plain": [
              "       Features_Name      Coeff\n",
              "4       num_of_doors   0.713651\n",
              "8         wheel_base   0.066380\n",
              "0  normalized_losses  -0.037362\n",
              "7    engine_location  -0.761106\n",
              "3         aspiration  -0.836989\n",
              "5         body_style  -2.042501\n",
              "2          fuel_type  -5.336376\n",
              "6       drive_wheels  -8.915412\n",
              "1               make -12.342835"
            ]
          },
          "metadata": {
            "tags": []
          },
          "execution_count": 180
        }
      ]
    },
    {
      "cell_type": "code",
      "metadata": {
        "id": "fqRNpjVuZGX1",
        "colab_type": "code",
        "colab": {},
        "outputId": "70a25d8c-b8e6-4827-8a0a-ffe1295404b0"
      },
      "source": [
        "pred_train = reg.predict(Pri_x_train)\n",
        "error_train = Pri_y_train - pred_train\n",
        "error_train"
      ],
      "execution_count": null,
      "outputs": [
        {
          "output_type": "execute_result",
          "data": {
            "text/plain": [
              "154   -5.173886\n",
              "74    -0.630123\n",
              "179   -1.606162\n",
              "118    5.859089\n",
              "16    -2.062170\n",
              "         ...   \n",
              "63    -2.096963\n",
              "70     1.689661\n",
              "81    -0.514548\n",
              "11     1.603052\n",
              "95     2.750183\n",
              "Name: highway_mpg, Length: 164, dtype: float64"
            ]
          },
          "metadata": {
            "tags": []
          },
          "execution_count": 181
        }
      ]
    },
    {
      "cell_type": "code",
      "metadata": {
        "id": "DC00WJUoZGYB",
        "colab_type": "code",
        "colab": {},
        "outputId": "7a7412aa-9d54-4c80-9b49-2833cf2bcef1"
      },
      "source": [
        "plt.hist(error_train)"
      ],
      "execution_count": null,
      "outputs": [
        {
          "output_type": "execute_result",
          "data": {
            "text/plain": [
              "(array([ 5.,  8., 13., 34., 64., 22., 10.,  3.,  2.,  3.]),\n",
              " array([-10.93501088,  -8.38223313,  -5.82945539,  -3.27667764,\n",
              "         -0.72389989,   1.82887786,   4.3816556 ,   6.93443335,\n",
              "          9.4872111 ,  12.03998885,  14.59276659]),\n",
              " <BarContainer object of 10 artists>)"
            ]
          },
          "metadata": {
            "tags": []
          },
          "execution_count": 182
        },
        {
          "output_type": "display_data",
          "data": {
            "image/png": "[encoded data removed]",
            "text/plain": [
              "<Figure size 432x288 with 1 Axes>"
            ]
          },
          "metadata": {
            "tags": [],
            "needs_background": "light"
          }
        }
      ]
    },
    {
      "cell_type": "code",
      "metadata": {
        "id": "v30PkvYxZGYO",
        "colab_type": "code",
        "colab": {},
        "outputId": "0f9a1b29-3065-47f4-b76f-4729a3d81323"
      },
      "source": [
        "sns.distplot(error_train)"
      ],
      "execution_count": null,
      "outputs": [
        {
          "output_type": "execute_result",
          "data": {
            "text/plain": [
              "<AxesSubplot:xlabel='highway_mpg'>"
            ]
          },
          "metadata": {
            "tags": []
          },
          "execution_count": 183
        },
        {
          "output_type": "display_data",
          "data": {
            "image/png": "[encoded data removed]",
            "text/plain": [
              "<Figure size 432x288 with 1 Axes>"
            ]
          },
          "metadata": {
            "tags": [],
            "needs_background": "light"
          }
        }
      ]
    },
    {
      "cell_type": "code",
      "metadata": {
        "id": "o34Dba9BZGYZ",
        "colab_type": "code",
        "colab": {},
        "outputId": "cfd50f16-0706-4c80-8e3a-50b409bae72a"
      },
      "source": [
        "plt.figure (figsize = (12,12))\n",
        "sns.boxplot(x = \"normalized_losses\", y = 'price', data=Pri, hue=\"engine_size\")"
      ],
      "execution_count": null,
      "outputs": [
        {
          "output_type": "execute_result",
          "data": {
            "text/plain": [
              "<AxesSubplot:xlabel='normalized_losses', ylabel='price'>"
            ]
          },
          "metadata": {
            "tags": []
          },
          "execution_count": 184
        },
        {
          "output_type": "display_data",
          "data": {
            "image/png": "[encoded data removed]",
            "text/plain": [
              "<Figure size 864x864 with 1 Axes>"
            ]
          },
          "metadata": {
            "tags": [],
            "needs_background": "light"
          }
        }
      ]
    },
    {
      "cell_type": "code",
      "metadata": {
        "id": "aeD17sdmZGYm",
        "colab_type": "code",
        "colab": {}
      },
      "source": [
        "pred_test = reg.predict(Pri_x_test)"
      ],
      "execution_count": null,
      "outputs": []
    },
    {
      "cell_type": "code",
      "metadata": {
        "id": "V8bu_TOuZGYx",
        "colab_type": "code",
        "colab": {},
        "outputId": "7a9045a7-33fe-47d3-e01c-a8754f2236e6"
      },
      "source": [
        "error = Pri_y_test - pred_test\n",
        "error"
      ],
      "execution_count": null,
      "outputs": [
        {
          "output_type": "execute_result",
          "data": {
            "text/plain": [
              "120     2.507809\n",
              "185     1.032555\n",
              "180    -1.490684\n",
              "119     0.195464\n",
              "109     5.800849\n",
              "104    -9.007698\n",
              "133    -5.079614\n",
              "89      2.036531\n",
              "37      0.326070\n",
              "34     -0.954476\n",
              "145    -2.525168\n",
              "65      1.236259\n",
              "78      3.618662\n",
              "152     4.183832\n",
              "149    -7.783078\n",
              "66      2.425276\n",
              "85     -2.401448\n",
              "173     4.532231\n",
              "31     -1.685811\n",
              "91      2.036531\n",
              "42     -2.350219\n",
              "41     -4.804804\n",
              "153     1.793891\n",
              "54      1.137978\n",
              "167     1.084715\n",
              "48      0.999453\n",
              "50     -4.498193\n",
              "158   -10.536395\n",
              "184     0.689720\n",
              "144   -11.861543\n",
              "25      2.345871\n",
              "55     -8.071375\n",
              "201     8.363470\n",
              "2      -4.065716\n",
              "12      1.402678\n",
              "197     1.211785\n",
              "96      1.124818\n",
              "22      3.485526\n",
              "100    -0.156455\n",
              "39      0.195196\n",
              "32      7.045524\n",
              "Name: highway_mpg, dtype: float64"
            ]
          },
          "metadata": {
            "tags": []
          },
          "execution_count": 186
        }
      ]
    },
    {
      "cell_type": "code",
      "metadata": {
        "id": "X74LfHtlZGY7",
        "colab_type": "code",
        "colab": {},
        "outputId": "28951838-8a45-49ce-e126-bcbf172c4861"
      },
      "source": [
        "mean_y = Pri_y_test.mean()\n",
        "mean_y"
      ],
      "execution_count": null,
      "outputs": [
        {
          "output_type": "execute_result",
          "data": {
            "text/plain": [
              "32.073170731707314"
            ]
          },
          "metadata": {
            "tags": []
          },
          "execution_count": 187
        }
      ]
    },
    {
      "cell_type": "code",
      "metadata": {
        "id": "H3_BbjNZZGZH",
        "colab_type": "code",
        "colab": {},
        "outputId": "b41a13a7-0b09-41c8-fcab-7f6bb1e15241"
      },
      "source": [
        "MSE = np.mean(error*error)\n",
        "MSE"
      ],
      "execution_count": null,
      "outputs": [
        {
          "output_type": "execute_result",
          "data": {
            "text/plain": [
              "20.122695774926168"
            ]
          },
          "metadata": {
            "tags": []
          },
          "execution_count": 188
        }
      ]
    },
    {
      "cell_type": "code",
      "metadata": {
        "id": "jsV21XO8ZGZT",
        "colab_type": "code",
        "colab": {},
        "outputId": "1e620e72-54c6-4f22-b0e8-5c5371271ad4"
      },
      "source": [
        "RMSE = np.power(MSE, .8)\n",
        "RMSE"
      ],
      "execution_count": null,
      "outputs": [
        {
          "output_type": "execute_result",
          "data": {
            "text/plain": [
              "11.039487932802723"
            ]
          },
          "metadata": {
            "tags": []
          },
          "execution_count": 189
        }
      ]
    },
    {
      "cell_type": "code",
      "metadata": {
        "id": "SmJ0QgZGZGZd",
        "colab_type": "code",
        "colab": {},
        "outputId": "2a2519ab-05d4-4ae9-c60b-84f917d59809"
      },
      "source": [
        "MAPE = np.mean(np.absolute(error/Pri_y_test))*100\n",
        "MAPE"
      ],
      "execution_count": null,
      "outputs": [
        {
          "output_type": "execute_result",
          "data": {
            "text/plain": [
              "11.52955105420209"
            ]
          },
          "metadata": {
            "tags": []
          },
          "execution_count": 190
        }
      ]
    },
    {
      "cell_type": "code",
      "metadata": {
        "id": "lIPk9XTjZGZn",
        "colab_type": "code",
        "colab": {},
        "outputId": "ae7dce42-c4a2-479f-eea6-7df228c544fb"
      },
      "source": [
        "acc = 100-MAPE\n",
        "acc"
      ],
      "execution_count": null,
      "outputs": [
        {
          "output_type": "execute_result",
          "data": {
            "text/plain": [
              "88.47044894579791"
            ]
          },
          "metadata": {
            "tags": []
          },
          "execution_count": 191
        }
      ]
    },
    {
      "cell_type": "markdown",
      "metadata": {
        "id": "DUYsgXZnZGZ0",
        "colab_type": "text"
      },
      "source": [
        "# Logistic Regression"
      ]
    },
    {
      "cell_type": "code",
      "metadata": {
        "id": "DsD2LCaKZGZ2",
        "colab_type": "code",
        "colab": {}
      },
      "source": [
        "pri = pd.read_csv(r\"car_price.csv - car_price.csv.csv\")"
      ],
      "execution_count": null,
      "outputs": []
    },
    {
      "cell_type": "code",
      "metadata": {
        "id": "g8iUgeKwZGaM",
        "colab_type": "code",
        "colab": {}
      },
      "source": [
        "pri = pri.replace({\"?\"},None)"
      ],
      "execution_count": null,
      "outputs": []
    },
    {
      "cell_type": "code",
      "metadata": {
        "id": "B77ri7UNZGaZ",
        "colab_type": "code",
        "colab": {},
        "outputId": "5a8682b8-c427-44dc-e5f7-e766e61d231e"
      },
      "source": [
        "pri.head(20)"
      ],
      "execution_count": null,
      "outputs": [
        {
          "output_type": "execute_result",
          "data": {
            "text/html": [
              "<div>\n",
              "<style scoped>\n",
              "    .dataframe tbody tr th:only-of-type {\n",
              "        vertical-align: middle;\n",
              "    }\n",
              "\n",
              "    .dataframe tbody tr th {\n",
              "        vertical-align: top;\n",
              "    }\n",
              "\n",
              "    .dataframe thead th {\n",
              "        text-align: right;\n",
              "    }\n",
              "</style>\n",
              "<table border=\"1\" class=\"dataframe\">\n",
              "  <thead>\n",
              "    <tr style=\"text-align: right;\">\n",
              "      <th></th>\n",
              "      <th>symboling</th>\n",
              "      <th>normalized_losses</th>\n",
              "      <th>make</th>\n",
              "      <th>fuel_type</th>\n",
              "      <th>aspiration</th>\n",
              "      <th>num_of_doors</th>\n",
              "      <th>body_style</th>\n",
              "      <th>drive_wheels</th>\n",
              "      <th>engine_location</th>\n",
              "      <th>wheel_base</th>\n",
              "      <th>...</th>\n",
              "      <th>engine_size</th>\n",
              "      <th>fuel_system</th>\n",
              "      <th>bore</th>\n",
              "      <th>stroke</th>\n",
              "      <th>compression_ratio</th>\n",
              "      <th>horsepower</th>\n",
              "      <th>peak_rpm</th>\n",
              "      <th>city_mpg</th>\n",
              "      <th>highway_mpg</th>\n",
              "      <th>price</th>\n",
              "    </tr>\n",
              "  </thead>\n",
              "  <tbody>\n",
              "    <tr>\n",
              "      <th>0</th>\n",
              "      <td>3</td>\n",
              "      <td>?</td>\n",
              "      <td>gas</td>\n",
              "      <td>std</td>\n",
              "      <td>two</td>\n",
              "      <td>convertible</td>\n",
              "      <td>rwd</td>\n",
              "      <td>front</td>\n",
              "      <td>88.6</td>\n",
              "      <td>alfa-romero</td>\n",
              "      <td>...</td>\n",
              "      <td>130</td>\n",
              "      <td>mpfi</td>\n",
              "      <td>3.47</td>\n",
              "      <td>2.68</td>\n",
              "      <td>9.0</td>\n",
              "      <td>111</td>\n",
              "      <td>5000</td>\n",
              "      <td>21</td>\n",
              "      <td>27</td>\n",
              "      <td>13495</td>\n",
              "    </tr>\n",
              "    <tr>\n",
              "      <th>1</th>\n",
              "      <td>3</td>\n",
              "      <td>?</td>\n",
              "      <td>gas</td>\n",
              "      <td>std</td>\n",
              "      <td>two</td>\n",
              "      <td>convertible</td>\n",
              "      <td>rwd</td>\n",
              "      <td>front</td>\n",
              "      <td>88.6</td>\n",
              "      <td>alfa-romero</td>\n",
              "      <td>...</td>\n",
              "      <td>130</td>\n",
              "      <td>mpfi</td>\n",
              "      <td>3.47</td>\n",
              "      <td>2.68</td>\n",
              "      <td>9.0</td>\n",
              "      <td>111</td>\n",
              "      <td>5000</td>\n",
              "      <td>21</td>\n",
              "      <td>27</td>\n",
              "      <td>16500</td>\n",
              "    </tr>\n",
              "    <tr>\n",
              "      <th>2</th>\n",
              "      <td>1</td>\n",
              "      <td>?</td>\n",
              "      <td>gas</td>\n",
              "      <td>std</td>\n",
              "      <td>two</td>\n",
              "      <td>hatchback</td>\n",
              "      <td>rwd</td>\n",
              "      <td>front</td>\n",
              "      <td>94.5</td>\n",
              "      <td>alfa-romero</td>\n",
              "      <td>...</td>\n",
              "      <td>152</td>\n",
              "      <td>mpfi</td>\n",
              "      <td>2.68</td>\n",
              "      <td>3.47</td>\n",
              "      <td>9.0</td>\n",
              "      <td>154</td>\n",
              "      <td>5000</td>\n",
              "      <td>19</td>\n",
              "      <td>26</td>\n",
              "      <td>16500</td>\n",
              "    </tr>\n",
              "    <tr>\n",
              "      <th>3</th>\n",
              "      <td>2</td>\n",
              "      <td>164</td>\n",
              "      <td>gas</td>\n",
              "      <td>std</td>\n",
              "      <td>four</td>\n",
              "      <td>sedan</td>\n",
              "      <td>fwd</td>\n",
              "      <td>front</td>\n",
              "      <td>99.8</td>\n",
              "      <td>audi</td>\n",
              "      <td>...</td>\n",
              "      <td>109</td>\n",
              "      <td>mpfi</td>\n",
              "      <td>3.19</td>\n",
              "      <td>3.4</td>\n",
              "      <td>10.0</td>\n",
              "      <td>102</td>\n",
              "      <td>5500</td>\n",
              "      <td>24</td>\n",
              "      <td>30</td>\n",
              "      <td>13950</td>\n",
              "    </tr>\n",
              "    <tr>\n",
              "      <th>4</th>\n",
              "      <td>2</td>\n",
              "      <td>164</td>\n",
              "      <td>gas</td>\n",
              "      <td>std</td>\n",
              "      <td>four</td>\n",
              "      <td>sedan</td>\n",
              "      <td>4wd</td>\n",
              "      <td>front</td>\n",
              "      <td>99.4</td>\n",
              "      <td>audi</td>\n",
              "      <td>...</td>\n",
              "      <td>136</td>\n",
              "      <td>mpfi</td>\n",
              "      <td>3.19</td>\n",
              "      <td>3.4</td>\n",
              "      <td>8.0</td>\n",
              "      <td>115</td>\n",
              "      <td>5500</td>\n",
              "      <td>18</td>\n",
              "      <td>22</td>\n",
              "      <td>17450</td>\n",
              "    </tr>\n",
              "    <tr>\n",
              "      <th>5</th>\n",
              "      <td>2</td>\n",
              "      <td>?</td>\n",
              "      <td>gas</td>\n",
              "      <td>std</td>\n",
              "      <td>two</td>\n",
              "      <td>sedan</td>\n",
              "      <td>fwd</td>\n",
              "      <td>front</td>\n",
              "      <td>99.8</td>\n",
              "      <td>audi</td>\n",
              "      <td>...</td>\n",
              "      <td>136</td>\n",
              "      <td>mpfi</td>\n",
              "      <td>3.19</td>\n",
              "      <td>3.4</td>\n",
              "      <td>8.5</td>\n",
              "      <td>110</td>\n",
              "      <td>5500</td>\n",
              "      <td>19</td>\n",
              "      <td>25</td>\n",
              "      <td>15250</td>\n",
              "    </tr>\n",
              "    <tr>\n",
              "      <th>6</th>\n",
              "      <td>1</td>\n",
              "      <td>158</td>\n",
              "      <td>gas</td>\n",
              "      <td>std</td>\n",
              "      <td>four</td>\n",
              "      <td>sedan</td>\n",
              "      <td>fwd</td>\n",
              "      <td>front</td>\n",
              "      <td>105.8</td>\n",
              "      <td>audi</td>\n",
              "      <td>...</td>\n",
              "      <td>136</td>\n",
              "      <td>mpfi</td>\n",
              "      <td>3.19</td>\n",
              "      <td>3.4</td>\n",
              "      <td>8.5</td>\n",
              "      <td>110</td>\n",
              "      <td>5500</td>\n",
              "      <td>19</td>\n",
              "      <td>25</td>\n",
              "      <td>17710</td>\n",
              "    </tr>\n",
              "    <tr>\n",
              "      <th>7</th>\n",
              "      <td>1</td>\n",
              "      <td>?</td>\n",
              "      <td>gas</td>\n",
              "      <td>std</td>\n",
              "      <td>four</td>\n",
              "      <td>wagon</td>\n",
              "      <td>fwd</td>\n",
              "      <td>front</td>\n",
              "      <td>105.8</td>\n",
              "      <td>audi</td>\n",
              "      <td>...</td>\n",
              "      <td>136</td>\n",
              "      <td>mpfi</td>\n",
              "      <td>3.19</td>\n",
              "      <td>3.4</td>\n",
              "      <td>8.5</td>\n",
              "      <td>110</td>\n",
              "      <td>5500</td>\n",
              "      <td>19</td>\n",
              "      <td>25</td>\n",
              "      <td>18920</td>\n",
              "    </tr>\n",
              "    <tr>\n",
              "      <th>8</th>\n",
              "      <td>1</td>\n",
              "      <td>158</td>\n",
              "      <td>gas</td>\n",
              "      <td>turbo</td>\n",
              "      <td>four</td>\n",
              "      <td>sedan</td>\n",
              "      <td>fwd</td>\n",
              "      <td>front</td>\n",
              "      <td>105.8</td>\n",
              "      <td>audi</td>\n",
              "      <td>...</td>\n",
              "      <td>131</td>\n",
              "      <td>mpfi</td>\n",
              "      <td>3.13</td>\n",
              "      <td>3.4</td>\n",
              "      <td>8.3</td>\n",
              "      <td>140</td>\n",
              "      <td>5500</td>\n",
              "      <td>17</td>\n",
              "      <td>20</td>\n",
              "      <td>23875</td>\n",
              "    </tr>\n",
              "    <tr>\n",
              "      <th>9</th>\n",
              "      <td>0</td>\n",
              "      <td>?</td>\n",
              "      <td>gas</td>\n",
              "      <td>turbo</td>\n",
              "      <td>two</td>\n",
              "      <td>hatchback</td>\n",
              "      <td>4wd</td>\n",
              "      <td>front</td>\n",
              "      <td>99.5</td>\n",
              "      <td>audi</td>\n",
              "      <td>...</td>\n",
              "      <td>131</td>\n",
              "      <td>mpfi</td>\n",
              "      <td>3.13</td>\n",
              "      <td>3.4</td>\n",
              "      <td>7.0</td>\n",
              "      <td>160</td>\n",
              "      <td>5500</td>\n",
              "      <td>16</td>\n",
              "      <td>22</td>\n",
              "      <td>?</td>\n",
              "    </tr>\n",
              "    <tr>\n",
              "      <th>10</th>\n",
              "      <td>2</td>\n",
              "      <td>192</td>\n",
              "      <td>gas</td>\n",
              "      <td>std</td>\n",
              "      <td>two</td>\n",
              "      <td>sedan</td>\n",
              "      <td>rwd</td>\n",
              "      <td>front</td>\n",
              "      <td>101.2</td>\n",
              "      <td>bmw</td>\n",
              "      <td>...</td>\n",
              "      <td>108</td>\n",
              "      <td>mpfi</td>\n",
              "      <td>3.5</td>\n",
              "      <td>2.8</td>\n",
              "      <td>8.8</td>\n",
              "      <td>101</td>\n",
              "      <td>5800</td>\n",
              "      <td>23</td>\n",
              "      <td>29</td>\n",
              "      <td>16430</td>\n",
              "    </tr>\n",
              "    <tr>\n",
              "      <th>11</th>\n",
              "      <td>0</td>\n",
              "      <td>192</td>\n",
              "      <td>gas</td>\n",
              "      <td>std</td>\n",
              "      <td>four</td>\n",
              "      <td>sedan</td>\n",
              "      <td>rwd</td>\n",
              "      <td>front</td>\n",
              "      <td>101.2</td>\n",
              "      <td>bmw</td>\n",
              "      <td>...</td>\n",
              "      <td>108</td>\n",
              "      <td>mpfi</td>\n",
              "      <td>3.5</td>\n",
              "      <td>2.8</td>\n",
              "      <td>8.8</td>\n",
              "      <td>101</td>\n",
              "      <td>5800</td>\n",
              "      <td>23</td>\n",
              "      <td>29</td>\n",
              "      <td>16925</td>\n",
              "    </tr>\n",
              "    <tr>\n",
              "      <th>12</th>\n",
              "      <td>0</td>\n",
              "      <td>188</td>\n",
              "      <td>gas</td>\n",
              "      <td>std</td>\n",
              "      <td>two</td>\n",
              "      <td>sedan</td>\n",
              "      <td>rwd</td>\n",
              "      <td>front</td>\n",
              "      <td>101.2</td>\n",
              "      <td>bmw</td>\n",
              "      <td>...</td>\n",
              "      <td>164</td>\n",
              "      <td>mpfi</td>\n",
              "      <td>3.31</td>\n",
              "      <td>3.19</td>\n",
              "      <td>9.0</td>\n",
              "      <td>121</td>\n",
              "      <td>4250</td>\n",
              "      <td>21</td>\n",
              "      <td>28</td>\n",
              "      <td>20970</td>\n",
              "    </tr>\n",
              "    <tr>\n",
              "      <th>13</th>\n",
              "      <td>0</td>\n",
              "      <td>188</td>\n",
              "      <td>gas</td>\n",
              "      <td>std</td>\n",
              "      <td>four</td>\n",
              "      <td>sedan</td>\n",
              "      <td>rwd</td>\n",
              "      <td>front</td>\n",
              "      <td>101.2</td>\n",
              "      <td>bmw</td>\n",
              "      <td>...</td>\n",
              "      <td>164</td>\n",
              "      <td>mpfi</td>\n",
              "      <td>3.31</td>\n",
              "      <td>3.19</td>\n",
              "      <td>9.0</td>\n",
              "      <td>121</td>\n",
              "      <td>4250</td>\n",
              "      <td>21</td>\n",
              "      <td>28</td>\n",
              "      <td>21105</td>\n",
              "    </tr>\n",
              "    <tr>\n",
              "      <th>14</th>\n",
              "      <td>1</td>\n",
              "      <td>?</td>\n",
              "      <td>gas</td>\n",
              "      <td>std</td>\n",
              "      <td>four</td>\n",
              "      <td>sedan</td>\n",
              "      <td>rwd</td>\n",
              "      <td>front</td>\n",
              "      <td>103.5</td>\n",
              "      <td>bmw</td>\n",
              "      <td>...</td>\n",
              "      <td>164</td>\n",
              "      <td>mpfi</td>\n",
              "      <td>3.31</td>\n",
              "      <td>3.19</td>\n",
              "      <td>9.0</td>\n",
              "      <td>121</td>\n",
              "      <td>4250</td>\n",
              "      <td>20</td>\n",
              "      <td>25</td>\n",
              "      <td>24565</td>\n",
              "    </tr>\n",
              "    <tr>\n",
              "      <th>15</th>\n",
              "      <td>0</td>\n",
              "      <td>?</td>\n",
              "      <td>gas</td>\n",
              "      <td>std</td>\n",
              "      <td>four</td>\n",
              "      <td>sedan</td>\n",
              "      <td>rwd</td>\n",
              "      <td>front</td>\n",
              "      <td>103.5</td>\n",
              "      <td>bmw</td>\n",
              "      <td>...</td>\n",
              "      <td>209</td>\n",
              "      <td>mpfi</td>\n",
              "      <td>3.62</td>\n",
              "      <td>3.39</td>\n",
              "      <td>8.0</td>\n",
              "      <td>182</td>\n",
              "      <td>5400</td>\n",
              "      <td>16</td>\n",
              "      <td>22</td>\n",
              "      <td>30760</td>\n",
              "    </tr>\n",
              "    <tr>\n",
              "      <th>16</th>\n",
              "      <td>0</td>\n",
              "      <td>?</td>\n",
              "      <td>gas</td>\n",
              "      <td>std</td>\n",
              "      <td>two</td>\n",
              "      <td>sedan</td>\n",
              "      <td>rwd</td>\n",
              "      <td>front</td>\n",
              "      <td>103.5</td>\n",
              "      <td>bmw</td>\n",
              "      <td>...</td>\n",
              "      <td>209</td>\n",
              "      <td>mpfi</td>\n",
              "      <td>3.62</td>\n",
              "      <td>3.39</td>\n",
              "      <td>8.0</td>\n",
              "      <td>182</td>\n",
              "      <td>5400</td>\n",
              "      <td>16</td>\n",
              "      <td>22</td>\n",
              "      <td>41315</td>\n",
              "    </tr>\n",
              "    <tr>\n",
              "      <th>17</th>\n",
              "      <td>0</td>\n",
              "      <td>?</td>\n",
              "      <td>gas</td>\n",
              "      <td>std</td>\n",
              "      <td>four</td>\n",
              "      <td>sedan</td>\n",
              "      <td>rwd</td>\n",
              "      <td>front</td>\n",
              "      <td>110.0</td>\n",
              "      <td>bmw</td>\n",
              "      <td>...</td>\n",
              "      <td>209</td>\n",
              "      <td>mpfi</td>\n",
              "      <td>3.62</td>\n",
              "      <td>3.39</td>\n",
              "      <td>8.0</td>\n",
              "      <td>182</td>\n",
              "      <td>5400</td>\n",
              "      <td>15</td>\n",
              "      <td>20</td>\n",
              "      <td>36880</td>\n",
              "    </tr>\n",
              "    <tr>\n",
              "      <th>18</th>\n",
              "      <td>2</td>\n",
              "      <td>121</td>\n",
              "      <td>gas</td>\n",
              "      <td>std</td>\n",
              "      <td>two</td>\n",
              "      <td>hatchback</td>\n",
              "      <td>fwd</td>\n",
              "      <td>front</td>\n",
              "      <td>88.4</td>\n",
              "      <td>chevrolet</td>\n",
              "      <td>...</td>\n",
              "      <td>61</td>\n",
              "      <td>2bbl</td>\n",
              "      <td>2.91</td>\n",
              "      <td>3.03</td>\n",
              "      <td>9.5</td>\n",
              "      <td>48</td>\n",
              "      <td>5100</td>\n",
              "      <td>47</td>\n",
              "      <td>53</td>\n",
              "      <td>5151</td>\n",
              "    </tr>\n",
              "    <tr>\n",
              "      <th>19</th>\n",
              "      <td>1</td>\n",
              "      <td>98</td>\n",
              "      <td>gas</td>\n",
              "      <td>std</td>\n",
              "      <td>two</td>\n",
              "      <td>hatchback</td>\n",
              "      <td>fwd</td>\n",
              "      <td>front</td>\n",
              "      <td>94.5</td>\n",
              "      <td>chevrolet</td>\n",
              "      <td>...</td>\n",
              "      <td>90</td>\n",
              "      <td>2bbl</td>\n",
              "      <td>3.03</td>\n",
              "      <td>3.11</td>\n",
              "      <td>9.6</td>\n",
              "      <td>70</td>\n",
              "      <td>5400</td>\n",
              "      <td>38</td>\n",
              "      <td>43</td>\n",
              "      <td>6295</td>\n",
              "    </tr>\n",
              "  </tbody>\n",
              "</table>\n",
              "<p>20 rows × 26 columns</p>\n",
              "</div>"
            ],
            "text/plain": [
              "    symboling normalized_losses make fuel_type aspiration num_of_doors  \\\n",
              "0           3                 ?  gas       std        two  convertible   \n",
              "1           3                 ?  gas       std        two  convertible   \n",
              "2           1                 ?  gas       std        two    hatchback   \n",
              "3           2               164  gas       std       four        sedan   \n",
              "4           2               164  gas       std       four        sedan   \n",
              "5           2                 ?  gas       std        two        sedan   \n",
              "6           1               158  gas       std       four        sedan   \n",
              "7           1                 ?  gas       std       four        wagon   \n",
              "8           1               158  gas     turbo       four        sedan   \n",
              "9           0                 ?  gas     turbo        two    hatchback   \n",
              "10          2               192  gas       std        two        sedan   \n",
              "11          0               192  gas       std       four        sedan   \n",
              "12          0               188  gas       std        two        sedan   \n",
              "13          0               188  gas       std       four        sedan   \n",
              "14          1                 ?  gas       std       four        sedan   \n",
              "15          0                 ?  gas       std       four        sedan   \n",
              "16          0                 ?  gas       std        two        sedan   \n",
              "17          0                 ?  gas       std       four        sedan   \n",
              "18          2               121  gas       std        two    hatchback   \n",
              "19          1                98  gas       std        two    hatchback   \n",
              "\n",
              "   body_style drive_wheels  engine_location   wheel_base  ...  engine_size  \\\n",
              "0         rwd        front             88.6  alfa-romero  ...          130   \n",
              "1         rwd        front             88.6  alfa-romero  ...          130   \n",
              "2         rwd        front             94.5  alfa-romero  ...          152   \n",
              "3         fwd        front             99.8         audi  ...          109   \n",
              "4         4wd        front             99.4         audi  ...          136   \n",
              "5         fwd        front             99.8         audi  ...          136   \n",
              "6         fwd        front            105.8         audi  ...          136   \n",
              "7         fwd        front            105.8         audi  ...          136   \n",
              "8         fwd        front            105.8         audi  ...          131   \n",
              "9         4wd        front             99.5         audi  ...          131   \n",
              "10        rwd        front            101.2          bmw  ...          108   \n",
              "11        rwd        front            101.2          bmw  ...          108   \n",
              "12        rwd        front            101.2          bmw  ...          164   \n",
              "13        rwd        front            101.2          bmw  ...          164   \n",
              "14        rwd        front            103.5          bmw  ...          164   \n",
              "15        rwd        front            103.5          bmw  ...          209   \n",
              "16        rwd        front            103.5          bmw  ...          209   \n",
              "17        rwd        front            110.0          bmw  ...          209   \n",
              "18        fwd        front             88.4    chevrolet  ...           61   \n",
              "19        fwd        front             94.5    chevrolet  ...           90   \n",
              "\n",
              "    fuel_system  bore  stroke compression_ratio horsepower  peak_rpm city_mpg  \\\n",
              "0          mpfi  3.47    2.68               9.0        111      5000       21   \n",
              "1          mpfi  3.47    2.68               9.0        111      5000       21   \n",
              "2          mpfi  2.68    3.47               9.0        154      5000       19   \n",
              "3          mpfi  3.19     3.4              10.0        102      5500       24   \n",
              "4          mpfi  3.19     3.4               8.0        115      5500       18   \n",
              "5          mpfi  3.19     3.4               8.5        110      5500       19   \n",
              "6          mpfi  3.19     3.4               8.5        110      5500       19   \n",
              "7          mpfi  3.19     3.4               8.5        110      5500       19   \n",
              "8          mpfi  3.13     3.4               8.3        140      5500       17   \n",
              "9          mpfi  3.13     3.4               7.0        160      5500       16   \n",
              "10         mpfi   3.5     2.8               8.8        101      5800       23   \n",
              "11         mpfi   3.5     2.8               8.8        101      5800       23   \n",
              "12         mpfi  3.31    3.19               9.0        121      4250       21   \n",
              "13         mpfi  3.31    3.19               9.0        121      4250       21   \n",
              "14         mpfi  3.31    3.19               9.0        121      4250       20   \n",
              "15         mpfi  3.62    3.39               8.0        182      5400       16   \n",
              "16         mpfi  3.62    3.39               8.0        182      5400       16   \n",
              "17         mpfi  3.62    3.39               8.0        182      5400       15   \n",
              "18         2bbl  2.91    3.03               9.5         48      5100       47   \n",
              "19         2bbl  3.03    3.11               9.6         70      5400       38   \n",
              "\n",
              "   highway_mpg  price  \n",
              "0           27  13495  \n",
              "1           27  16500  \n",
              "2           26  16500  \n",
              "3           30  13950  \n",
              "4           22  17450  \n",
              "5           25  15250  \n",
              "6           25  17710  \n",
              "7           25  18920  \n",
              "8           20  23875  \n",
              "9           22      ?  \n",
              "10          29  16430  \n",
              "11          29  16925  \n",
              "12          28  20970  \n",
              "13          28  21105  \n",
              "14          25  24565  \n",
              "15          22  30760  \n",
              "16          22  41315  \n",
              "17          20  36880  \n",
              "18          53   5151  \n",
              "19          43   6295  \n",
              "\n",
              "[20 rows x 26 columns]"
            ]
          },
          "metadata": {
            "tags": []
          },
          "execution_count": 194
        }
      ]
    },
    {
      "cell_type": "code",
      "metadata": {
        "id": "VdFWJURTZGal",
        "colab_type": "code",
        "colab": {}
      },
      "source": [
        "pri.aspiration.fillna(\"two\", inplace=True)\n",
        "pri.make.fillna(\"gas\", inplace=True)\n",
        "pri.fuel_type.fillna(\"turbo\", inplace=True)\n",
        "pri.num_of_doors.fillna(\"sedan\", inplace=True)\n",
        "pri.body_style.fillna(\"rwd\", inplace=True)\n",
        "pri.engine_type.fillna(\"ohc\", inplace=True)\n",
        "pri.wheel_base.fillna(\"audi\", inplace=True)\n",
        "pri.num_of_cylinders.fillna(\"four\", inplace=True)\n",
        "pri.fuel_system.fillna(\"mpfi\", inplace=True)"
      ],
      "execution_count": null,
      "outputs": []
    },
    {
      "cell_type": "code",
      "metadata": {
        "id": "wRbkqGrrZGay",
        "colab_type": "code",
        "colab": {},
        "outputId": "1ba34c02-6cd4-4e19-deac-a0c24401f754"
      },
      "source": [
        "pri.isnull().sum()"
      ],
      "execution_count": null,
      "outputs": [
        {
          "output_type": "execute_result",
          "data": {
            "text/plain": [
              "symboling            0\n",
              "normalized_losses    0\n",
              "make                 0\n",
              "fuel_type            0\n",
              "aspiration           0\n",
              "num_of_doors         0\n",
              "body_style           0\n",
              "drive_wheels         0\n",
              "engine_location      0\n",
              "wheel_base           0\n",
              "length               0\n",
              "width                0\n",
              "height               0\n",
              "curb_weight          0\n",
              "engine_type          0\n",
              "num_of_cylinders     0\n",
              "engine_size          0\n",
              "fuel_system          0\n",
              "bore                 0\n",
              "stroke               0\n",
              "compression_ratio    0\n",
              "horsepower           0\n",
              "peak_rpm             0\n",
              "city_mpg             0\n",
              "highway_mpg          0\n",
              "price                0\n",
              "dtype: int64"
            ]
          },
          "metadata": {
            "tags": []
          },
          "execution_count": 196
        }
      ]
    },
    {
      "cell_type": "code",
      "metadata": {
        "id": "ZXPfyMNTZGbC",
        "colab_type": "code",
        "colab": {}
      },
      "source": [
        "pri.fillna(Pri.median(), inplace=True)"
      ],
      "execution_count": null,
      "outputs": []
    },
    {
      "cell_type": "code",
      "metadata": {
        "id": "0sx5FzQGZGbN",
        "colab_type": "code",
        "colab": {}
      },
      "source": [
        ""
      ],
      "execution_count": null,
      "outputs": []
    },
    {
      "cell_type": "code",
      "metadata": {
        "id": "-w_7DNKqZGbb",
        "colab_type": "code",
        "colab": {}
      },
      "source": [
        "import sklearn\n",
        "from sklearn.preprocessing import LabelEncoder"
      ],
      "execution_count": null,
      "outputs": []
    },
    {
      "cell_type": "code",
      "metadata": {
        "id": "3Kw55if6ZGbp",
        "colab_type": "code",
        "colab": {}
      },
      "source": [
        "le = LabelEncoder()"
      ],
      "execution_count": null,
      "outputs": []
    },
    {
      "cell_type": "code",
      "metadata": {
        "id": "fVpOBcV1ZGb0",
        "colab_type": "code",
        "colab": {}
      },
      "source": [
        "pri[pri.select_dtypes(include=['object']).columns] = pri[pri.select_dtypes(include=['object']).columns].apply(le.fit_transform)"
      ],
      "execution_count": null,
      "outputs": []
    },
    {
      "cell_type": "code",
      "metadata": {
        "id": "C47RRYJZZGcC",
        "colab_type": "code",
        "colab": {}
      },
      "source": [
        "pri_x = pri.drop([\"price\"], axis=1)\n",
        "\n",
        "pri_y = pri.price"
      ],
      "execution_count": null,
      "outputs": []
    },
    {
      "cell_type": "code",
      "metadata": {
        "id": "XVq5m-khZGcg",
        "colab_type": "code",
        "colab": {}
      },
      "source": [
        "from sklearn.model_selection import train_test_split"
      ],
      "execution_count": null,
      "outputs": []
    },
    {
      "cell_type": "code",
      "metadata": {
        "id": "9kCr4LLgZGcu",
        "colab_type": "code",
        "colab": {}
      },
      "source": [
        "pri_x = pri.iloc[:,1:22]\n",
        "pri_y = pri.iloc[:,0]"
      ],
      "execution_count": null,
      "outputs": []
    },
    {
      "cell_type": "code",
      "metadata": {
        "id": "BaqnrINSZGc5",
        "colab_type": "code",
        "colab": {}
      },
      "source": [
        "import sklearn\n",
        "from sklearn.model_selection import train_test_split"
      ],
      "execution_count": null,
      "outputs": []
    },
    {
      "cell_type": "code",
      "metadata": {
        "id": "KTvkA2PfZGdI",
        "colab_type": "code",
        "colab": {}
      },
      "source": [
        "pri_x_train, pri_x_test, pri_y_train, pri_y_test = train_test_split(pri_x,pri_y, test_size=.2, random_state=101)"
      ],
      "execution_count": null,
      "outputs": []
    },
    {
      "cell_type": "code",
      "metadata": {
        "id": "v7SJ9V0_ZGdZ",
        "colab_type": "code",
        "colab": {}
      },
      "source": [
        "from sklearn.linear_model import LogisticRegression\n",
        "logmodel = LogisticRegression()"
      ],
      "execution_count": null,
      "outputs": []
    },
    {
      "cell_type": "code",
      "metadata": {
        "id": "n0BrWUPWZGdg",
        "colab_type": "code",
        "colab": {},
        "outputId": "d051d210-4c95-4142-c881-50d46df071c5"
      },
      "source": [
        "logmodel.fit(pri_x_train, pri_y_train)"
      ],
      "execution_count": null,
      "outputs": [
        {
          "output_type": "stream",
          "text": [
            "/home/jupyterlab/conda/envs/python/lib/python3.6/site-packages/sklearn/linear_model/logistic.py:433: FutureWarning: Default solver will be changed to 'lbfgs' in 0.22. Specify a solver to silence this warning.\n",
            "  FutureWarning)\n",
            "/home/jupyterlab/conda/envs/python/lib/python3.6/site-packages/sklearn/linear_model/logistic.py:460: FutureWarning: Default multi_class will be changed to 'auto' in 0.22. Specify the multi_class option to silence this warning.\n",
            "  \"this warning.\", FutureWarning)\n"
          ],
          "name": "stderr"
        },
        {
          "output_type": "execute_result",
          "data": {
            "text/plain": [
              "LogisticRegression(C=1.0, class_weight=None, dual=False, fit_intercept=True,\n",
              "          intercept_scaling=1, max_iter=100, multi_class='warn',\n",
              "          n_jobs=None, penalty='l2', random_state=None, solver='warn',\n",
              "          tol=0.0001, verbose=0, warm_start=False)"
            ]
          },
          "metadata": {
            "tags": []
          },
          "execution_count": 207
        }
      ]
    },
    {
      "cell_type": "code",
      "metadata": {
        "id": "XtyJgTWuZGdo",
        "colab_type": "code",
        "colab": {},
        "outputId": "d592923d-6c9e-4b11-b9a9-f4f6b742be72"
      },
      "source": [
        "pred_value = logmodel.predict(pri_x_test)\n",
        "pred_value"
      ],
      "execution_count": null,
      "outputs": [
        {
          "output_type": "execute_result",
          "data": {
            "text/plain": [
              "array([ 1,  2,  0,  1,  0,  3,  2,  1,  1,  1, -2, -1,  1,  0,  0,  0,  0,\n",
              "       -1,  1,  1,  1,  2,  0,  1,  2,  0,  1,  2,  2,  0,  1,  3, -1,  1,\n",
              "        1, -1,  1,  1,  0,  0,  1])"
            ]
          },
          "metadata": {
            "tags": []
          },
          "execution_count": 208
        }
      ]
    },
    {
      "cell_type": "code",
      "metadata": {
        "id": "gBqdHetUZGdv",
        "colab_type": "code",
        "colab": {}
      },
      "source": [
        "from sklearn.metrics import confusion_matrix\n"
      ],
      "execution_count": null,
      "outputs": []
    },
    {
      "cell_type": "code",
      "metadata": {
        "id": "-Ip8f4ccZGd2",
        "colab_type": "code",
        "colab": {},
        "outputId": "66449e26-5b91-4b0e-e004-f29c4a70c175"
      },
      "source": [
        "tab1 = confusion_matrix(pred_value, pri_y_test)\n",
        "tab1"
      ],
      "execution_count": null,
      "outputs": [
        {
          "output_type": "execute_result",
          "data": {
            "text/plain": [
              "array([[ 0,  0,  1,  0,  0,  0],\n",
              "       [ 0,  3,  1,  0,  0,  0],\n",
              "       [ 0,  1,  8,  2,  0,  0],\n",
              "       [ 0,  0,  2, 13,  2,  0],\n",
              "       [ 0,  0,  2,  0,  4,  0],\n",
              "       [ 0,  0,  0,  0,  0,  2]])"
            ]
          },
          "metadata": {
            "tags": []
          },
          "execution_count": 210
        }
      ]
    },
    {
      "cell_type": "markdown",
      "metadata": {
        "id": "tF0pItikZGd-",
        "colab_type": "text"
      },
      "source": [
        ""
      ]
    },
    {
      "cell_type": "code",
      "metadata": {
        "id": "-WlMRY4uZGeA",
        "colab_type": "code",
        "colab": {},
        "outputId": "589ade9f-aae1-4105-f244-cb900bbfdc4f"
      },
      "source": [
        "tab1.diagonal().sum()/tab1.sum()*100"
      ],
      "execution_count": null,
      "outputs": [
        {
          "output_type": "execute_result",
          "data": {
            "text/plain": [
              "73.17073170731707"
            ]
          },
          "metadata": {
            "tags": []
          },
          "execution_count": 211
        }
      ]
    },
    {
      "cell_type": "code",
      "metadata": {
        "id": "uQAgCVUaZGeI",
        "colab_type": "code",
        "colab": {},
        "outputId": "1f439937-b396-4b19-bc46-43077a90ea91"
      },
      "source": [
        "pred_values_prob = logmodel.predict_proba(pri_x_test)\n",
        "pred_values_prob\n"
      ],
      "execution_count": null,
      "outputs": [
        {
          "output_type": "execute_result",
          "data": {
            "text/plain": [
              "array([[9.95406754e-14, 1.22557163e-01, 1.97811010e-01, 6.31871818e-01,\n",
              "        3.92801336e-02, 8.47987610e-03],\n",
              "       [8.76491986e-17, 1.05923204e-01, 2.86267513e-01, 6.22938492e-02,\n",
              "        5.21023239e-01, 2.44921943e-02],\n",
              "       [7.65188737e-12, 3.51765311e-01, 4.96587316e-01, 1.03756831e-01,\n",
              "        1.04924042e-03, 4.68413026e-02],\n",
              "       [8.17193518e-09, 2.71799493e-01, 8.55589094e-05, 3.42395911e-01,\n",
              "        2.74245172e-01, 1.11473857e-01],\n",
              "       [1.19443537e-12, 3.95128035e-01, 5.98372587e-01, 5.12995514e-03,\n",
              "        1.35864221e-03, 1.07811154e-05],\n",
              "       [1.35094871e-08, 4.54227028e-05, 4.51561156e-02, 9.87527761e-02,\n",
              "        3.66624013e-03, 8.52379432e-01],\n",
              "       [2.30184936e-02, 2.51197453e-03, 1.93886635e-01, 1.24687976e-01,\n",
              "        5.42931183e-01, 1.12963738e-01],\n",
              "       [9.66015884e-13, 2.26301122e-03, 2.96252674e-02, 6.03005662e-01,\n",
              "        3.62582187e-01, 2.52387251e-03],\n",
              "       [6.11120645e-10, 1.59101189e-03, 1.55973592e-01, 6.99069226e-01,\n",
              "        1.36651277e-01, 6.71489206e-03],\n",
              "       [1.96043214e-10, 3.86435485e-02, 2.13112286e-02, 7.83161004e-01,\n",
              "        1.56470384e-01, 4.13834340e-04],\n",
              "       [5.08626481e-01, 1.04965594e-02, 7.82351055e-02, 2.64614681e-02,\n",
              "        3.01144155e-01, 7.50362303e-02],\n",
              "       [4.72361170e-03, 4.58591633e-01, 6.41702982e-02, 1.29396099e-01,\n",
              "        3.43087068e-01, 3.12897393e-05],\n",
              "       [1.95436230e-14, 1.39758519e-02, 4.49635443e-02, 8.33839992e-01,\n",
              "        8.72284974e-02, 1.99921144e-02],\n",
              "       [1.80024608e-14, 1.95030388e-01, 4.16755692e-01, 2.64685330e-01,\n",
              "        1.17767720e-01, 5.76086976e-03],\n",
              "       [1.31392825e-07, 2.93454981e-02, 5.13479781e-01, 1.68026423e-02,\n",
              "        3.64649961e-01, 7.57219860e-02],\n",
              "       [1.46589868e-15, 3.88618243e-01, 5.25554048e-01, 9.94824306e-03,\n",
              "        7.58794660e-02, 1.91949323e-13],\n",
              "       [1.97360648e-09, 3.43764928e-03, 6.41008677e-01, 3.19395524e-01,\n",
              "        2.06175087e-02, 1.55406389e-02],\n",
              "       [2.94649207e-14, 6.26687456e-01, 1.50098659e-01, 4.66037143e-02,\n",
              "        1.74782542e-01, 1.82762966e-03],\n",
              "       [1.15941223e-14, 2.55589187e-04, 1.70586630e-02, 7.40030255e-01,\n",
              "        2.10098167e-01, 3.25573267e-02],\n",
              "       [1.62221238e-12, 2.60114148e-03, 3.32441723e-02, 6.05754201e-01,\n",
              "        3.55768393e-01, 2.63209233e-03],\n",
              "       [2.20842483e-08, 4.63088120e-02, 2.06917696e-03, 8.01078559e-01,\n",
              "        1.44179501e-01, 6.36392990e-03],\n",
              "       [4.48489653e-15, 2.88159075e-02, 7.61703771e-02, 1.76362060e-01,\n",
              "        7.10370952e-01, 8.28070392e-03],\n",
              "       [3.78201706e-14, 4.46476731e-02, 7.28074988e-01, 1.46981416e-01,\n",
              "        7.92277377e-02, 1.06818479e-03],\n",
              "       [1.10087308e-11, 1.32840945e-04, 3.42188637e-01, 5.65191032e-01,\n",
              "        8.77604508e-02, 4.72703906e-03],\n",
              "       [2.10099725e-05, 2.51364189e-02, 7.09979392e-04, 9.37937576e-02,\n",
              "        6.56319254e-01, 2.24019580e-01],\n",
              "       [1.38454966e-09, 1.32254028e-01, 8.59139614e-01, 7.78824597e-03,\n",
              "        1.49812681e-05, 8.03129613e-04],\n",
              "       [9.17740637e-11, 2.28986600e-04, 3.21285161e-02, 6.55041555e-01,\n",
              "        3.02840004e-01, 9.76093828e-03],\n",
              "       [4.64503005e-15, 1.17157235e-01, 3.93666061e-01, 2.67517063e-02,\n",
              "        4.62424998e-01, 1.62066305e-10],\n",
              "       [2.02524735e-17, 1.71998260e-01, 3.09241684e-01, 3.78696793e-02,\n",
              "        4.80890377e-01, 2.14250779e-10],\n",
              "       [1.27109514e-02, 8.24140411e-04, 8.43887194e-01, 2.78482532e-02,\n",
              "        1.04448474e-01, 1.02809875e-02],\n",
              "       [1.67902649e-14, 1.03082323e-02, 3.36044154e-01, 6.32365169e-01,\n",
              "        2.10833513e-02, 1.99093182e-04],\n",
              "       [5.04319695e-04, 4.12620729e-02, 2.90978389e-02, 6.75516002e-04,\n",
              "        1.05620284e-01, 8.22839969e-01],\n",
              "       [3.09598367e-08, 7.40130936e-01, 2.24434040e-01, 1.95948488e-02,\n",
              "        1.41330142e-02, 1.70713032e-03],\n",
              "       [2.42219691e-18, 1.43088328e-03, 2.98441643e-01, 5.05829879e-01,\n",
              "        1.29487066e-02, 1.81348889e-01],\n",
              "       [4.66736530e-12, 5.84638746e-03, 1.53012443e-01, 7.88774382e-01,\n",
              "        5.17164894e-02, 6.50298242e-04],\n",
              "       [2.77267860e-05, 5.87021001e-01, 1.66729140e-01, 2.21760428e-02,\n",
              "        2.23161616e-01, 8.84472775e-04],\n",
              "       [1.29788609e-11, 9.37722501e-03, 2.62797575e-01, 5.21635643e-01,\n",
              "        2.05037734e-01, 1.15182360e-03],\n",
              "       [4.57028478e-13, 1.19960723e-03, 4.82733326e-02, 8.23238788e-01,\n",
              "        1.25008466e-01, 2.27980653e-03],\n",
              "       [2.17582877e-08, 5.30112003e-03, 6.27465996e-01, 2.98090197e-01,\n",
              "        6.41058933e-02, 5.03677195e-03],\n",
              "       [4.59412297e-18, 4.17726131e-04, 7.67400684e-01, 2.08469404e-01,\n",
              "        2.08097664e-02, 2.90241865e-03],\n",
              "       [2.22952155e-10, 3.31757353e-03, 3.56747667e-02, 8.25934749e-01,\n",
              "        1.34892783e-01, 1.80127324e-04]])"
            ]
          },
          "metadata": {
            "tags": []
          },
          "execution_count": 212
        }
      ]
    },
    {
      "cell_type": "code",
      "metadata": {
        "id": "2BL4YlglZGeQ",
        "colab_type": "code",
        "colab": {}
      },
      "source": [
        "pred_full_prob = logmodel.predict_proba(pri_x)\n",
        "#pred_full_prob"
      ],
      "execution_count": null,
      "outputs": []
    },
    {
      "cell_type": "code",
      "metadata": {
        "id": "1xhpKirVZGeY",
        "colab_type": "code",
        "colab": {},
        "outputId": "47c4cdf0-2a1b-4095-d41d-e02897e9932e"
      },
      "source": [
        "df1 =  pd.concat([pri.symboling, pd.Series(pred_full_prob[:,1])],axis=1)\n",
        "\n",
        "df1.rename(columns= { df1.columns[0]:\"symboling\", df1.columns[1]:'Pred__values_Prob'}, inplace=True)\n",
        "\n",
        "df1.head()"
      ],
      "execution_count": null,
      "outputs": [
        {
          "output_type": "execute_result",
          "data": {
            "text/html": [
              "<div>\n",
              "<style scoped>\n",
              "    .dataframe tbody tr th:only-of-type {\n",
              "        vertical-align: middle;\n",
              "    }\n",
              "\n",
              "    .dataframe tbody tr th {\n",
              "        vertical-align: top;\n",
              "    }\n",
              "\n",
              "    .dataframe thead th {\n",
              "        text-align: right;\n",
              "    }\n",
              "</style>\n",
              "<table border=\"1\" class=\"dataframe\">\n",
              "  <thead>\n",
              "    <tr style=\"text-align: right;\">\n",
              "      <th></th>\n",
              "      <th>symboling</th>\n",
              "      <th>Pred__values_Prob</th>\n",
              "    </tr>\n",
              "  </thead>\n",
              "  <tbody>\n",
              "    <tr>\n",
              "      <th>0</th>\n",
              "      <td>3</td>\n",
              "      <td>1.870677e-10</td>\n",
              "    </tr>\n",
              "    <tr>\n",
              "      <th>1</th>\n",
              "      <td>3</td>\n",
              "      <td>1.870677e-10</td>\n",
              "    </tr>\n",
              "    <tr>\n",
              "      <th>2</th>\n",
              "      <td>1</td>\n",
              "      <td>1.430883e-03</td>\n",
              "    </tr>\n",
              "    <tr>\n",
              "      <th>3</th>\n",
              "      <td>2</td>\n",
              "      <td>6.206824e-03</td>\n",
              "    </tr>\n",
              "    <tr>\n",
              "      <th>4</th>\n",
              "      <td>2</td>\n",
              "      <td>1.150422e-02</td>\n",
              "    </tr>\n",
              "  </tbody>\n",
              "</table>\n",
              "</div>"
            ],
            "text/plain": [
              "   symboling  Pred__values_Prob\n",
              "0          3       1.870677e-10\n",
              "1          3       1.870677e-10\n",
              "2          1       1.430883e-03\n",
              "3          2       6.206824e-03\n",
              "4          2       1.150422e-02"
            ]
          },
          "metadata": {
            "tags": []
          },
          "execution_count": 214
        }
      ]
    },
    {
      "cell_type": "code",
      "metadata": {
        "id": "PHm4SNaWZGef",
        "colab_type": "code",
        "colab": {}
      },
      "source": [
        ""
      ],
      "execution_count": null,
      "outputs": []
    },
    {
      "cell_type": "markdown",
      "metadata": {
        "id": "pK35V5KNZGen",
        "colab_type": "text"
      },
      "source": [
        "# Desicion Tree"
      ]
    },
    {
      "cell_type": "code",
      "metadata": {
        "id": "CtFMXzCnZGeo",
        "colab_type": "code",
        "colab": {}
      },
      "source": [
        "pri_x = pri.iloc[:,1:24]\n",
        "pri_y = pri.iloc[:,0]"
      ],
      "execution_count": null,
      "outputs": []
    },
    {
      "cell_type": "code",
      "metadata": {
        "id": "GOww28KEZGev",
        "colab_type": "code",
        "colab": {}
      },
      "source": [
        "from sklearn.tree import DecisionTreeClassifier\n",
        "Dt =  DecisionTreeClassifier(criterion='gini', max_depth = 3)"
      ],
      "execution_count": null,
      "outputs": []
    },
    {
      "cell_type": "code",
      "metadata": {
        "id": "O9_o2FueZGe3",
        "colab_type": "code",
        "colab": {},
        "outputId": "23063f67-cbd2-4258-de5d-7923e9816676"
      },
      "source": [
        "Dt.fit(pri_x_train, pri_y_train)"
      ],
      "execution_count": null,
      "outputs": [
        {
          "output_type": "execute_result",
          "data": {
            "text/plain": [
              "DecisionTreeClassifier(class_weight=None, criterion='gini', max_depth=3,\n",
              "            max_features=None, max_leaf_nodes=None,\n",
              "            min_impurity_decrease=0.0, min_impurity_split=None,\n",
              "            min_samples_leaf=1, min_samples_split=2,\n",
              "            min_weight_fraction_leaf=0.0, presort=False, random_state=None,\n",
              "            splitter='best')"
            ]
          },
          "metadata": {
            "tags": []
          },
          "execution_count": 217
        }
      ]
    },
    {
      "cell_type": "code",
      "metadata": {
        "id": "7-nGZ0bkZGfC",
        "colab_type": "code",
        "colab": {}
      },
      "source": [
        "pred_Dt = Dt.predict(pri_x_test)"
      ],
      "execution_count": null,
      "outputs": []
    },
    {
      "cell_type": "code",
      "metadata": {
        "id": "bVFLNDs3ZGfJ",
        "colab_type": "code",
        "colab": {},
        "outputId": "b69390b4-5210-4896-8216-9b525f4afb3e"
      },
      "source": [
        "table_Dt = confusion_matrix(pred_Dt, pri_y_test)\n",
        "table_Dt"
      ],
      "execution_count": null,
      "outputs": [
        {
          "output_type": "execute_result",
          "data": {
            "text/plain": [
              "array([[ 0,  0,  0,  0,  0],\n",
              "       [ 4, 12,  1,  3,  0],\n",
              "       [ 0,  0, 12,  2,  0],\n",
              "       [ 0,  1,  1,  1,  0],\n",
              "       [ 0,  1,  1,  0,  2]])"
            ]
          },
          "metadata": {
            "tags": []
          },
          "execution_count": 219
        }
      ]
    },
    {
      "cell_type": "code",
      "metadata": {
        "id": "_Vj4idglZGfY",
        "colab_type": "code",
        "colab": {},
        "outputId": "17956f1c-3ef6-4436-e02a-abc490f99647"
      },
      "source": [
        "table_Dt.diagonal().sum()/table_Dt.sum()*100"
      ],
      "execution_count": null,
      "outputs": [
        {
          "output_type": "execute_result",
          "data": {
            "text/plain": [
              "65.85365853658537"
            ]
          },
          "metadata": {
            "tags": []
          },
          "execution_count": 220
        }
      ]
    },
    {
      "cell_type": "code",
      "metadata": {
        "id": "r9tssk1LZGfg",
        "colab_type": "code",
        "colab": {}
      },
      "source": [
        "pri_x = pri.iloc[:,1:24]\n",
        "pri_y = pri.iloc[:,0]"
      ],
      "execution_count": null,
      "outputs": []
    },
    {
      "cell_type": "code",
      "metadata": {
        "id": "HuVGOcXqZGfo",
        "colab_type": "code",
        "colab": {},
        "outputId": "c158704f-9fb2-454c-8fa7-4436977a7090"
      },
      "source": [
        "!pip install pydot"
      ],
      "execution_count": null,
      "outputs": [
        {
          "output_type": "stream",
          "text": [
            "Requirement already satisfied: pydot in /home/jupyterlab/conda/envs/python/lib/python3.6/site-packages (1.4.1)\n",
            "Requirement already satisfied: pyparsing>=2.1.4 in /home/jupyterlab/conda/envs/python/lib/python3.6/site-packages (from pydot) (2.4.7)\n"
          ],
          "name": "stdout"
        }
      ]
    },
    {
      "cell_type": "code",
      "metadata": {
        "id": "Yb7wjETgZGfv",
        "colab_type": "code",
        "colab": {}
      },
      "source": [
        "from IPython.display import Image\n",
        "from sklearn.externals.six import StringIO\n",
        "from sklearn.tree import export_graphviz\n",
        "import pydotplus\n",
        "\n",
        "import pydot"
      ],
      "execution_count": null,
      "outputs": []
    },
    {
      "cell_type": "code",
      "metadata": {
        "id": "vama-UDhZGf4",
        "colab_type": "code",
        "colab": {},
        "outputId": "fada6215-706b-4261-d701-56f178f66b4e"
      },
      "source": [
        "from sklearn.tree import DecisionTreeClassifier\n",
        "Dt = DecisionTreeClassifier(criterion='entropy', max_depth = 3)\n",
        "\n",
        "Dt.fit(pri_x_train, pri_y_train)"
      ],
      "execution_count": null,
      "outputs": [
        {
          "output_type": "execute_result",
          "data": {
            "text/plain": [
              "DecisionTreeClassifier(class_weight=None, criterion='entropy', max_depth=3,\n",
              "            max_features=None, max_leaf_nodes=None,\n",
              "            min_impurity_decrease=0.0, min_impurity_split=None,\n",
              "            min_samples_leaf=1, min_samples_split=2,\n",
              "            min_weight_fraction_leaf=0.0, presort=False, random_state=None,\n",
              "            splitter='best')"
            ]
          },
          "metadata": {
            "tags": []
          },
          "execution_count": 224
        }
      ]
    },
    {
      "cell_type": "code",
      "metadata": {
        "id": "h0mu_UykZGf_",
        "colab_type": "code",
        "colab": {}
      },
      "source": [
        "dot_data = StringIO()"
      ],
      "execution_count": null,
      "outputs": []
    },
    {
      "cell_type": "code",
      "metadata": {
        "id": "vh9sN4suZGgN",
        "colab_type": "code",
        "colab": {}
      },
      "source": [
        "pri_x_train_names = pri_x_train.columns"
      ],
      "execution_count": null,
      "outputs": []
    },
    {
      "cell_type": "code",
      "metadata": {
        "id": "ZfzsSpqHZGgZ",
        "colab_type": "code",
        "colab": {}
      },
      "source": [
        "abc = list(pri_y_train)"
      ],
      "execution_count": null,
      "outputs": []
    },
    {
      "cell_type": "code",
      "metadata": {
        "id": "Cc4qFlYRZGgg",
        "colab_type": "code",
        "colab": {},
        "outputId": "9fd7a1cd-8a07-48de-bdc0-800763aa3de3"
      },
      "source": [
        "fig = plt.figure(figsize=(10,10))\n",
        "\n",
        "export_graphviz(Dt, out_file=dot_data,\n",
        "                filled=True,rounded=True,\n",
        "                special_characters=True, feature_names=pri_x_train_names)\n",
        "\n",
        "graph = pydotplus.graph_from_dot_data(dot_data.getvalue())\n",
        "\n",
        "(graph) = pydot.graph_from_dot_data(dot_data.getvalue())\n"
      ],
      "execution_count": null,
      "outputs": [
        {
          "output_type": "display_data",
          "data": {
            "text/plain": [
              "<Figure size 720x720 with 0 Axes>"
            ]
          },
          "metadata": {
            "tags": []
          }
        }
      ]
    },
    {
      "cell_type": "code",
      "metadata": {
        "id": "YHKEzooIZGgn",
        "colab_type": "code",
        "colab": {}
      },
      "source": [
        ""
      ],
      "execution_count": null,
      "outputs": []
    },
    {
      "cell_type": "code",
      "metadata": {
        "id": "l5gVXvumZGgt",
        "colab_type": "code",
        "colab": {}
      },
      "source": [
        ""
      ],
      "execution_count": null,
      "outputs": []
    },
    {
      "cell_type": "code",
      "metadata": {
        "id": "BWSZGp2jZGgz",
        "colab_type": "code",
        "colab": {}
      },
      "source": [
        ""
      ],
      "execution_count": null,
      "outputs": []
    },
    {
      "cell_type": "code",
      "metadata": {
        "id": "k2JchvolZGg7",
        "colab_type": "code",
        "colab": {}
      },
      "source": [
        ""
      ],
      "execution_count": null,
      "outputs": []
    },
    {
      "cell_type": "code",
      "metadata": {
        "id": "2VSLqx0GZGhI",
        "colab_type": "code",
        "colab": {}
      },
      "source": [
        ""
      ],
      "execution_count": null,
      "outputs": []
    },
    {
      "cell_type": "code",
      "metadata": {
        "id": "1xPntJgNZGhQ",
        "colab_type": "code",
        "colab": {}
      },
      "source": [
        ""
      ],
      "execution_count": null,
      "outputs": []
    }
  ]
}