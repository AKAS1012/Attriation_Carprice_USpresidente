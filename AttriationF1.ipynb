{
  "nbformat": 4,
  "nbformat_minor": 0,
  "metadata": {
    "kernelspec": {
      "display_name": "Python 3",
      "language": "python",
      "name": "python3"
    },
    "language_info": {
      "codemirror_mode": {
        "name": "ipython",
        "version": 3
      },
      "file_extension": ".py",
      "mimetype": "text/x-python",
      "name": "python",
      "nbconvert_exporter": "python",
      "pygments_lexer": "ipython3",
      "version": "3.7.6"
    },
    "colab": {
      "name": "AttriationF1.ipynb",
      "provenance": [],
      "include_colab_link": true
    }
  },
  "cells": [
    {
      "cell_type": "markdown",
      "metadata": {
        "id": "view-in-github",
        "colab_type": "text"
      },
      "source": [
        "<a href=\"https://colab.research.google.com/github/AKAS1012/Attriation_Carprice_USpresidente/blob/master/AttriationF1.ipynb\" target=\"_parent\"><img src=\"https://colab.research.google.com/assets/colab-badge.svg\" alt=\"Open In Colab\"/></a>"
      ]
    },
    {
      "cell_type": "markdown",
      "metadata": {
        "id": "Qt1ZR8QBTCTs",
        "colab_type": "text"
      },
      "source": [
        "# LINEAR REGRESSION"
      ]
    },
    {
      "cell_type": "code",
      "metadata": {
        "id": "IAdta2AGTCTx",
        "colab_type": "code",
        "colab": {}
      },
      "source": [
        "import pandas as pd\n",
        "import numpy as np\n",
        "import matplotlib.pyplot as plt\n",
        "import seaborn as sns"
      ],
      "execution_count": null,
      "outputs": []
    },
    {
      "cell_type": "code",
      "metadata": {
        "id": "MZ920r7CTCUD",
        "colab_type": "code",
        "colab": {}
      },
      "source": [
        "Att = pd.read_csv(r\"Akash kumar - Attrition_Assignment.csv - Akash kumar - Attrition_Assignment.csv.csv\")"
      ],
      "execution_count": null,
      "outputs": []
    },
    {
      "cell_type": "code",
      "metadata": {
        "id": "ynU8HTo3TCUQ",
        "colab_type": "code",
        "colab": {},
        "outputId": "99c155c1-c299-416f-cbc7-2331903fdec6"
      },
      "source": [
        "Att.head()"
      ],
      "execution_count": null,
      "outputs": [
        {
          "output_type": "execute_result",
          "data": {
            "text/html": [
              "<div>\n",
              "<style scoped>\n",
              "    .dataframe tbody tr th:only-of-type {\n",
              "        vertical-align: middle;\n",
              "    }\n",
              "\n",
              "    .dataframe tbody tr th {\n",
              "        vertical-align: top;\n",
              "    }\n",
              "\n",
              "    .dataframe thead th {\n",
              "        text-align: right;\n",
              "    }\n",
              "</style>\n",
              "<table border=\"1\" class=\"dataframe\">\n",
              "  <thead>\n",
              "    <tr style=\"text-align: right;\">\n",
              "      <th></th>\n",
              "      <th>Age</th>\n",
              "      <th>Attrition</th>\n",
              "      <th>BusinessTravel</th>\n",
              "      <th>DailyRate</th>\n",
              "      <th>Department</th>\n",
              "      <th>DistanceFromHome</th>\n",
              "      <th>Education</th>\n",
              "      <th>EducationField</th>\n",
              "      <th>EmployeeCount</th>\n",
              "      <th>EmployeeNumber</th>\n",
              "      <th>...</th>\n",
              "      <th>RelationshipSatisfaction</th>\n",
              "      <th>StandardHours</th>\n",
              "      <th>StockOptionLevel</th>\n",
              "      <th>TotalWorkingYears</th>\n",
              "      <th>TrainingTimesLastYear</th>\n",
              "      <th>WorkLifeBalance</th>\n",
              "      <th>YearsAtCompany</th>\n",
              "      <th>YearsInCurrentRole</th>\n",
              "      <th>YearsSinceLastPromotion</th>\n",
              "      <th>YearsWithCurrManager</th>\n",
              "    </tr>\n",
              "  </thead>\n",
              "  <tbody>\n",
              "    <tr>\n",
              "      <th>0</th>\n",
              "      <td>41</td>\n",
              "      <td>Yes</td>\n",
              "      <td>Travel_Rarely</td>\n",
              "      <td>1102</td>\n",
              "      <td>Sales</td>\n",
              "      <td>1</td>\n",
              "      <td>2</td>\n",
              "      <td>Life Sciences</td>\n",
              "      <td>1</td>\n",
              "      <td>1</td>\n",
              "      <td>...</td>\n",
              "      <td>1</td>\n",
              "      <td>80</td>\n",
              "      <td>0</td>\n",
              "      <td>8</td>\n",
              "      <td>0</td>\n",
              "      <td>1</td>\n",
              "      <td>6</td>\n",
              "      <td>4</td>\n",
              "      <td>0</td>\n",
              "      <td>5</td>\n",
              "    </tr>\n",
              "    <tr>\n",
              "      <th>1</th>\n",
              "      <td>49</td>\n",
              "      <td>No</td>\n",
              "      <td>Travel_Frequently</td>\n",
              "      <td>279</td>\n",
              "      <td>Research &amp; Development</td>\n",
              "      <td>8</td>\n",
              "      <td>1</td>\n",
              "      <td>Life Sciences</td>\n",
              "      <td>1</td>\n",
              "      <td>2</td>\n",
              "      <td>...</td>\n",
              "      <td>4</td>\n",
              "      <td>80</td>\n",
              "      <td>1</td>\n",
              "      <td>10</td>\n",
              "      <td>3</td>\n",
              "      <td>3</td>\n",
              "      <td>10</td>\n",
              "      <td>7</td>\n",
              "      <td>1</td>\n",
              "      <td>7</td>\n",
              "    </tr>\n",
              "    <tr>\n",
              "      <th>2</th>\n",
              "      <td>37</td>\n",
              "      <td>Yes</td>\n",
              "      <td>Travel_Rarely</td>\n",
              "      <td>1373</td>\n",
              "      <td>Research &amp; Development</td>\n",
              "      <td>2</td>\n",
              "      <td>2</td>\n",
              "      <td>Other</td>\n",
              "      <td>1</td>\n",
              "      <td>4</td>\n",
              "      <td>...</td>\n",
              "      <td>2</td>\n",
              "      <td>80</td>\n",
              "      <td>0</td>\n",
              "      <td>7</td>\n",
              "      <td>3</td>\n",
              "      <td>3</td>\n",
              "      <td>0</td>\n",
              "      <td>0</td>\n",
              "      <td>0</td>\n",
              "      <td>0</td>\n",
              "    </tr>\n",
              "    <tr>\n",
              "      <th>3</th>\n",
              "      <td>33</td>\n",
              "      <td>No</td>\n",
              "      <td>Travel_Frequently</td>\n",
              "      <td>1392</td>\n",
              "      <td>Research &amp; Development</td>\n",
              "      <td>3</td>\n",
              "      <td>4</td>\n",
              "      <td>Life Sciences</td>\n",
              "      <td>1</td>\n",
              "      <td>5</td>\n",
              "      <td>...</td>\n",
              "      <td>3</td>\n",
              "      <td>80</td>\n",
              "      <td>0</td>\n",
              "      <td>8</td>\n",
              "      <td>3</td>\n",
              "      <td>3</td>\n",
              "      <td>8</td>\n",
              "      <td>7</td>\n",
              "      <td>3</td>\n",
              "      <td>0</td>\n",
              "    </tr>\n",
              "    <tr>\n",
              "      <th>4</th>\n",
              "      <td>27</td>\n",
              "      <td>No</td>\n",
              "      <td>Travel_Rarely</td>\n",
              "      <td>591</td>\n",
              "      <td>Research &amp; Development</td>\n",
              "      <td>2</td>\n",
              "      <td>1</td>\n",
              "      <td>Medical</td>\n",
              "      <td>1</td>\n",
              "      <td>7</td>\n",
              "      <td>...</td>\n",
              "      <td>4</td>\n",
              "      <td>80</td>\n",
              "      <td>1</td>\n",
              "      <td>6</td>\n",
              "      <td>3</td>\n",
              "      <td>3</td>\n",
              "      <td>2</td>\n",
              "      <td>2</td>\n",
              "      <td>2</td>\n",
              "      <td>2</td>\n",
              "    </tr>\n",
              "  </tbody>\n",
              "</table>\n",
              "<p>5 rows × 35 columns</p>\n",
              "</div>"
            ],
            "text/plain": [
              "   Age Attrition     BusinessTravel  DailyRate              Department  \\\n",
              "0   41       Yes      Travel_Rarely       1102                   Sales   \n",
              "1   49        No  Travel_Frequently        279  Research & Development   \n",
              "2   37       Yes      Travel_Rarely       1373  Research & Development   \n",
              "3   33        No  Travel_Frequently       1392  Research & Development   \n",
              "4   27        No      Travel_Rarely        591  Research & Development   \n",
              "\n",
              "   DistanceFromHome  Education EducationField  EmployeeCount  EmployeeNumber  \\\n",
              "0                 1          2  Life Sciences              1               1   \n",
              "1                 8          1  Life Sciences              1               2   \n",
              "2                 2          2          Other              1               4   \n",
              "3                 3          4  Life Sciences              1               5   \n",
              "4                 2          1        Medical              1               7   \n",
              "\n",
              "   ...  RelationshipSatisfaction StandardHours  StockOptionLevel  \\\n",
              "0  ...                         1            80                 0   \n",
              "1  ...                         4            80                 1   \n",
              "2  ...                         2            80                 0   \n",
              "3  ...                         3            80                 0   \n",
              "4  ...                         4            80                 1   \n",
              "\n",
              "   TotalWorkingYears  TrainingTimesLastYear WorkLifeBalance  YearsAtCompany  \\\n",
              "0                  8                      0               1               6   \n",
              "1                 10                      3               3              10   \n",
              "2                  7                      3               3               0   \n",
              "3                  8                      3               3               8   \n",
              "4                  6                      3               3               2   \n",
              "\n",
              "  YearsInCurrentRole  YearsSinceLastPromotion  YearsWithCurrManager  \n",
              "0                  4                        0                     5  \n",
              "1                  7                        1                     7  \n",
              "2                  0                        0                     0  \n",
              "3                  7                        3                     0  \n",
              "4                  2                        2                     2  \n",
              "\n",
              "[5 rows x 35 columns]"
            ]
          },
          "metadata": {
            "tags": []
          },
          "execution_count": 3
        }
      ]
    },
    {
      "cell_type": "code",
      "metadata": {
        "id": "cMVGzPNTTCUh",
        "colab_type": "code",
        "colab": {}
      },
      "source": [
        "Att.Attrition.fillna(\"Yes\", inplace=True)\n",
        "Att.BusinessTravel.fillna(\"Travel_Rearly\", inplace=True)\n",
        "Att.Department.fillna(\"Research&Development\",inplace=True)\n",
        "Att.EducationField.fillna(\"Medical\", inplace=True)\n",
        "Att.Gender.fillna(\"Male\", inplace=True)\n",
        "Att.JobLevel.fillna(\"ResearchScientist\", inplace=True)\n",
        "Att.MaritalStatus.fillna(\"Single\", inplace=True)\n",
        "Att.OverTime.fillna(\"No\", inplace=True)\n",
        "Att.Over18.fillna(\"Y\", inplace=True)"
      ],
      "execution_count": null,
      "outputs": []
    },
    {
      "cell_type": "code",
      "metadata": {
        "id": "ZAxxyIadTCUv",
        "colab_type": "code",
        "colab": {},
        "outputId": "0b9298fa-5b23-48a6-aadf-13051c9bbe46"
      },
      "source": [
        "Att.isnull().sum()"
      ],
      "execution_count": null,
      "outputs": [
        {
          "output_type": "execute_result",
          "data": {
            "text/plain": [
              "Age                         0\n",
              "Attrition                   0\n",
              "BusinessTravel              0\n",
              "DailyRate                   0\n",
              "Department                  0\n",
              "DistanceFromHome            0\n",
              "Education                   0\n",
              "EducationField              0\n",
              "EmployeeCount               0\n",
              "EmployeeNumber              0\n",
              "EnvironmentSatisfaction     0\n",
              "Gender                      0\n",
              "HourlyRate                  0\n",
              "JobInvolvement              0\n",
              "JobLevel                    0\n",
              "JobRole                     0\n",
              "JobSatisfaction             0\n",
              "MaritalStatus               0\n",
              "MonthlyIncome               0\n",
              "MonthlyRate                 0\n",
              "NumCompaniesWorked          0\n",
              "Over18                      0\n",
              "OverTime                    0\n",
              "PercentSalaryHike           0\n",
              "PerformanceRating           0\n",
              "RelationshipSatisfaction    0\n",
              "StandardHours               0\n",
              "StockOptionLevel            0\n",
              "TotalWorkingYears           0\n",
              "TrainingTimesLastYear       0\n",
              "WorkLifeBalance             0\n",
              "YearsAtCompany              0\n",
              "YearsInCurrentRole          0\n",
              "YearsSinceLastPromotion     0\n",
              "YearsWithCurrManager        0\n",
              "dtype: int64"
            ]
          },
          "metadata": {
            "tags": []
          },
          "execution_count": 5
        }
      ]
    },
    {
      "cell_type": "code",
      "metadata": {
        "id": "wdocr1RYTCU8",
        "colab_type": "code",
        "colab": {}
      },
      "source": [
        " Att.fillna(Att.mean(), inplace=True)"
      ],
      "execution_count": null,
      "outputs": []
    },
    {
      "cell_type": "code",
      "metadata": {
        "id": "pMnutLslTCVJ",
        "colab_type": "code",
        "colab": {},
        "outputId": "a941b04a-9909-4556-f851-c688b396a55f"
      },
      "source": [
        "Att.Attrition.fillna(\"1\")\n",
        "Att.BusinessTravel.fillna(\"1\")\n",
        "Att.Department.fillna(\"1\")\n",
        "Att.EducationField.fillna(\"1\")\n",
        "Att.Gender.fillna(\"1\")\n",
        "Att.JobLevel.fillna(\"1\")\n",
        "Att.MaritalStatus.fillna(\"1\")\n",
        "Att.OverTime.fillna(\"1\")"
      ],
      "execution_count": null,
      "outputs": [
        {
          "output_type": "execute_result",
          "data": {
            "text/plain": [
              "0       Yes\n",
              "1        No\n",
              "2       Yes\n",
              "3       Yes\n",
              "4        No\n",
              "       ... \n",
              "1465     No\n",
              "1466     No\n",
              "1467    Yes\n",
              "1468     No\n",
              "1469     No\n",
              "Name: OverTime, Length: 1470, dtype: object"
            ]
          },
          "metadata": {
            "tags": []
          },
          "execution_count": 7
        }
      ]
    },
    {
      "cell_type": "code",
      "metadata": {
        "id": "qbwENVBETCVY",
        "colab_type": "code",
        "colab": {},
        "outputId": "3cd9c18e-ad69-48b1-8ca0-91fd5ae4d414"
      },
      "source": [
        "Att.Attrition.max()"
      ],
      "execution_count": null,
      "outputs": [
        {
          "output_type": "execute_result",
          "data": {
            "text/plain": [
              "'Yes'"
            ]
          },
          "metadata": {
            "tags": []
          },
          "execution_count": 8
        }
      ]
    },
    {
      "cell_type": "code",
      "metadata": {
        "id": "yaUjkvhTTCVk",
        "colab_type": "code",
        "colab": {}
      },
      "source": [
        "import sklearn"
      ],
      "execution_count": null,
      "outputs": []
    },
    {
      "cell_type": "code",
      "metadata": {
        "id": "H4Qg3bcATCVw",
        "colab_type": "code",
        "colab": {}
      },
      "source": [
        "from sklearn.preprocessing import LabelEncoder"
      ],
      "execution_count": null,
      "outputs": []
    },
    {
      "cell_type": "code",
      "metadata": {
        "id": "jfU8iZGMTCV8",
        "colab_type": "code",
        "colab": {}
      },
      "source": [
        "le = LabelEncoder()"
      ],
      "execution_count": null,
      "outputs": []
    },
    {
      "cell_type": "code",
      "metadata": {
        "id": "P7AdhnKWTCWH",
        "colab_type": "code",
        "colab": {}
      },
      "source": [
        "Att[Att.select_dtypes(include=['object']).columns] = Att[Att.select_dtypes(include=['object']).columns].apply(le.fit_transform)"
      ],
      "execution_count": null,
      "outputs": []
    },
    {
      "cell_type": "code",
      "metadata": {
        "id": "kS2X5naTTCWg",
        "colab_type": "code",
        "colab": {}
      },
      "source": [
        "Att_x = Att.drop([\"Attrition\"],axis=1)\n",
        "\n",
        "Att_y = Att.Attrition"
      ],
      "execution_count": null,
      "outputs": []
    },
    {
      "cell_type": "code",
      "metadata": {
        "id": "vzbsa8ALTCWr",
        "colab_type": "code",
        "colab": {},
        "outputId": "1371ba0f-7508-4909-a1ce-0b5ba89337c3"
      },
      "source": [
        "Att.head()"
      ],
      "execution_count": null,
      "outputs": [
        {
          "output_type": "execute_result",
          "data": {
            "text/html": [
              "<div>\n",
              "<style scoped>\n",
              "    .dataframe tbody tr th:only-of-type {\n",
              "        vertical-align: middle;\n",
              "    }\n",
              "\n",
              "    .dataframe tbody tr th {\n",
              "        vertical-align: top;\n",
              "    }\n",
              "\n",
              "    .dataframe thead th {\n",
              "        text-align: right;\n",
              "    }\n",
              "</style>\n",
              "<table border=\"1\" class=\"dataframe\">\n",
              "  <thead>\n",
              "    <tr style=\"text-align: right;\">\n",
              "      <th></th>\n",
              "      <th>Age</th>\n",
              "      <th>Attrition</th>\n",
              "      <th>BusinessTravel</th>\n",
              "      <th>DailyRate</th>\n",
              "      <th>Department</th>\n",
              "      <th>DistanceFromHome</th>\n",
              "      <th>Education</th>\n",
              "      <th>EducationField</th>\n",
              "      <th>EmployeeCount</th>\n",
              "      <th>EmployeeNumber</th>\n",
              "      <th>...</th>\n",
              "      <th>RelationshipSatisfaction</th>\n",
              "      <th>StandardHours</th>\n",
              "      <th>StockOptionLevel</th>\n",
              "      <th>TotalWorkingYears</th>\n",
              "      <th>TrainingTimesLastYear</th>\n",
              "      <th>WorkLifeBalance</th>\n",
              "      <th>YearsAtCompany</th>\n",
              "      <th>YearsInCurrentRole</th>\n",
              "      <th>YearsSinceLastPromotion</th>\n",
              "      <th>YearsWithCurrManager</th>\n",
              "    </tr>\n",
              "  </thead>\n",
              "  <tbody>\n",
              "    <tr>\n",
              "      <th>0</th>\n",
              "      <td>41</td>\n",
              "      <td>1</td>\n",
              "      <td>2</td>\n",
              "      <td>1102</td>\n",
              "      <td>2</td>\n",
              "      <td>1</td>\n",
              "      <td>2</td>\n",
              "      <td>1</td>\n",
              "      <td>1</td>\n",
              "      <td>1</td>\n",
              "      <td>...</td>\n",
              "      <td>1</td>\n",
              "      <td>80</td>\n",
              "      <td>0</td>\n",
              "      <td>8</td>\n",
              "      <td>0</td>\n",
              "      <td>1</td>\n",
              "      <td>6</td>\n",
              "      <td>4</td>\n",
              "      <td>0</td>\n",
              "      <td>5</td>\n",
              "    </tr>\n",
              "    <tr>\n",
              "      <th>1</th>\n",
              "      <td>49</td>\n",
              "      <td>0</td>\n",
              "      <td>1</td>\n",
              "      <td>279</td>\n",
              "      <td>1</td>\n",
              "      <td>8</td>\n",
              "      <td>1</td>\n",
              "      <td>1</td>\n",
              "      <td>1</td>\n",
              "      <td>2</td>\n",
              "      <td>...</td>\n",
              "      <td>4</td>\n",
              "      <td>80</td>\n",
              "      <td>1</td>\n",
              "      <td>10</td>\n",
              "      <td>3</td>\n",
              "      <td>3</td>\n",
              "      <td>10</td>\n",
              "      <td>7</td>\n",
              "      <td>1</td>\n",
              "      <td>7</td>\n",
              "    </tr>\n",
              "    <tr>\n",
              "      <th>2</th>\n",
              "      <td>37</td>\n",
              "      <td>1</td>\n",
              "      <td>2</td>\n",
              "      <td>1373</td>\n",
              "      <td>1</td>\n",
              "      <td>2</td>\n",
              "      <td>2</td>\n",
              "      <td>4</td>\n",
              "      <td>1</td>\n",
              "      <td>4</td>\n",
              "      <td>...</td>\n",
              "      <td>2</td>\n",
              "      <td>80</td>\n",
              "      <td>0</td>\n",
              "      <td>7</td>\n",
              "      <td>3</td>\n",
              "      <td>3</td>\n",
              "      <td>0</td>\n",
              "      <td>0</td>\n",
              "      <td>0</td>\n",
              "      <td>0</td>\n",
              "    </tr>\n",
              "    <tr>\n",
              "      <th>3</th>\n",
              "      <td>33</td>\n",
              "      <td>0</td>\n",
              "      <td>1</td>\n",
              "      <td>1392</td>\n",
              "      <td>1</td>\n",
              "      <td>3</td>\n",
              "      <td>4</td>\n",
              "      <td>1</td>\n",
              "      <td>1</td>\n",
              "      <td>5</td>\n",
              "      <td>...</td>\n",
              "      <td>3</td>\n",
              "      <td>80</td>\n",
              "      <td>0</td>\n",
              "      <td>8</td>\n",
              "      <td>3</td>\n",
              "      <td>3</td>\n",
              "      <td>8</td>\n",
              "      <td>7</td>\n",
              "      <td>3</td>\n",
              "      <td>0</td>\n",
              "    </tr>\n",
              "    <tr>\n",
              "      <th>4</th>\n",
              "      <td>27</td>\n",
              "      <td>0</td>\n",
              "      <td>2</td>\n",
              "      <td>591</td>\n",
              "      <td>1</td>\n",
              "      <td>2</td>\n",
              "      <td>1</td>\n",
              "      <td>3</td>\n",
              "      <td>1</td>\n",
              "      <td>7</td>\n",
              "      <td>...</td>\n",
              "      <td>4</td>\n",
              "      <td>80</td>\n",
              "      <td>1</td>\n",
              "      <td>6</td>\n",
              "      <td>3</td>\n",
              "      <td>3</td>\n",
              "      <td>2</td>\n",
              "      <td>2</td>\n",
              "      <td>2</td>\n",
              "      <td>2</td>\n",
              "    </tr>\n",
              "  </tbody>\n",
              "</table>\n",
              "<p>5 rows × 35 columns</p>\n",
              "</div>"
            ],
            "text/plain": [
              "   Age  Attrition  BusinessTravel  DailyRate  Department  DistanceFromHome  \\\n",
              "0   41          1               2       1102           2                 1   \n",
              "1   49          0               1        279           1                 8   \n",
              "2   37          1               2       1373           1                 2   \n",
              "3   33          0               1       1392           1                 3   \n",
              "4   27          0               2        591           1                 2   \n",
              "\n",
              "   Education  EducationField  EmployeeCount  EmployeeNumber  ...  \\\n",
              "0          2               1              1               1  ...   \n",
              "1          1               1              1               2  ...   \n",
              "2          2               4              1               4  ...   \n",
              "3          4               1              1               5  ...   \n",
              "4          1               3              1               7  ...   \n",
              "\n",
              "   RelationshipSatisfaction  StandardHours  StockOptionLevel  \\\n",
              "0                         1             80                 0   \n",
              "1                         4             80                 1   \n",
              "2                         2             80                 0   \n",
              "3                         3             80                 0   \n",
              "4                         4             80                 1   \n",
              "\n",
              "   TotalWorkingYears  TrainingTimesLastYear  WorkLifeBalance  YearsAtCompany  \\\n",
              "0                  8                      0                1               6   \n",
              "1                 10                      3                3              10   \n",
              "2                  7                      3                3               0   \n",
              "3                  8                      3                3               8   \n",
              "4                  6                      3                3               2   \n",
              "\n",
              "   YearsInCurrentRole  YearsSinceLastPromotion  YearsWithCurrManager  \n",
              "0                   4                        0                     5  \n",
              "1                   7                        1                     7  \n",
              "2                   0                        0                     0  \n",
              "3                   7                        3                     0  \n",
              "4                   2                        2                     2  \n",
              "\n",
              "[5 rows x 35 columns]"
            ]
          },
          "metadata": {
            "tags": []
          },
          "execution_count": 14
        }
      ]
    },
    {
      "cell_type": "code",
      "metadata": {
        "id": "ZfrbjJiUTCW2",
        "colab_type": "code",
        "colab": {}
      },
      "source": [
        "from sklearn.model_selection import train_test_split"
      ],
      "execution_count": null,
      "outputs": []
    },
    {
      "cell_type": "code",
      "metadata": {
        "id": "Nyb0tSrYTCXB",
        "colab_type": "code",
        "colab": {}
      },
      "source": [
        "Att_x = Att.iloc[:, 1:30]\n",
        "Att_y = Att.iloc[:,0]"
      ],
      "execution_count": null,
      "outputs": []
    },
    {
      "cell_type": "code",
      "metadata": {
        "id": "9AUiyv_bTCXM",
        "colab_type": "code",
        "colab": {}
      },
      "source": [
        "Att_x_train, Att_x_test,Att_y_train, Att_y_test = train_test_split(Att_x,Att_y,test_size=.2)"
      ],
      "execution_count": null,
      "outputs": []
    },
    {
      "cell_type": "code",
      "metadata": {
        "id": "WKO4hfv4TCXY",
        "colab_type": "code",
        "colab": {}
      },
      "source": [
        "from sklearn import linear_model"
      ],
      "execution_count": null,
      "outputs": []
    },
    {
      "cell_type": "code",
      "metadata": {
        "id": "j1uvxq8JTCXk",
        "colab_type": "code",
        "colab": {}
      },
      "source": [
        "reg = linear_model.LinearRegression()"
      ],
      "execution_count": null,
      "outputs": []
    },
    {
      "cell_type": "code",
      "metadata": {
        "id": "UlCTlq7oTCXw",
        "colab_type": "code",
        "colab": {},
        "outputId": "c18fef3d-9041-44e6-9b2b-9278d49c9cf9"
      },
      "source": [
        "reg.fit(Att_x_train, Att_y_train)"
      ],
      "execution_count": null,
      "outputs": [
        {
          "output_type": "execute_result",
          "data": {
            "text/plain": [
              "LinearRegression(copy_X=True, fit_intercept=True, n_jobs=None, normalize=False)"
            ]
          },
          "metadata": {
            "tags": []
          },
          "execution_count": 883
        }
      ]
    },
    {
      "cell_type": "code",
      "metadata": {
        "id": "Uvny4DoNTCX8",
        "colab_type": "code",
        "colab": {},
        "outputId": "e0e65889-5310-4cd3-eda5-0657922a963b"
      },
      "source": [
        "reg.coef_"
      ],
      "execution_count": null,
      "outputs": [
        {
          "output_type": "execute_result",
          "data": {
            "text/plain": [
              "array([-1.34460123e+00, -3.90961943e-02, -2.87746905e-04,  1.36262102e-01,\n",
              "       -7.02633782e-03,  8.23189308e-01, -1.40527538e-01,  1.83186799e-15,\n",
              "       -1.24463837e-04,  8.31868306e-02, -8.94064916e-02,  1.68590861e-02,\n",
              "        2.12455968e-01,  1.23285090e-01, -9.93198373e-02,  1.76542627e-01,\n",
              "       -5.93774637e-01, -1.32932126e-04,  4.01071766e-05,  5.00328519e-01,\n",
              "       -1.11022302e-16,  8.09035838e-01,  1.09189638e-01, -7.65332163e-01,\n",
              "        2.67625852e-01, -5.55111512e-17, -1.48472383e-01,  7.80932263e-01,\n",
              "        3.72766074e-02])"
            ]
          },
          "metadata": {
            "tags": []
          },
          "execution_count": 884
        }
      ]
    },
    {
      "cell_type": "code",
      "metadata": {
        "id": "iFeH6cRJTCYH",
        "colab_type": "code",
        "colab": {},
        "outputId": "502b2100-d993-4803-c8b9-178af90c593f"
      },
      "source": [
        "Att_x_train.columns"
      ],
      "execution_count": null,
      "outputs": [
        {
          "output_type": "execute_result",
          "data": {
            "text/plain": [
              "Index(['Attrition', 'BusinessTravel', 'DailyRate', 'Department',\n",
              "       'DistanceFromHome', 'Education', 'EducationField', 'EmployeeCount',\n",
              "       'EmployeeNumber', 'EnvironmentSatisfaction', 'Gender', 'HourlyRate',\n",
              "       'JobInvolvement', 'JobLevel', 'JobRole', 'JobSatisfaction',\n",
              "       'MaritalStatus', 'MonthlyIncome', 'MonthlyRate', 'NumCompaniesWorked',\n",
              "       'Over18', 'OverTime', 'PercentSalaryHike', 'PerformanceRating',\n",
              "       'RelationshipSatisfaction', 'StandardHours', 'StockOptionLevel',\n",
              "       'TotalWorkingYears', 'TrainingTimesLastYear'],\n",
              "      dtype='object')"
            ]
          },
          "metadata": {
            "tags": []
          },
          "execution_count": 885
        }
      ]
    },
    {
      "cell_type": "code",
      "metadata": {
        "id": "cRHPnGOUTCYT",
        "colab_type": "code",
        "colab": {}
      },
      "source": [
        "pred_train = reg.predict(Att_x_train)"
      ],
      "execution_count": null,
      "outputs": []
    },
    {
      "cell_type": "code",
      "metadata": {
        "id": "VkeHUgg6TCYe",
        "colab_type": "code",
        "colab": {}
      },
      "source": [
        "pred_actual_df = pd.DataFrame()\n",
        "pred_actual_df['Predicted'] = pd.Series(pred_train)\n",
        "pred_actual_df['Actual'] = pd.Series(Att_y_train)"
      ],
      "execution_count": null,
      "outputs": []
    },
    {
      "cell_type": "code",
      "metadata": {
        "id": "7tle2VBCTCYr",
        "colab_type": "code",
        "colab": {},
        "outputId": "23b80738-bc60-4552-fff2-db97ae4b97c9"
      },
      "source": [
        "df1 = pd.DataFrame({\"Pred\":pred_train, \"Actual\":Att_y_train})\n",
        "df1"
      ],
      "execution_count": null,
      "outputs": [
        {
          "output_type": "execute_result",
          "data": {
            "text/html": [
              "<div>\n",
              "<style scoped>\n",
              "    .dataframe tbody tr th:only-of-type {\n",
              "        vertical-align: middle;\n",
              "    }\n",
              "\n",
              "    .dataframe tbody tr th {\n",
              "        vertical-align: top;\n",
              "    }\n",
              "\n",
              "    .dataframe thead th {\n",
              "        text-align: right;\n",
              "    }\n",
              "</style>\n",
              "<table border=\"1\" class=\"dataframe\">\n",
              "  <thead>\n",
              "    <tr style=\"text-align: right;\">\n",
              "      <th></th>\n",
              "      <th>Pred</th>\n",
              "      <th>Actual</th>\n",
              "    </tr>\n",
              "  </thead>\n",
              "  <tbody>\n",
              "    <tr>\n",
              "      <th>1184</th>\n",
              "      <td>58.046806</td>\n",
              "      <td>54</td>\n",
              "    </tr>\n",
              "    <tr>\n",
              "      <th>107</th>\n",
              "      <td>31.257211</td>\n",
              "      <td>25</td>\n",
              "    </tr>\n",
              "    <tr>\n",
              "      <th>1152</th>\n",
              "      <td>29.324366</td>\n",
              "      <td>21</td>\n",
              "    </tr>\n",
              "    <tr>\n",
              "      <th>218</th>\n",
              "      <td>47.230953</td>\n",
              "      <td>45</td>\n",
              "    </tr>\n",
              "    <tr>\n",
              "      <th>224</th>\n",
              "      <td>32.411344</td>\n",
              "      <td>31</td>\n",
              "    </tr>\n",
              "    <tr>\n",
              "      <th>...</th>\n",
              "      <td>...</td>\n",
              "      <td>...</td>\n",
              "    </tr>\n",
              "    <tr>\n",
              "      <th>1431</th>\n",
              "      <td>39.370291</td>\n",
              "      <td>32</td>\n",
              "    </tr>\n",
              "    <tr>\n",
              "      <th>90</th>\n",
              "      <td>45.815575</td>\n",
              "      <td>40</td>\n",
              "    </tr>\n",
              "    <tr>\n",
              "      <th>7</th>\n",
              "      <td>27.666115</td>\n",
              "      <td>30</td>\n",
              "    </tr>\n",
              "    <tr>\n",
              "      <th>151</th>\n",
              "      <td>36.388522</td>\n",
              "      <td>35</td>\n",
              "    </tr>\n",
              "    <tr>\n",
              "      <th>778</th>\n",
              "      <td>47.550911</td>\n",
              "      <td>46</td>\n",
              "    </tr>\n",
              "  </tbody>\n",
              "</table>\n",
              "<p>1176 rows × 2 columns</p>\n",
              "</div>"
            ],
            "text/plain": [
              "           Pred  Actual\n",
              "1184  58.046806      54\n",
              "107   31.257211      25\n",
              "1152  29.324366      21\n",
              "218   47.230953      45\n",
              "224   32.411344      31\n",
              "...         ...     ...\n",
              "1431  39.370291      32\n",
              "90    45.815575      40\n",
              "7     27.666115      30\n",
              "151   36.388522      35\n",
              "778   47.550911      46\n",
              "\n",
              "[1176 rows x 2 columns]"
            ]
          },
          "metadata": {
            "tags": []
          },
          "execution_count": 888
        }
      ]
    },
    {
      "cell_type": "code",
      "metadata": {
        "id": "dd4bcvkHTCY4",
        "colab_type": "code",
        "colab": {},
        "outputId": "e438c44d-3ebf-4ce4-8f94-0e73b3dee3d3"
      },
      "source": [
        "Rsquare = reg.score(Att_x_train, Att_y_train)\n",
        "print(Rsquare)"
      ],
      "execution_count": null,
      "outputs": [
        {
          "output_type": "stream",
          "text": [
            "0.511959222695292\n"
          ],
          "name": "stdout"
        }
      ]
    },
    {
      "cell_type": "code",
      "metadata": {
        "id": "eah3F1fZTCZC",
        "colab_type": "code",
        "colab": {},
        "outputId": "bb4aa982-e1e5-4cee-fc54-3bc2fd8b0820"
      },
      "source": [
        "Att.shape"
      ],
      "execution_count": null,
      "outputs": [
        {
          "output_type": "execute_result",
          "data": {
            "text/plain": [
              "(1470, 35)"
            ]
          },
          "metadata": {
            "tags": []
          },
          "execution_count": 890
        }
      ]
    },
    {
      "cell_type": "code",
      "metadata": {
        "id": "VrY_Z0KzTCZO",
        "colab_type": "code",
        "colab": {},
        "outputId": "809d5f18-afe6-43bd-87ed-b982aa41cf58"
      },
      "source": [
        "\n",
        "K=35\n",
        "N=1470\n",
        "\n",
        "AdjRsquare = 1 - (1-Rsquare)*(N-1)/(N-K-1)\n",
        "AdjRsquare"
      ],
      "execution_count": null,
      "outputs": [
        {
          "output_type": "execute_result",
          "data": {
            "text/plain": [
              "0.5000474882422483"
            ]
          },
          "metadata": {
            "tags": []
          },
          "execution_count": 891
        }
      ]
    },
    {
      "cell_type": "code",
      "metadata": {
        "id": "3F_3_DTLTCZY",
        "colab_type": "code",
        "colab": {},
        "outputId": "e76f0a33-d8a5-4e3d-a698-5933bc00429a"
      },
      "source": [
        "Att_y_train"
      ],
      "execution_count": null,
      "outputs": [
        {
          "output_type": "execute_result",
          "data": {
            "text/plain": [
              "1184    54\n",
              "107     25\n",
              "1152    21\n",
              "218     45\n",
              "224     31\n",
              "        ..\n",
              "1431    32\n",
              "90      40\n",
              "7       30\n",
              "151     35\n",
              "778     46\n",
              "Name: Age, Length: 1176, dtype: int64"
            ]
          },
          "metadata": {
            "tags": []
          },
          "execution_count": 892
        }
      ]
    },
    {
      "cell_type": "markdown",
      "metadata": {
        "id": "Shus12GkTCZi",
        "colab_type": "raw"
      },
      "source": [
        "error = Att_y_train - pred_train \n",
        "error"
      ]
    },
    {
      "cell_type": "code",
      "metadata": {
        "id": "Xqd_9kDXTCZl",
        "colab_type": "code",
        "colab": {},
        "outputId": "40ca2eb7-105b-4d3a-ffca-175e585e56c3"
      },
      "source": [
        "reg.intercept_"
      ],
      "execution_count": null,
      "outputs": [
        {
          "output_type": "execute_result",
          "data": {
            "text/plain": [
              "23.761324053868126"
            ]
          },
          "metadata": {
            "tags": []
          },
          "execution_count": 893
        }
      ]
    },
    {
      "cell_type": "code",
      "metadata": {
        "id": "yAEFds41TCZz",
        "colab_type": "code",
        "colab": {},
        "outputId": "34cdd10f-9459-4157-e4d5-56db9ca002c3"
      },
      "source": [
        "reg.coef_"
      ],
      "execution_count": null,
      "outputs": [
        {
          "output_type": "execute_result",
          "data": {
            "text/plain": [
              "array([-1.34460123e+00, -3.90961943e-02, -2.87746905e-04,  1.36262102e-01,\n",
              "       -7.02633782e-03,  8.23189308e-01, -1.40527538e-01,  1.83186799e-15,\n",
              "       -1.24463837e-04,  8.31868306e-02, -8.94064916e-02,  1.68590861e-02,\n",
              "        2.12455968e-01,  1.23285090e-01, -9.93198373e-02,  1.76542627e-01,\n",
              "       -5.93774637e-01, -1.32932126e-04,  4.01071766e-05,  5.00328519e-01,\n",
              "       -1.11022302e-16,  8.09035838e-01,  1.09189638e-01, -7.65332163e-01,\n",
              "        2.67625852e-01, -5.55111512e-17, -1.48472383e-01,  7.80932263e-01,\n",
              "        3.72766074e-02])"
            ]
          },
          "metadata": {
            "tags": []
          },
          "execution_count": 894
        }
      ]
    },
    {
      "cell_type": "code",
      "metadata": {
        "id": "B7Tb9q_1TCZ9",
        "colab_type": "code",
        "colab": {}
      },
      "source": [
        "Coef_values = pd.DataFrame({\"Features_Name\":Att_x_train.columns, \"Coeff\":reg.coef_})"
      ],
      "execution_count": null,
      "outputs": []
    },
    {
      "cell_type": "code",
      "metadata": {
        "id": "QnIQbtCVTCaH",
        "colab_type": "code",
        "colab": {}
      },
      "source": [
        ""
      ],
      "execution_count": null,
      "outputs": []
    },
    {
      "cell_type": "code",
      "metadata": {
        "id": "UUQ8hxNYTCaR",
        "colab_type": "code",
        "colab": {},
        "outputId": "045e5917-23f5-4586-9eb3-1721b2e0daae"
      },
      "source": [
        "Coef_values.sort_values(\"Coeff\", ascending=False)"
      ],
      "execution_count": null,
      "outputs": [
        {
          "output_type": "execute_result",
          "data": {
            "text/html": [
              "<div>\n",
              "<style scoped>\n",
              "    .dataframe tbody tr th:only-of-type {\n",
              "        vertical-align: middle;\n",
              "    }\n",
              "\n",
              "    .dataframe tbody tr th {\n",
              "        vertical-align: top;\n",
              "    }\n",
              "\n",
              "    .dataframe thead th {\n",
              "        text-align: right;\n",
              "    }\n",
              "</style>\n",
              "<table border=\"1\" class=\"dataframe\">\n",
              "  <thead>\n",
              "    <tr style=\"text-align: right;\">\n",
              "      <th></th>\n",
              "      <th>Features_Name</th>\n",
              "      <th>Coeff</th>\n",
              "    </tr>\n",
              "  </thead>\n",
              "  <tbody>\n",
              "    <tr>\n",
              "      <th>5</th>\n",
              "      <td>Education</td>\n",
              "      <td>8.231893e-01</td>\n",
              "    </tr>\n",
              "    <tr>\n",
              "      <th>21</th>\n",
              "      <td>OverTime</td>\n",
              "      <td>8.090358e-01</td>\n",
              "    </tr>\n",
              "    <tr>\n",
              "      <th>27</th>\n",
              "      <td>TotalWorkingYears</td>\n",
              "      <td>7.809323e-01</td>\n",
              "    </tr>\n",
              "    <tr>\n",
              "      <th>19</th>\n",
              "      <td>NumCompaniesWorked</td>\n",
              "      <td>5.003285e-01</td>\n",
              "    </tr>\n",
              "    <tr>\n",
              "      <th>24</th>\n",
              "      <td>RelationshipSatisfaction</td>\n",
              "      <td>2.676259e-01</td>\n",
              "    </tr>\n",
              "    <tr>\n",
              "      <th>12</th>\n",
              "      <td>JobInvolvement</td>\n",
              "      <td>2.124560e-01</td>\n",
              "    </tr>\n",
              "    <tr>\n",
              "      <th>15</th>\n",
              "      <td>JobSatisfaction</td>\n",
              "      <td>1.765426e-01</td>\n",
              "    </tr>\n",
              "    <tr>\n",
              "      <th>3</th>\n",
              "      <td>Department</td>\n",
              "      <td>1.362621e-01</td>\n",
              "    </tr>\n",
              "    <tr>\n",
              "      <th>13</th>\n",
              "      <td>JobLevel</td>\n",
              "      <td>1.232851e-01</td>\n",
              "    </tr>\n",
              "    <tr>\n",
              "      <th>22</th>\n",
              "      <td>PercentSalaryHike</td>\n",
              "      <td>1.091896e-01</td>\n",
              "    </tr>\n",
              "    <tr>\n",
              "      <th>9</th>\n",
              "      <td>EnvironmentSatisfaction</td>\n",
              "      <td>8.318683e-02</td>\n",
              "    </tr>\n",
              "    <tr>\n",
              "      <th>28</th>\n",
              "      <td>TrainingTimesLastYear</td>\n",
              "      <td>3.727661e-02</td>\n",
              "    </tr>\n",
              "    <tr>\n",
              "      <th>11</th>\n",
              "      <td>HourlyRate</td>\n",
              "      <td>1.685909e-02</td>\n",
              "    </tr>\n",
              "    <tr>\n",
              "      <th>18</th>\n",
              "      <td>MonthlyRate</td>\n",
              "      <td>4.010718e-05</td>\n",
              "    </tr>\n",
              "    <tr>\n",
              "      <th>7</th>\n",
              "      <td>EmployeeCount</td>\n",
              "      <td>1.831868e-15</td>\n",
              "    </tr>\n",
              "    <tr>\n",
              "      <th>25</th>\n",
              "      <td>StandardHours</td>\n",
              "      <td>-5.551115e-17</td>\n",
              "    </tr>\n",
              "    <tr>\n",
              "      <th>20</th>\n",
              "      <td>Over18</td>\n",
              "      <td>-1.110223e-16</td>\n",
              "    </tr>\n",
              "    <tr>\n",
              "      <th>8</th>\n",
              "      <td>EmployeeNumber</td>\n",
              "      <td>-1.244638e-04</td>\n",
              "    </tr>\n",
              "    <tr>\n",
              "      <th>17</th>\n",
              "      <td>MonthlyIncome</td>\n",
              "      <td>-1.329321e-04</td>\n",
              "    </tr>\n",
              "    <tr>\n",
              "      <th>2</th>\n",
              "      <td>DailyRate</td>\n",
              "      <td>-2.877469e-04</td>\n",
              "    </tr>\n",
              "    <tr>\n",
              "      <th>4</th>\n",
              "      <td>DistanceFromHome</td>\n",
              "      <td>-7.026338e-03</td>\n",
              "    </tr>\n",
              "    <tr>\n",
              "      <th>1</th>\n",
              "      <td>BusinessTravel</td>\n",
              "      <td>-3.909619e-02</td>\n",
              "    </tr>\n",
              "    <tr>\n",
              "      <th>10</th>\n",
              "      <td>Gender</td>\n",
              "      <td>-8.940649e-02</td>\n",
              "    </tr>\n",
              "    <tr>\n",
              "      <th>14</th>\n",
              "      <td>JobRole</td>\n",
              "      <td>-9.931984e-02</td>\n",
              "    </tr>\n",
              "    <tr>\n",
              "      <th>6</th>\n",
              "      <td>EducationField</td>\n",
              "      <td>-1.405275e-01</td>\n",
              "    </tr>\n",
              "    <tr>\n",
              "      <th>26</th>\n",
              "      <td>StockOptionLevel</td>\n",
              "      <td>-1.484724e-01</td>\n",
              "    </tr>\n",
              "    <tr>\n",
              "      <th>16</th>\n",
              "      <td>MaritalStatus</td>\n",
              "      <td>-5.937746e-01</td>\n",
              "    </tr>\n",
              "    <tr>\n",
              "      <th>23</th>\n",
              "      <td>PerformanceRating</td>\n",
              "      <td>-7.653322e-01</td>\n",
              "    </tr>\n",
              "    <tr>\n",
              "      <th>0</th>\n",
              "      <td>Attrition</td>\n",
              "      <td>-1.344601e+00</td>\n",
              "    </tr>\n",
              "  </tbody>\n",
              "</table>\n",
              "</div>"
            ],
            "text/plain": [
              "               Features_Name         Coeff\n",
              "5                  Education  8.231893e-01\n",
              "21                  OverTime  8.090358e-01\n",
              "27         TotalWorkingYears  7.809323e-01\n",
              "19        NumCompaniesWorked  5.003285e-01\n",
              "24  RelationshipSatisfaction  2.676259e-01\n",
              "12            JobInvolvement  2.124560e-01\n",
              "15           JobSatisfaction  1.765426e-01\n",
              "3                 Department  1.362621e-01\n",
              "13                  JobLevel  1.232851e-01\n",
              "22         PercentSalaryHike  1.091896e-01\n",
              "9    EnvironmentSatisfaction  8.318683e-02\n",
              "28     TrainingTimesLastYear  3.727661e-02\n",
              "11                HourlyRate  1.685909e-02\n",
              "18               MonthlyRate  4.010718e-05\n",
              "7              EmployeeCount  1.831868e-15\n",
              "25             StandardHours -5.551115e-17\n",
              "20                    Over18 -1.110223e-16\n",
              "8             EmployeeNumber -1.244638e-04\n",
              "17             MonthlyIncome -1.329321e-04\n",
              "2                  DailyRate -2.877469e-04\n",
              "4           DistanceFromHome -7.026338e-03\n",
              "1             BusinessTravel -3.909619e-02\n",
              "10                    Gender -8.940649e-02\n",
              "14                   JobRole -9.931984e-02\n",
              "6             EducationField -1.405275e-01\n",
              "26          StockOptionLevel -1.484724e-01\n",
              "16             MaritalStatus -5.937746e-01\n",
              "23         PerformanceRating -7.653322e-01\n",
              "0                  Attrition -1.344601e+00"
            ]
          },
          "metadata": {
            "tags": []
          },
          "execution_count": 896
        }
      ]
    },
    {
      "cell_type": "code",
      "metadata": {
        "id": "6fpNq5ZWTCac",
        "colab_type": "code",
        "colab": {},
        "outputId": "d50f7722-752b-43dc-e0e5-241ac5543c8c"
      },
      "source": [
        "pred_train = reg.predict(Att_x_train)\n",
        "error_train = Att_y_train - pred_train\n",
        "error_train"
      ],
      "execution_count": null,
      "outputs": [
        {
          "output_type": "execute_result",
          "data": {
            "text/plain": [
              "1184   -4.046806\n",
              "107    -6.257211\n",
              "1152   -8.324366\n",
              "218    -2.230953\n",
              "224    -1.411344\n",
              "          ...   \n",
              "1431   -7.370291\n",
              "90     -5.815575\n",
              "7       2.333885\n",
              "151    -1.388522\n",
              "778    -1.550911\n",
              "Name: Age, Length: 1176, dtype: float64"
            ]
          },
          "metadata": {
            "tags": []
          },
          "execution_count": 897
        }
      ]
    },
    {
      "cell_type": "code",
      "metadata": {
        "id": "67cg9s1kTCam",
        "colab_type": "code",
        "colab": {},
        "outputId": "4bc348cd-cc34-47a4-f2d4-ac5c44e38923"
      },
      "source": [
        "plt.hist(error_train)\n",
        "plt.xlabel(\"Pred\")\n",
        "plt.ylabel(\"actual\")"
      ],
      "execution_count": null,
      "outputs": [
        {
          "output_type": "execute_result",
          "data": {
            "text/plain": [
              "Text(0, 0.5, 'actual')"
            ]
          },
          "metadata": {
            "tags": []
          },
          "execution_count": 898
        },
        {
          "output_type": "display_data",
          "data": {
            "image/png": "[encoded data removed]",
            "text/plain": [
              "<Figure size 432x288 with 1 Axes>"
            ]
          },
          "metadata": {
            "tags": [],
            "needs_background": "light"
          }
        }
      ]
    },
    {
      "cell_type": "code",
      "metadata": {
        "id": "M9XKCTOaTCaw",
        "colab_type": "code",
        "colab": {},
        "outputId": "aaab9765-0c2b-4b77-f997-6c7bccdffd92"
      },
      "source": [
        "sns.distplot(error_train)\n"
      ],
      "execution_count": null,
      "outputs": [
        {
          "output_type": "execute_result",
          "data": {
            "text/plain": [
              "<matplotlib.axes._subplots.AxesSubplot at 0x156f64f47c8>"
            ]
          },
          "metadata": {
            "tags": []
          },
          "execution_count": 899
        },
        {
          "output_type": "display_data",
          "data": {
            "image/png": "[encoded data removed]",
            "text/plain": [
              "<Figure size 432x288 with 1 Axes>"
            ]
          },
          "metadata": {
            "tags": [],
            "needs_background": "light"
          }
        }
      ]
    },
    {
      "cell_type": "code",
      "metadata": {
        "id": "2TfKrlNbTCa5",
        "colab_type": "code",
        "colab": {}
      },
      "source": [
        "pred_test = reg.predict(Att_x_test)"
      ],
      "execution_count": null,
      "outputs": []
    },
    {
      "cell_type": "code",
      "metadata": {
        "id": "8PPTMMcBTCbE",
        "colab_type": "code",
        "colab": {},
        "outputId": "2acfc136-470d-4fac-836f-63383d7f0d19"
      },
      "source": [
        "error = Att_y_test - pred_test\n",
        "error"
      ],
      "execution_count": null,
      "outputs": [
        {
          "output_type": "execute_result",
          "data": {
            "text/plain": [
              "1336    8.894258\n",
              "289    -2.586232\n",
              "1287    4.362067\n",
              "590    -4.596895\n",
              "1123   -2.274277\n",
              "          ...   \n",
              "747    -7.943950\n",
              "1042    9.548264\n",
              "1456   -3.042485\n",
              "998    -1.614367\n",
              "707     1.215687\n",
              "Name: Age, Length: 294, dtype: float64"
            ]
          },
          "metadata": {
            "tags": []
          },
          "execution_count": 901
        }
      ]
    },
    {
      "cell_type": "code",
      "metadata": {
        "id": "UvvP_JDeTCbN",
        "colab_type": "code",
        "colab": {},
        "outputId": "e83626ac-a872-4c24-f457-aee51d60546e"
      },
      "source": [
        "mean_y = Att_y_test.mean()\n",
        "mean_y"
      ],
      "execution_count": null,
      "outputs": [
        {
          "output_type": "execute_result",
          "data": {
            "text/plain": [
              "37.60204081632653"
            ]
          },
          "metadata": {
            "tags": []
          },
          "execution_count": 902
        }
      ]
    },
    {
      "cell_type": "code",
      "metadata": {
        "id": "FEpXvrezTCbb",
        "colab_type": "code",
        "colab": {},
        "outputId": "fb119790-7dd1-45ec-edbc-20ba0ef7215c"
      },
      "source": [
        "import numpy as np\n",
        "MSE = np.mean(error*error)\n",
        "MSE"
      ],
      "execution_count": null,
      "outputs": [
        {
          "output_type": "execute_result",
          "data": {
            "text/plain": [
              "43.18872542750794"
            ]
          },
          "metadata": {
            "tags": []
          },
          "execution_count": 903
        }
      ]
    },
    {
      "cell_type": "code",
      "metadata": {
        "id": "n9n8B92fTCby",
        "colab_type": "code",
        "colab": {},
        "outputId": "3a00051d-7d93-4c10-963f-7cfe8435b471"
      },
      "source": [
        "RMSE = np.power(MSE, .5)\n",
        "\n",
        "RMSE"
      ],
      "execution_count": null,
      "outputs": [
        {
          "output_type": "execute_result",
          "data": {
            "text/plain": [
              "6.5718129483049"
            ]
          },
          "metadata": {
            "tags": []
          },
          "execution_count": 904
        }
      ]
    },
    {
      "cell_type": "code",
      "metadata": {
        "id": "zKUclZ2vTCb8",
        "colab_type": "code",
        "colab": {},
        "outputId": "71053927-2df9-4c15-ded3-bf4df63ab18a"
      },
      "source": [
        "MAPE = np.mean(np.absolute(error/Att_y_test))*100\n",
        "MAPE"
      ],
      "execution_count": null,
      "outputs": [
        {
          "output_type": "execute_result",
          "data": {
            "text/plain": [
              "14.213653602136295"
            ]
          },
          "metadata": {
            "tags": []
          },
          "execution_count": 905
        }
      ]
    },
    {
      "cell_type": "code",
      "metadata": {
        "id": "Ci1FgWKMTCcJ",
        "colab_type": "code",
        "colab": {},
        "outputId": "6502346a-91b7-4649-c02f-3d06ffb96ced"
      },
      "source": [
        "accu = 100-MAPE\n",
        "accu"
      ],
      "execution_count": null,
      "outputs": [
        {
          "output_type": "execute_result",
          "data": {
            "text/plain": [
              "85.78634639786371"
            ]
          },
          "metadata": {
            "tags": []
          },
          "execution_count": 906
        }
      ]
    },
    {
      "cell_type": "markdown",
      "metadata": {
        "id": "ykkUVOoRTCcW",
        "colab_type": "text"
      },
      "source": [
        "# LOGISTIC REGRESSION"
      ]
    },
    {
      "cell_type": "code",
      "metadata": {
        "id": "tmKACB-sTCcZ",
        "colab_type": "code",
        "colab": {}
      },
      "source": [
        "Attri = pd.read_csv(r\"Akash kumar - Attrition_Assignment.csv - Akash kumar - Attrition_Assignment.csv.csv\")"
      ],
      "execution_count": null,
      "outputs": []
    },
    {
      "cell_type": "code",
      "metadata": {
        "id": "nTBptub4TCcm",
        "colab_type": "code",
        "colab": {},
        "outputId": "1f5ce2aa-4bf1-4ea7-9458-ab540162d373"
      },
      "source": [
        "Attri.head()"
      ],
      "execution_count": null,
      "outputs": [
        {
          "output_type": "execute_result",
          "data": {
            "text/html": [
              "<div>\n",
              "<style scoped>\n",
              "    .dataframe tbody tr th:only-of-type {\n",
              "        vertical-align: middle;\n",
              "    }\n",
              "\n",
              "    .dataframe tbody tr th {\n",
              "        vertical-align: top;\n",
              "    }\n",
              "\n",
              "    .dataframe thead th {\n",
              "        text-align: right;\n",
              "    }\n",
              "</style>\n",
              "<table border=\"1\" class=\"dataframe\">\n",
              "  <thead>\n",
              "    <tr style=\"text-align: right;\">\n",
              "      <th></th>\n",
              "      <th>Age</th>\n",
              "      <th>Attrition</th>\n",
              "      <th>BusinessTravel</th>\n",
              "      <th>DailyRate</th>\n",
              "      <th>Department</th>\n",
              "      <th>DistanceFromHome</th>\n",
              "      <th>Education</th>\n",
              "      <th>EducationField</th>\n",
              "      <th>EmployeeCount</th>\n",
              "      <th>EmployeeNumber</th>\n",
              "      <th>...</th>\n",
              "      <th>RelationshipSatisfaction</th>\n",
              "      <th>StandardHours</th>\n",
              "      <th>StockOptionLevel</th>\n",
              "      <th>TotalWorkingYears</th>\n",
              "      <th>TrainingTimesLastYear</th>\n",
              "      <th>WorkLifeBalance</th>\n",
              "      <th>YearsAtCompany</th>\n",
              "      <th>YearsInCurrentRole</th>\n",
              "      <th>YearsSinceLastPromotion</th>\n",
              "      <th>YearsWithCurrManager</th>\n",
              "    </tr>\n",
              "  </thead>\n",
              "  <tbody>\n",
              "    <tr>\n",
              "      <th>0</th>\n",
              "      <td>41</td>\n",
              "      <td>Yes</td>\n",
              "      <td>Travel_Rarely</td>\n",
              "      <td>1102</td>\n",
              "      <td>Sales</td>\n",
              "      <td>1</td>\n",
              "      <td>2</td>\n",
              "      <td>Life Sciences</td>\n",
              "      <td>1</td>\n",
              "      <td>1</td>\n",
              "      <td>...</td>\n",
              "      <td>1</td>\n",
              "      <td>80</td>\n",
              "      <td>0</td>\n",
              "      <td>8</td>\n",
              "      <td>0</td>\n",
              "      <td>1</td>\n",
              "      <td>6</td>\n",
              "      <td>4</td>\n",
              "      <td>0</td>\n",
              "      <td>5</td>\n",
              "    </tr>\n",
              "    <tr>\n",
              "      <th>1</th>\n",
              "      <td>49</td>\n",
              "      <td>No</td>\n",
              "      <td>Travel_Frequently</td>\n",
              "      <td>279</td>\n",
              "      <td>Research &amp; Development</td>\n",
              "      <td>8</td>\n",
              "      <td>1</td>\n",
              "      <td>Life Sciences</td>\n",
              "      <td>1</td>\n",
              "      <td>2</td>\n",
              "      <td>...</td>\n",
              "      <td>4</td>\n",
              "      <td>80</td>\n",
              "      <td>1</td>\n",
              "      <td>10</td>\n",
              "      <td>3</td>\n",
              "      <td>3</td>\n",
              "      <td>10</td>\n",
              "      <td>7</td>\n",
              "      <td>1</td>\n",
              "      <td>7</td>\n",
              "    </tr>\n",
              "    <tr>\n",
              "      <th>2</th>\n",
              "      <td>37</td>\n",
              "      <td>Yes</td>\n",
              "      <td>Travel_Rarely</td>\n",
              "      <td>1373</td>\n",
              "      <td>Research &amp; Development</td>\n",
              "      <td>2</td>\n",
              "      <td>2</td>\n",
              "      <td>Other</td>\n",
              "      <td>1</td>\n",
              "      <td>4</td>\n",
              "      <td>...</td>\n",
              "      <td>2</td>\n",
              "      <td>80</td>\n",
              "      <td>0</td>\n",
              "      <td>7</td>\n",
              "      <td>3</td>\n",
              "      <td>3</td>\n",
              "      <td>0</td>\n",
              "      <td>0</td>\n",
              "      <td>0</td>\n",
              "      <td>0</td>\n",
              "    </tr>\n",
              "    <tr>\n",
              "      <th>3</th>\n",
              "      <td>33</td>\n",
              "      <td>No</td>\n",
              "      <td>Travel_Frequently</td>\n",
              "      <td>1392</td>\n",
              "      <td>Research &amp; Development</td>\n",
              "      <td>3</td>\n",
              "      <td>4</td>\n",
              "      <td>Life Sciences</td>\n",
              "      <td>1</td>\n",
              "      <td>5</td>\n",
              "      <td>...</td>\n",
              "      <td>3</td>\n",
              "      <td>80</td>\n",
              "      <td>0</td>\n",
              "      <td>8</td>\n",
              "      <td>3</td>\n",
              "      <td>3</td>\n",
              "      <td>8</td>\n",
              "      <td>7</td>\n",
              "      <td>3</td>\n",
              "      <td>0</td>\n",
              "    </tr>\n",
              "    <tr>\n",
              "      <th>4</th>\n",
              "      <td>27</td>\n",
              "      <td>No</td>\n",
              "      <td>Travel_Rarely</td>\n",
              "      <td>591</td>\n",
              "      <td>Research &amp; Development</td>\n",
              "      <td>2</td>\n",
              "      <td>1</td>\n",
              "      <td>Medical</td>\n",
              "      <td>1</td>\n",
              "      <td>7</td>\n",
              "      <td>...</td>\n",
              "      <td>4</td>\n",
              "      <td>80</td>\n",
              "      <td>1</td>\n",
              "      <td>6</td>\n",
              "      <td>3</td>\n",
              "      <td>3</td>\n",
              "      <td>2</td>\n",
              "      <td>2</td>\n",
              "      <td>2</td>\n",
              "      <td>2</td>\n",
              "    </tr>\n",
              "  </tbody>\n",
              "</table>\n",
              "<p>5 rows × 35 columns</p>\n",
              "</div>"
            ],
            "text/plain": [
              "   Age Attrition     BusinessTravel  DailyRate              Department  \\\n",
              "0   41       Yes      Travel_Rarely       1102                   Sales   \n",
              "1   49        No  Travel_Frequently        279  Research & Development   \n",
              "2   37       Yes      Travel_Rarely       1373  Research & Development   \n",
              "3   33        No  Travel_Frequently       1392  Research & Development   \n",
              "4   27        No      Travel_Rarely        591  Research & Development   \n",
              "\n",
              "   DistanceFromHome  Education EducationField  EmployeeCount  EmployeeNumber  \\\n",
              "0                 1          2  Life Sciences              1               1   \n",
              "1                 8          1  Life Sciences              1               2   \n",
              "2                 2          2          Other              1               4   \n",
              "3                 3          4  Life Sciences              1               5   \n",
              "4                 2          1        Medical              1               7   \n",
              "\n",
              "   ...  RelationshipSatisfaction StandardHours  StockOptionLevel  \\\n",
              "0  ...                         1            80                 0   \n",
              "1  ...                         4            80                 1   \n",
              "2  ...                         2            80                 0   \n",
              "3  ...                         3            80                 0   \n",
              "4  ...                         4            80                 1   \n",
              "\n",
              "   TotalWorkingYears  TrainingTimesLastYear WorkLifeBalance  YearsAtCompany  \\\n",
              "0                  8                      0               1               6   \n",
              "1                 10                      3               3              10   \n",
              "2                  7                      3               3               0   \n",
              "3                  8                      3               3               8   \n",
              "4                  6                      3               3               2   \n",
              "\n",
              "  YearsInCurrentRole  YearsSinceLastPromotion  YearsWithCurrManager  \n",
              "0                  4                        0                     5  \n",
              "1                  7                        1                     7  \n",
              "2                  0                        0                     0  \n",
              "3                  7                        3                     0  \n",
              "4                  2                        2                     2  \n",
              "\n",
              "[5 rows x 35 columns]"
            ]
          },
          "metadata": {
            "tags": []
          },
          "execution_count": 908
        }
      ]
    },
    {
      "cell_type": "code",
      "metadata": {
        "id": "N5u-O-CVTCcx",
        "colab_type": "code",
        "colab": {}
      },
      "source": [
        "Attri.Attrition.fillna(\"Yes\", inplace=True)\n",
        "Attri.BusinessTravel.fillna(\"Travel_Rearly\", inplace=True)\n",
        "Attri.Department.fillna(\"Research&Development\",inplace=True)\n",
        "Attri.EducationField.fillna(\"Medical\", inplace=True)\n",
        "Attri.Gender.fillna(\"Male\", inplace=True)\n",
        "Attri.JobLevel.fillna(\"ResearchScientist\", inplace=True)\n",
        "Attri.MaritalStatus.fillna(\"Single\", inplace=True)\n",
        "Attri.OverTime.fillna(\"No\", inplace=True)\n",
        "Attri.Over18.fillna(\"Y\", inplace=True)"
      ],
      "execution_count": null,
      "outputs": []
    },
    {
      "cell_type": "code",
      "metadata": {
        "id": "aZ6f8l9vTCc7",
        "colab_type": "code",
        "colab": {}
      },
      "source": [
        " Attri.fillna(Att.mean(), inplace=True)"
      ],
      "execution_count": null,
      "outputs": []
    },
    {
      "cell_type": "code",
      "metadata": {
        "id": "Kn60JQrjTCdD",
        "colab_type": "code",
        "colab": {},
        "outputId": "10e77186-9a79-4629-9cba-123b68802e34"
      },
      "source": [
        "Attri.Attrition.fillna(\"1\")\n",
        "Attri.BusinessTravel.fillna(\"1\")\n",
        "Attri.Department.fillna(\"1\")\n",
        "Attri.EducationField.fillna(\"1\")\n",
        "Attri.Gender.fillna(\"1\")\n",
        "Attri.JobLevel.fillna(\"1\")\n",
        "Attri.MaritalStatus.fillna(\"1\")\n",
        "Attri.OverTime.fillna(\"1\")"
      ],
      "execution_count": null,
      "outputs": [
        {
          "output_type": "execute_result",
          "data": {
            "text/plain": [
              "0       Yes\n",
              "1        No\n",
              "2       Yes\n",
              "3       Yes\n",
              "4        No\n",
              "       ... \n",
              "1465     No\n",
              "1466     No\n",
              "1467    Yes\n",
              "1468     No\n",
              "1469     No\n",
              "Name: OverTime, Length: 1470, dtype: object"
            ]
          },
          "metadata": {
            "tags": []
          },
          "execution_count": 911
        }
      ]
    },
    {
      "cell_type": "code",
      "metadata": {
        "id": "9YIGPQS8TCdN",
        "colab_type": "code",
        "colab": {},
        "outputId": "8ebd8cc3-2597-418b-a8d9-1da3f8d94222"
      },
      "source": [
        "Attri.Attrition.max()"
      ],
      "execution_count": null,
      "outputs": [
        {
          "output_type": "execute_result",
          "data": {
            "text/plain": [
              "'Yes'"
            ]
          },
          "metadata": {
            "tags": []
          },
          "execution_count": 912
        }
      ]
    },
    {
      "cell_type": "code",
      "metadata": {
        "id": "KxWpAEpbTCda",
        "colab_type": "code",
        "colab": {}
      },
      "source": [
        "import sklearn\n",
        "from sklearn.preprocessing import LabelEncoder"
      ],
      "execution_count": null,
      "outputs": []
    },
    {
      "cell_type": "code",
      "metadata": {
        "id": "sMe25XlJTCd7",
        "colab_type": "code",
        "colab": {}
      },
      "source": [
        "le = LabelEncoder()"
      ],
      "execution_count": null,
      "outputs": []
    },
    {
      "cell_type": "code",
      "metadata": {
        "id": "YN5uX7_3TCeI",
        "colab_type": "code",
        "colab": {}
      },
      "source": [
        "Attri[Attri.select_dtypes(include=['object']).columns] = Attri[Attri.select_dtypes(include=['object']).columns].apply(le.fit_transform)"
      ],
      "execution_count": null,
      "outputs": []
    },
    {
      "cell_type": "code",
      "metadata": {
        "id": "Z1m5QeoWTCeQ",
        "colab_type": "code",
        "colab": {}
      },
      "source": [
        "Attri_x = Attri.iloc[:,1:35]\n",
        "Attri_y = Attri.iloc[:,1]"
      ],
      "execution_count": null,
      "outputs": []
    },
    {
      "cell_type": "code",
      "metadata": {
        "id": "9rWPOj34TCeg",
        "colab_type": "code",
        "colab": {}
      },
      "source": [
        "import sklearn\n",
        "from sklearn.model_selection import train_test_split"
      ],
      "execution_count": null,
      "outputs": []
    },
    {
      "cell_type": "code",
      "metadata": {
        "id": "vUoyHGxoTCew",
        "colab_type": "code",
        "colab": {}
      },
      "source": [
        "Attri_x_train, Attri_x_test,Attri_y_train, Attri_y_test = train_test_split(Attri_x,Attri_y,test_size=.2)"
      ],
      "execution_count": null,
      "outputs": []
    },
    {
      "cell_type": "code",
      "metadata": {
        "id": "H_-7ybBTTCe8",
        "colab_type": "code",
        "colab": {}
      },
      "source": [
        "from sklearn.linear_model import LogisticRegression\n",
        "logmodel= LogisticRegression()"
      ],
      "execution_count": null,
      "outputs": []
    },
    {
      "cell_type": "code",
      "metadata": {
        "id": "Py6uuYK1TCfF",
        "colab_type": "code",
        "colab": {},
        "outputId": "f92d84c5-5ddb-4c0a-8494-b1bff21ca6be"
      },
      "source": [
        "logmodel.fit(Attri_x_train, Attri_y_train)"
      ],
      "execution_count": null,
      "outputs": [
        {
          "output_type": "stream",
          "text": [
            "C:\\Users\\Akash Singh\\anaconda3\\lib\\site-packages\\sklearn\\linear_model\\_logistic.py:940: ConvergenceWarning: lbfgs failed to converge (status=1):\n",
            "STOP: TOTAL NO. of ITERATIONS REACHED LIMIT.\n",
            "\n",
            "Increase the number of iterations (max_iter) or scale the data as shown in:\n",
            "    https://scikit-learn.org/stable/modules/preprocessing.html\n",
            "Please also refer to the documentation for alternative solver options:\n",
            "    https://scikit-learn.org/stable/modules/linear_model.html#logistic-regression\n",
            "  extra_warning_msg=_LOGISTIC_SOLVER_CONVERGENCE_MSG)\n"
          ],
          "name": "stderr"
        },
        {
          "output_type": "execute_result",
          "data": {
            "text/plain": [
              "LogisticRegression(C=1.0, class_weight=None, dual=False, fit_intercept=True,\n",
              "                   intercept_scaling=1, l1_ratio=None, max_iter=100,\n",
              "                   multi_class='auto', n_jobs=None, penalty='l2',\n",
              "                   random_state=None, solver='lbfgs', tol=0.0001, verbose=0,\n",
              "                   warm_start=False)"
            ]
          },
          "metadata": {
            "tags": []
          },
          "execution_count": 1115
        }
      ]
    },
    {
      "cell_type": "code",
      "metadata": {
        "id": "co0Af-z4TCfN",
        "colab_type": "code",
        "colab": {},
        "outputId": "96264870-9a6a-4406-fe1c-7106dfc5bfd9"
      },
      "source": [
        "pred_value = logmodel.predict(Attri_x_test)\n",
        "pred_value"
      ],
      "execution_count": null,
      "outputs": [
        {
          "output_type": "execute_result",
          "data": {
            "text/plain": [
              "array([0, 0, 0, 0, 0, 0, 0, 0, 0, 0, 0, 0, 0, 0, 0, 0, 0, 0, 0, 0, 0, 0,\n",
              "       0, 0, 0, 0, 0, 0, 0, 0, 0, 0, 0, 0, 0, 0, 0, 0, 0, 0, 0, 0, 0, 0,\n",
              "       0, 0, 0, 0, 0, 0, 0, 0, 0, 0, 0, 0, 0, 0, 0, 0, 0, 0, 0, 0, 0, 0,\n",
              "       0, 0, 0, 0, 0, 0, 0, 0, 0, 0, 0, 0, 0, 0, 0, 0, 0, 0, 0, 0, 0, 0,\n",
              "       0, 0, 0, 0, 0, 0, 0, 0, 0, 0, 0, 0, 0, 0, 0, 0, 0, 0, 0, 0, 0, 0,\n",
              "       0, 0, 0, 0, 0, 0, 0, 0, 0, 0, 0, 0, 0, 0, 0, 0, 0, 0, 0, 0, 0, 0,\n",
              "       0, 0, 0, 0, 0, 0, 0, 0, 0, 0, 0, 0, 0, 0, 0, 0, 0, 0, 0, 0, 0, 0,\n",
              "       0, 0, 0, 0, 0, 0, 0, 0, 0, 0, 0, 0, 0, 0, 0, 0, 0, 0, 0, 0, 0, 0,\n",
              "       0, 0, 0, 0, 0, 0, 0, 0, 0, 0, 0, 0, 0, 0, 0, 0, 0, 0, 0, 0, 0, 0,\n",
              "       0, 0, 0, 0, 0, 0, 0, 0, 0, 0, 0, 0, 0, 0, 0, 0, 0, 0, 0, 0, 0, 0,\n",
              "       0, 0, 0, 0, 0, 0, 0, 0, 0, 0, 0, 0, 0, 0, 0, 0, 0, 0, 0, 0, 0, 0,\n",
              "       0, 0, 0, 0, 0, 0, 0, 0, 0, 0, 0, 0, 0, 0, 0, 0, 0, 0, 0, 0, 0, 0,\n",
              "       0, 0, 0, 0, 0, 0, 0, 0, 0, 0, 0, 0, 0, 0, 0, 0, 0, 0, 0, 0, 0, 0,\n",
              "       0, 1, 0, 0, 0, 0, 0, 0])"
            ]
          },
          "metadata": {
            "tags": []
          },
          "execution_count": 1116
        }
      ]
    },
    {
      "cell_type": "markdown",
      "metadata": {
        "id": "Xhk5xHASTCfV",
        "colab_type": "text"
      },
      "source": [
        "logmodel.fit(Att_x_train, Att_y_train)"
      ]
    },
    {
      "cell_type": "code",
      "metadata": {
        "id": "ZwHoH_6_TCfX",
        "colab_type": "code",
        "colab": {}
      },
      "source": [
        "from sklearn.metrics import confusion_matrix"
      ],
      "execution_count": null,
      "outputs": []
    },
    {
      "cell_type": "code",
      "metadata": {
        "id": "jfDhDEkMTCff",
        "colab_type": "code",
        "colab": {},
        "outputId": "39faddb7-c627-4824-b492-6c9224d6d5dd"
      },
      "source": [
        "tab1 = confusion_matrix(pred_value, Attri_y_test)\n",
        "tab1"
      ],
      "execution_count": null,
      "outputs": [
        {
          "output_type": "execute_result",
          "data": {
            "text/plain": [
              "array([[249,  44],\n",
              "       [  0,   1]], dtype=int64)"
            ]
          },
          "metadata": {
            "tags": []
          },
          "execution_count": 1118
        }
      ]
    },
    {
      "cell_type": "code",
      "metadata": {
        "id": "siWYjn1PTCfo",
        "colab_type": "code",
        "colab": {},
        "outputId": "083d1283-85f1-440e-b778-d4665f7c8c63"
      },
      "source": [
        "tab2 = confusion_matrix(Attri_y_test, pred_value)\n",
        "tab2"
      ],
      "execution_count": null,
      "outputs": [
        {
          "output_type": "execute_result",
          "data": {
            "text/plain": [
              "array([[249,   0],\n",
              "       [ 44,   1]], dtype=int64)"
            ]
          },
          "metadata": {
            "tags": []
          },
          "execution_count": 1119
        }
      ]
    },
    {
      "cell_type": "code",
      "metadata": {
        "id": "XRc9S33sTCfw",
        "colab_type": "code",
        "colab": {},
        "outputId": "4aadc09a-06c2-4c16-adc6-958ec2ecc3ee"
      },
      "source": [
        "tab1.diagonal()"
      ],
      "execution_count": null,
      "outputs": [
        {
          "output_type": "execute_result",
          "data": {
            "text/plain": [
              "array([249,   1], dtype=int64)"
            ]
          },
          "metadata": {
            "tags": []
          },
          "execution_count": 1120
        }
      ]
    },
    {
      "cell_type": "code",
      "metadata": {
        "id": "XJZ5WIGiTCf3",
        "colab_type": "code",
        "colab": {},
        "outputId": "29919953-776f-47cc-e5bd-74022b230ccc"
      },
      "source": [
        "tab1.sum()"
      ],
      "execution_count": null,
      "outputs": [
        {
          "output_type": "execute_result",
          "data": {
            "text/plain": [
              "294"
            ]
          },
          "metadata": {
            "tags": []
          },
          "execution_count": 1121
        }
      ]
    },
    {
      "cell_type": "code",
      "metadata": {
        "id": "wHn2yo1mTCgA",
        "colab_type": "code",
        "colab": {},
        "outputId": "a2507c4d-58bf-4d9e-9102-4c25978b6454"
      },
      "source": [
        "acc = tab2.diagonal().sum()/tab2.sum()*100\n",
        "acc"
      ],
      "execution_count": null,
      "outputs": [
        {
          "output_type": "execute_result",
          "data": {
            "text/plain": [
              "85.03401360544217"
            ]
          },
          "metadata": {
            "tags": []
          },
          "execution_count": 1122
        }
      ]
    },
    {
      "cell_type": "code",
      "metadata": {
        "id": "HP5nOQeqTCgK",
        "colab_type": "code",
        "colab": {},
        "outputId": "e2a51664-2882-47df-9511-a74796a9956a"
      },
      "source": [
        "acc"
      ],
      "execution_count": null,
      "outputs": [
        {
          "output_type": "execute_result",
          "data": {
            "text/plain": [
              "85.03401360544217"
            ]
          },
          "metadata": {
            "tags": []
          },
          "execution_count": 1123
        }
      ]
    },
    {
      "cell_type": "code",
      "metadata": {
        "id": "Q8mr8BrcTCgS",
        "colab_type": "code",
        "colab": {}
      },
      "source": [
        "pred_values_prob = logmodel.predict_proba(Attri_x_test)\n",
        "#pred_values_prob"
      ],
      "execution_count": null,
      "outputs": []
    },
    {
      "cell_type": "code",
      "metadata": {
        "id": "iFUHarv0TCgZ",
        "colab_type": "code",
        "colab": {}
      },
      "source": [
        "pred_full_prob = logmodel.predict_proba(Attri_x)\n",
        "#pred_full_prob"
      ],
      "execution_count": null,
      "outputs": []
    },
    {
      "cell_type": "code",
      "metadata": {
        "id": "QaBwG4pTTCgh",
        "colab_type": "code",
        "colab": {}
      },
      "source": [
        "df1 = pd.concat([Att.Age, pd.Series(pred_full_prob[:,1])], axis=1)\n",
        "\n",
        "df1.rename(columns = {df1.columns[0]:\"Age\", df1.columns[1]:'Pred_Prob'}, inplace=True)\n",
        "\n",
        "#df1.head()"
      ],
      "execution_count": null,
      "outputs": []
    },
    {
      "cell_type": "code",
      "metadata": {
        "id": "ryWTPiKyTCgw",
        "colab_type": "code",
        "colab": {},
        "outputId": "542972a7-6db5-4867-ccdf-ee5b48b495a6"
      },
      "source": [
        "df1.sort_values(\"Pred_Prob\", ascending=False, inplace=True)\n",
        "df1.head()"
      ],
      "execution_count": null,
      "outputs": [
        {
          "output_type": "execute_result",
          "data": {
            "text/html": [
              "<div>\n",
              "<style scoped>\n",
              "    .dataframe tbody tr th:only-of-type {\n",
              "        vertical-align: middle;\n",
              "    }\n",
              "\n",
              "    .dataframe tbody tr th {\n",
              "        vertical-align: top;\n",
              "    }\n",
              "\n",
              "    .dataframe thead th {\n",
              "        text-align: right;\n",
              "    }\n",
              "</style>\n",
              "<table border=\"1\" class=\"dataframe\">\n",
              "  <thead>\n",
              "    <tr style=\"text-align: right;\">\n",
              "      <th></th>\n",
              "      <th>Age</th>\n",
              "      <th>Pred_Prob</th>\n",
              "    </tr>\n",
              "  </thead>\n",
              "  <tbody>\n",
              "    <tr>\n",
              "      <th>127</th>\n",
              "      <td>19</td>\n",
              "      <td>0.557002</td>\n",
              "    </tr>\n",
              "    <tr>\n",
              "      <th>463</th>\n",
              "      <td>26</td>\n",
              "      <td>0.518301</td>\n",
              "    </tr>\n",
              "    <tr>\n",
              "      <th>909</th>\n",
              "      <td>19</td>\n",
              "      <td>0.505281</td>\n",
              "    </tr>\n",
              "    <tr>\n",
              "      <th>911</th>\n",
              "      <td>25</td>\n",
              "      <td>0.501735</td>\n",
              "    </tr>\n",
              "    <tr>\n",
              "      <th>748</th>\n",
              "      <td>26</td>\n",
              "      <td>0.499868</td>\n",
              "    </tr>\n",
              "  </tbody>\n",
              "</table>\n",
              "</div>"
            ],
            "text/plain": [
              "     Age  Pred_Prob\n",
              "127   19   0.557002\n",
              "463   26   0.518301\n",
              "909   19   0.505281\n",
              "911   25   0.501735\n",
              "748   26   0.499868"
            ]
          },
          "metadata": {
            "tags": []
          },
          "execution_count": 1127
        }
      ]
    },
    {
      "cell_type": "markdown",
      "metadata": {
        "id": "4kOozJq4TCg3",
        "colab_type": "text"
      },
      "source": [
        "# METRICS OF ROC_CURVE,ROC_AUC_SCORE"
      ]
    },
    {
      "cell_type": "code",
      "metadata": {
        "id": "LmVAGzFpTCg5",
        "colab_type": "code",
        "colab": {}
      },
      "source": [
        "Attri_x = Attri.iloc[:,1:34]\n",
        "Attri_y = Attri.iloc[:-1]"
      ],
      "execution_count": null,
      "outputs": []
    },
    {
      "cell_type": "code",
      "metadata": {
        "id": "wWEA56gmTChC",
        "colab_type": "code",
        "colab": {}
      },
      "source": [
        "from sklearn.metrics import roc_curve\n",
        "from sklearn.metrics import roc_auc_score"
      ],
      "execution_count": null,
      "outputs": []
    },
    {
      "cell_type": "code",
      "metadata": {
        "id": "KoD-4uU7TChJ",
        "colab_type": "code",
        "colab": {},
        "outputId": "c71edbec-1a0c-4ba4-9eea-cf6464743bbb"
      },
      "source": [
        "log_roc_auc = roc_auc_score(Attri_y_test, pred_value)\n",
        "log_roc_auc"
      ],
      "execution_count": null,
      "outputs": [
        {
          "output_type": "execute_result",
          "data": {
            "text/plain": [
              "0.5111111111111111"
            ]
          },
          "metadata": {
            "tags": []
          },
          "execution_count": 1130
        }
      ]
    },
    {
      "cell_type": "code",
      "metadata": {
        "id": "EoMVxltfTChQ",
        "colab_type": "code",
        "colab": {}
      },
      "source": [
        "pred_value_prob = pd.DataFrame(pred_values_prob)"
      ],
      "execution_count": null,
      "outputs": []
    },
    {
      "cell_type": "code",
      "metadata": {
        "id": "qTHslV9iTChX",
        "colab_type": "code",
        "colab": {}
      },
      "source": [
        "fpr, tpr, threshold = roc_curve(Attri_y_test, pred_value_prob.iloc[:,-1])"
      ],
      "execution_count": null,
      "outputs": []
    },
    {
      "cell_type": "code",
      "metadata": {
        "id": "JfzGP-GqTChe",
        "colab_type": "code",
        "colab": {}
      },
      "source": [
        "#threshold"
      ],
      "execution_count": null,
      "outputs": []
    },
    {
      "cell_type": "code",
      "metadata": {
        "id": "IykaiFe3TCht",
        "colab_type": "code",
        "colab": {}
      },
      "source": [
        "#tpr"
      ],
      "execution_count": null,
      "outputs": []
    },
    {
      "cell_type": "code",
      "metadata": {
        "id": "ildR3JuBTCh6",
        "colab_type": "code",
        "colab": {}
      },
      "source": [
        "#fpr"
      ],
      "execution_count": null,
      "outputs": []
    },
    {
      "cell_type": "code",
      "metadata": {
        "id": "3X7uefwLTCiE",
        "colab_type": "code",
        "colab": {}
      },
      "source": [
        "#precision, recall, thresholds = precision_recall_curve(Attri_y_test, pred_valve_prob"
      ],
      "execution_count": null,
      "outputs": []
    },
    {
      "cell_type": "code",
      "metadata": {
        "id": "EQNIOsGsTCiL",
        "colab_type": "code",
        "colab": {},
        "outputId": "dd58147a-ccab-40ad-badd-5140be4a3af2"
      },
      "source": [
        "plt.figure(figsize=(8,8))\n",
        "plt.plot(fpr,tpr, color=\"Blue\")\n",
        "plt.xlabel(\"fpr values\")\n",
        "plt.xlabel(\"tpr values\")\n",
        "plt.title(\"AUROC CURVE, For Attrition\")\n",
        "plt.grid()"
      ],
      "execution_count": null,
      "outputs": [
        {
          "output_type": "display_data",
          "data": {
            "image/png": "[encoded data removed]",
            "text/plain": [
              "<Figure size 576x576 with 1 Axes>"
            ]
          },
          "metadata": {
            "tags": [],
            "needs_background": "light"
          }
        }
      ]
    },
    {
      "cell_type": "code",
      "metadata": {
        "id": "dRzQpW0RTCiS",
        "colab_type": "code",
        "colab": {},
        "outputId": "72f44964-9530-4210-a089-48c60794df60"
      },
      "source": [
        "from sklearn.metrics import f1_score\n",
        "f1 = f1_score(Attri_y_test, pred_value)\n",
        "f1"
      ],
      "execution_count": null,
      "outputs": [
        {
          "output_type": "execute_result",
          "data": {
            "text/plain": [
              "0.04347826086956522"
            ]
          },
          "metadata": {
            "tags": []
          },
          "execution_count": 1138
        }
      ]
    },
    {
      "cell_type": "markdown",
      "metadata": {
        "id": "y2FjA_NoTCiZ",
        "colab_type": "text"
      },
      "source": [
        "# MY ALGORITHAM IS DECISION TREE"
      ]
    },
    {
      "cell_type": "code",
      "metadata": {
        "id": "p1dursJdTCia",
        "colab_type": "code",
        "colab": {}
      },
      "source": [
        "Attri_x = Attri.iloc[:,1:35]\n",
        "Attri_y = Attri.iloc[:,1]"
      ],
      "execution_count": null,
      "outputs": []
    },
    {
      "cell_type": "code",
      "metadata": {
        "id": "PkLMaSTeTCin",
        "colab_type": "code",
        "colab": {}
      },
      "source": [
        "from sklearn.tree import DecisionTreeClassifier\n",
        "Dt =  DecisionTreeClassifier(criterion='gini', max_depth = 3)"
      ],
      "execution_count": null,
      "outputs": []
    },
    {
      "cell_type": "code",
      "metadata": {
        "id": "WoFT7PfWTCiw",
        "colab_type": "code",
        "colab": {},
        "outputId": "7e2ee4ef-781f-49d9-f407-a8f903c08871"
      },
      "source": [
        "Dt.fit(Attri_x_train, Attri_y_train)"
      ],
      "execution_count": null,
      "outputs": [
        {
          "output_type": "execute_result",
          "data": {
            "text/plain": [
              "DecisionTreeClassifier(ccp_alpha=0.0, class_weight=None, criterion='gini',\n",
              "                       max_depth=3, max_features=None, max_leaf_nodes=None,\n",
              "                       min_impurity_decrease=0.0, min_impurity_split=None,\n",
              "                       min_samples_leaf=1, min_samples_split=2,\n",
              "                       min_weight_fraction_leaf=0.0, presort='deprecated',\n",
              "                       random_state=None, splitter='best')"
            ]
          },
          "metadata": {
            "tags": []
          },
          "execution_count": 1141
        }
      ]
    },
    {
      "cell_type": "code",
      "metadata": {
        "id": "xE9PX_RsTCi9",
        "colab_type": "code",
        "colab": {}
      },
      "source": [
        "#pred_Dt = Dt.predict(Att_x_test)"
      ],
      "execution_count": null,
      "outputs": []
    },
    {
      "cell_type": "code",
      "metadata": {
        "id": "Mej5Eb67TCjI",
        "colab_type": "code",
        "colab": {},
        "outputId": "4e9d3a15-308b-49b7-c897-4e1506dc0449"
      },
      "source": [
        "table_Dt = confusion_matrix(pred_Dt, Attri_y_test)\n",
        "table_Dt"
      ],
      "execution_count": null,
      "outputs": [
        {
          "output_type": "execute_result",
          "data": {
            "text/plain": [
              "array([[202,  39],\n",
              "       [ 47,   6]], dtype=int64)"
            ]
          },
          "metadata": {
            "tags": []
          },
          "execution_count": 1143
        }
      ]
    },
    {
      "cell_type": "code",
      "metadata": {
        "id": "9xRYp8BtTCjP",
        "colab_type": "code",
        "colab": {},
        "outputId": "e71f010c-d293-4fbc-d996-b34fe05f4190"
      },
      "source": [
        "table_Dt.diagonal().sum()/table_Dt.sum()*100"
      ],
      "execution_count": null,
      "outputs": [
        {
          "output_type": "execute_result",
          "data": {
            "text/plain": [
              "70.74829931972789"
            ]
          },
          "metadata": {
            "tags": []
          },
          "execution_count": 1144
        }
      ]
    },
    {
      "cell_type": "code",
      "metadata": {
        "id": "TQ1t8UKnTCjX",
        "colab_type": "code",
        "colab": {},
        "outputId": "2a260188-ab4d-4b26-8041-7722305cf9cb"
      },
      "source": [
        "! pip install pydotplus"
      ],
      "execution_count": null,
      "outputs": [
        {
          "output_type": "stream",
          "text": [
            "Requirement already satisfied: pydotplus in c:\\users\\akash singh\\anaconda3\\lib\\site-packages (2.0.2)\n",
            "Requirement already satisfied: pyparsing>=2.0.1 in c:\\users\\akash singh\\anaconda3\\lib\\site-packages (from pydotplus) (2.4.6)\n"
          ],
          "name": "stdout"
        }
      ]
    },
    {
      "cell_type": "code",
      "metadata": {
        "id": "ogRs8EJjTCjd",
        "colab_type": "code",
        "colab": {},
        "outputId": "3bbf4595-1ac5-456b-ed35-ecdeb8cffbc5"
      },
      "source": [
        "! pip install pydot"
      ],
      "execution_count": null,
      "outputs": [
        {
          "output_type": "stream",
          "text": [
            "Requirement already satisfied: pydot in c:\\users\\akash singh\\anaconda3\\lib\\site-packages (1.4.1)\n",
            "Requirement already satisfied: pyparsing>=2.1.4 in c:\\users\\akash singh\\anaconda3\\lib\\site-packages (from pydot) (2.4.6)\n"
          ],
          "name": "stdout"
        }
      ]
    },
    {
      "cell_type": "code",
      "metadata": {
        "id": "2GjjwTRaTCjl",
        "colab_type": "code",
        "colab": {},
        "outputId": "e0dbae7f-bafd-45e5-8254-2dbcf12ea7db"
      },
      "source": [
        "!pip install graphviz"
      ],
      "execution_count": null,
      "outputs": [
        {
          "output_type": "stream",
          "text": [
            "Requirement already satisfied: graphviz in c:\\users\\akash singh\\anaconda3\\lib\\site-packages (0.14.1)\n"
          ],
          "name": "stdout"
        }
      ]
    },
    {
      "cell_type": "code",
      "metadata": {
        "id": "K3THHkR5TCjr",
        "colab_type": "code",
        "colab": {}
      },
      "source": [
        "from IPython.display import Image\n",
        "from sklearn.externals.six import StringIO\n",
        "from sklearn.tree import export_graphviz\n",
        "import pydotplus\n",
        "import pydot"
      ],
      "execution_count": null,
      "outputs": []
    },
    {
      "cell_type": "code",
      "metadata": {
        "id": "_im1HDPiTCjx",
        "colab_type": "code",
        "colab": {},
        "outputId": "c70aa24f-43c6-45cd-9f42-a4df0d5ed86f"
      },
      "source": [
        "from sklearn.tree import DecisionTreeClassifier\n",
        "Dt = DecisionTreeClassifier(criterion='entropy', max_depth = 2)\n",
        "\n",
        "Dt.fit(Att_x_train, Att_y_train)"
      ],
      "execution_count": null,
      "outputs": [
        {
          "output_type": "execute_result",
          "data": {
            "text/plain": [
              "DecisionTreeClassifier(ccp_alpha=0.0, class_weight=None, criterion='entropy',\n",
              "                       max_depth=2, max_features=None, max_leaf_nodes=None,\n",
              "                       min_impurity_decrease=0.0, min_impurity_split=None,\n",
              "                       min_samples_leaf=1, min_samples_split=2,\n",
              "                       min_weight_fraction_leaf=0.0, presort='deprecated',\n",
              "                       random_state=None, splitter='best')"
            ]
          },
          "metadata": {
            "tags": []
          },
          "execution_count": 1149
        }
      ]
    },
    {
      "cell_type": "code",
      "metadata": {
        "id": "ldaDQWEKTCj5",
        "colab_type": "code",
        "colab": {}
      },
      "source": [
        "dot_data = StringIO()"
      ],
      "execution_count": null,
      "outputs": []
    },
    {
      "cell_type": "code",
      "metadata": {
        "id": "zq9HY2v1TCkB",
        "colab_type": "code",
        "colab": {}
      },
      "source": [
        "Att_x_train_names = Att_x_train.columns"
      ],
      "execution_count": null,
      "outputs": []
    },
    {
      "cell_type": "code",
      "metadata": {
        "id": "kvXOtMTZTCkH",
        "colab_type": "code",
        "colab": {},
        "outputId": "a5d644f6-fa5f-4f77-ef26-6a0b60b39ca4"
      },
      "source": [
        "import matplotlib.pyplot as plt\n",
        "fig = plt.figure(figsize=(10,10))\n",
        "\n",
        "export_graphviz(Dt, out_file=dot_data,\n",
        "                filled=True,rounded=True,\n",
        "                special_characters=True, feature_names=Att_x_train_names)\n",
        "\n",
        "graph = pydotplus.graph_from_dot_data(dot_data.getvalue())\n",
        "\n",
        "(graph) = pydot.graph_from_dot_data(dot_data.getvalue())\n"
      ],
      "execution_count": null,
      "outputs": [
        {
          "output_type": "display_data",
          "data": {
            "text/plain": [
              "<Figure size 720x720 with 0 Axes>"
            ]
          },
          "metadata": {
            "tags": []
          }
        }
      ]
    },
    {
      "cell_type": "code",
      "metadata": {
        "id": "me8iopsSTCkN",
        "colab_type": "code",
        "colab": {}
      },
      "source": [
        "#Image(graph.create_png())"
      ],
      "execution_count": null,
      "outputs": []
    },
    {
      "cell_type": "markdown",
      "metadata": {
        "id": "Rs5z2y8kTCkT",
        "colab_type": "text"
      },
      "source": [
        "# RANDOM FOREST"
      ]
    },
    {
      "cell_type": "code",
      "metadata": {
        "id": "pjaw-uldTCkU",
        "colab_type": "code",
        "colab": {}
      },
      "source": [
        "Attri_x = Attri.iloc[:,1:35]\n",
        "Attri_y = Attri.iloc[:-1]"
      ],
      "execution_count": null,
      "outputs": []
    },
    {
      "cell_type": "code",
      "metadata": {
        "id": "JEPF13EMTCkk",
        "colab_type": "code",
        "colab": {}
      },
      "source": [
        "from sklearn.ensemble import RandomForestClassifier\n",
        "rf = RandomForestClassifier()"
      ],
      "execution_count": null,
      "outputs": []
    },
    {
      "cell_type": "code",
      "metadata": {
        "id": "C7cBCiFKTCku",
        "colab_type": "code",
        "colab": {},
        "outputId": "2fc48bb7-8a41-4cbf-94cb-d797f7132f66"
      },
      "source": [
        "rf.fit(Attri_x_train, Attri_y_train)"
      ],
      "execution_count": null,
      "outputs": [
        {
          "output_type": "execute_result",
          "data": {
            "text/plain": [
              "RandomForestClassifier(bootstrap=True, ccp_alpha=0.0, class_weight=None,\n",
              "                       criterion='gini', max_depth=None, max_features='auto',\n",
              "                       max_leaf_nodes=None, max_samples=None,\n",
              "                       min_impurity_decrease=0.0, min_impurity_split=None,\n",
              "                       min_samples_leaf=1, min_samples_split=2,\n",
              "                       min_weight_fraction_leaf=0.0, n_estimators=100,\n",
              "                       n_jobs=None, oob_score=False, random_state=None,\n",
              "                       verbose=0, warm_start=False)"
            ]
          },
          "metadata": {
            "tags": []
          },
          "execution_count": 1156
        }
      ]
    },
    {
      "cell_type": "code",
      "metadata": {
        "id": "f_uzA3r6TCk2",
        "colab_type": "code",
        "colab": {}
      },
      "source": [
        "#pred_rf = rf.predict(Att_x_test)"
      ],
      "execution_count": null,
      "outputs": []
    },
    {
      "cell_type": "code",
      "metadata": {
        "id": "dRpGLtJWTCk9",
        "colab_type": "code",
        "colab": {},
        "outputId": "78043b41-d91c-4f9d-f04e-e9d895f1c801"
      },
      "source": [
        "tab_rf = confusion_matrix(pred_rf, Attri_y_test)\n",
        "tab_rf"
      ],
      "execution_count": null,
      "outputs": [
        {
          "output_type": "execute_result",
          "data": {
            "text/plain": [
              "array([[202,  39],\n",
              "       [ 47,   6]], dtype=int64)"
            ]
          },
          "metadata": {
            "tags": []
          },
          "execution_count": 1158
        }
      ]
    },
    {
      "cell_type": "code",
      "metadata": {
        "id": "r0xSmhotTClD",
        "colab_type": "code",
        "colab": {},
        "outputId": "bbac3417-a1f6-456a-fe61-bad531697fc9"
      },
      "source": [
        "tab_rf.diagonal().sum()/tab_rf.sum()*100"
      ],
      "execution_count": null,
      "outputs": [
        {
          "output_type": "execute_result",
          "data": {
            "text/plain": [
              "70.74829931972789"
            ]
          },
          "metadata": {
            "tags": []
          },
          "execution_count": 1159
        }
      ]
    },
    {
      "cell_type": "markdown",
      "metadata": {
        "id": "5n7Hau5JTClJ",
        "colab_type": "text"
      },
      "source": [
        "# BOOSTING"
      ]
    },
    {
      "cell_type": "code",
      "metadata": {
        "id": "QsSEXgiTTClK",
        "colab_type": "code",
        "colab": {}
      },
      "source": [
        "from sklearn.ensemble import AdaBoostClassifier\n",
        "from sklearn.tree import DecisionTreeClassifier"
      ],
      "execution_count": null,
      "outputs": []
    },
    {
      "cell_type": "code",
      "metadata": {
        "id": "qIT3eOdATClP",
        "colab_type": "code",
        "colab": {}
      },
      "source": [
        "Abc = AdaBoostClassifier(DecisionTreeClassifier(), n_estimators=15)"
      ],
      "execution_count": null,
      "outputs": []
    },
    {
      "cell_type": "code",
      "metadata": {
        "id": "JloxbUdjTClW",
        "colab_type": "code",
        "colab": {},
        "outputId": "0170ec8d-814d-41c8-d8ed-dc75d634a709"
      },
      "source": [
        "Abc.fit(Attri_x_train, Attri_y_train)"
      ],
      "execution_count": null,
      "outputs": [
        {
          "output_type": "execute_result",
          "data": {
            "text/plain": [
              "AdaBoostClassifier(algorithm='SAMME.R',\n",
              "                   base_estimator=DecisionTreeClassifier(ccp_alpha=0.0,\n",
              "                                                         class_weight=None,\n",
              "                                                         criterion='gini',\n",
              "                                                         max_depth=None,\n",
              "                                                         max_features=None,\n",
              "                                                         max_leaf_nodes=None,\n",
              "                                                         min_impurity_decrease=0.0,\n",
              "                                                         min_impurity_split=None,\n",
              "                                                         min_samples_leaf=1,\n",
              "                                                         min_samples_split=2,\n",
              "                                                         min_weight_fraction_leaf=0.0,\n",
              "                                                         presort='deprecated',\n",
              "                                                         random_state=None,\n",
              "                                                         splitter='best'),\n",
              "                   learning_rate=1.0, n_estimators=15, random_state=None)"
            ]
          },
          "metadata": {
            "tags": []
          },
          "execution_count": 1162
        }
      ]
    },
    {
      "cell_type": "code",
      "metadata": {
        "id": "naW1sBPcTClc",
        "colab_type": "code",
        "colab": {}
      },
      "source": [
        "#pred_boost = Abc.predict(Att_x_test)"
      ],
      "execution_count": null,
      "outputs": []
    },
    {
      "cell_type": "code",
      "metadata": {
        "id": "bmgFqJ-WTCli",
        "colab_type": "code",
        "colab": {},
        "outputId": "b58f36f3-711a-40cd-f43f-14978df5644b"
      },
      "source": [
        "tab_boost = confusion_matrix(pred_boost, Attri_y_test)\n",
        "tab_boost"
      ],
      "execution_count": null,
      "outputs": [
        {
          "output_type": "execute_result",
          "data": {
            "text/plain": [
              "array([[209,  32],\n",
              "       [ 40,  13]], dtype=int64)"
            ]
          },
          "metadata": {
            "tags": []
          },
          "execution_count": 1053
        }
      ]
    },
    {
      "cell_type": "code",
      "metadata": {
        "id": "RFQZZc6WTClq",
        "colab_type": "code",
        "colab": {},
        "outputId": "31386588-af2a-4484-f6df-9cbffcba9ae2"
      },
      "source": [
        "tab_boost.diagonal().sum()/tab_boost.sum()*100"
      ],
      "execution_count": null,
      "outputs": [
        {
          "output_type": "execute_result",
          "data": {
            "text/plain": [
              "75.51020408163265"
            ]
          },
          "metadata": {
            "tags": []
          },
          "execution_count": 1054
        }
      ]
    },
    {
      "cell_type": "markdown",
      "metadata": {
        "id": "KeAwT1tUTCl7",
        "colab_type": "text"
      },
      "source": [
        "# CLASS BALANCE"
      ]
    },
    {
      "cell_type": "code",
      "metadata": {
        "id": "wFAo2CzoTCmC",
        "colab_type": "code",
        "colab": {},
        "outputId": "068606c2-e776-4844-c10f-03630bad9574"
      },
      "source": [
        "from sklearn.tree import DecisionTreeClassifier\n",
        "Dt = DecisionTreeClassifier(class_weight = 'balanced')\n",
        "Dt.fit(Attri_x_train, Attri_y_train)"
      ],
      "execution_count": null,
      "outputs": [
        {
          "output_type": "execute_result",
          "data": {
            "text/plain": [
              "DecisionTreeClassifier(ccp_alpha=0.0, class_weight='balanced', criterion='gini',\n",
              "                       max_depth=None, max_features=None, max_leaf_nodes=None,\n",
              "                       min_impurity_decrease=0.0, min_impurity_split=None,\n",
              "                       min_samples_leaf=1, min_samples_split=2,\n",
              "                       min_weight_fraction_leaf=0.0, presort='deprecated',\n",
              "                       random_state=None, splitter='best')"
            ]
          },
          "metadata": {
            "tags": []
          },
          "execution_count": 1055
        }
      ]
    },
    {
      "cell_type": "code",
      "metadata": {
        "id": "malEVt95TCmJ",
        "colab_type": "code",
        "colab": {}
      },
      "source": [
        "#Dt_pred = Dt.predict(Att_x_test)\n",
        "#tab2 = confusion_matrix(Dt_pred, Attri_y_test)\n",
        "#tab2"
      ],
      "execution_count": null,
      "outputs": []
    },
    {
      "cell_type": "code",
      "metadata": {
        "id": "M20VHwKpTCmT",
        "colab_type": "code",
        "colab": {},
        "outputId": "4ac4e3b5-3968-437c-fde7-a9548b5e008a"
      },
      "source": [
        "tab2.diagonal().sum()/tab2.sum()*100"
      ],
      "execution_count": null,
      "outputs": [
        {
          "output_type": "execute_result",
          "data": {
            "text/plain": [
              "85.03401360544217"
            ]
          },
          "metadata": {
            "tags": []
          },
          "execution_count": 1057
        }
      ]
    },
    {
      "cell_type": "code",
      "metadata": {
        "id": "rW1KI-pSTCmZ",
        "colab_type": "code",
        "colab": {}
      },
      "source": [
        ""
      ],
      "execution_count": null,
      "outputs": []
    },
    {
      "cell_type": "code",
      "metadata": {
        "id": "XlV0ZQEtTCml",
        "colab_type": "code",
        "colab": {}
      },
      "source": [
        ""
      ],
      "execution_count": null,
      "outputs": []
    },
    {
      "cell_type": "code",
      "metadata": {
        "id": "1tMqLuoTTCmq",
        "colab_type": "code",
        "colab": {}
      },
      "source": [
        ""
      ],
      "execution_count": null,
      "outputs": []
    },
    {
      "cell_type": "code",
      "metadata": {
        "id": "pHp0RRJqTCmw",
        "colab_type": "code",
        "colab": {}
      },
      "source": [
        ""
      ],
      "execution_count": null,
      "outputs": []
    },
    {
      "cell_type": "code",
      "metadata": {
        "id": "IWqOmx2HTCm1",
        "colab_type": "code",
        "colab": {}
      },
      "source": [
        ""
      ],
      "execution_count": null,
      "outputs": []
    },
    {
      "cell_type": "code",
      "metadata": {
        "id": "WfaafjYqTCm8",
        "colab_type": "code",
        "colab": {}
      },
      "source": [
        ""
      ],
      "execution_count": null,
      "outputs": []
    },
    {
      "cell_type": "code",
      "metadata": {
        "id": "R-zCR-AGTCnB",
        "colab_type": "code",
        "colab": {}
      },
      "source": [
        ""
      ],
      "execution_count": null,
      "outputs": []
    },
    {
      "cell_type": "code",
      "metadata": {
        "id": "_MU9vhN5TCnG",
        "colab_type": "code",
        "colab": {}
      },
      "source": [
        ""
      ],
      "execution_count": null,
      "outputs": []
    },
    {
      "cell_type": "code",
      "metadata": {
        "id": "rija291gTCnL",
        "colab_type": "code",
        "colab": {}
      },
      "source": [
        ""
      ],
      "execution_count": null,
      "outputs": []
    }
  ]
}